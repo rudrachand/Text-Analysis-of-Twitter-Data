{
 "cells": [
  {
   "cell_type": "code",
   "execution_count": 1,
   "metadata": {},
   "outputs": [
    {
     "name": "stderr",
     "output_type": "stream",
     "text": [
      "[nltk_data] Downloading package punkt to\n",
      "[nltk_data]     C:\\Users\\Toshiba\\AppData\\Roaming\\nltk_data...\n",
      "[nltk_data]   Package punkt is already up-to-date!\n",
      "[nltk_data] Downloading package wordnet to\n",
      "[nltk_data]     C:\\Users\\Toshiba\\AppData\\Roaming\\nltk_data...\n",
      "[nltk_data]   Package wordnet is already up-to-date!\n"
     ]
    }
   ],
   "source": [
    "#Import libraries\n",
    "import pandas as pd\n",
    "import nltk\n",
    "import tweepy\n",
    "nltk.download('punkt')\n",
    "nltk.download('wordnet')\n",
    "from nltk import sent_tokenize, word_tokenize\n",
    "from nltk.stem.snowball import SnowballStemmer\n",
    "from nltk.stem.wordnet import WordNetLemmatizer\n",
    "from nltk.corpus import stopwords\n",
    "import matplotlib.pyplot as plt\n",
    "import re\n",
    "import spacy\n",
    "nlp = spacy.load('en_core_web_lg')\n",
    "import seaborn as sns\n",
    "import datetime as dt\n",
    "import warnings\n",
    "warnings.filterwarnings('ignore')\n",
    "from textblob import TextBlob\n",
    "import os\n",
    "import time\n",
    "os.chdir('F:/Use Cases ML/SMA')"
   ]
  },
  {
   "cell_type": "code",
   "execution_count": 2,
   "metadata": {},
   "outputs": [],
   "source": [
    "#Importing twitter API credentials\n",
    "%run ./keys_tweeter.ipynb"
   ]
  },
  {
   "cell_type": "code",
   "execution_count": 3,
   "metadata": {},
   "outputs": [],
   "source": [
    "auth = tweepy.OAuthHandler(consumer_key,consumer_secret)\n",
    "auth.set_access_token(access_token,access_token_secret)\n",
    "api = tweepy.API(auth,wait_on_rate_limit=True)"
   ]
  },
  {
   "cell_type": "code",
   "execution_count": 4,
   "metadata": {},
   "outputs": [],
   "source": [
    "search_terms = 'spinal muscular atrophy '\n",
    "lang = 'english'\n",
    "date_since = \"2021-05-01\"\n",
    "tweets = []\n",
    "likes = []\n",
    "time = []\n",
    "#cursor = tweepy.Cursor(api.search,q=search_terms,tweet_mode = \"extended\",since='2021-01-01', until='2021-05-10').items()\n",
    "for i in tweepy.Cursor(api.search,q=search_terms,lang=\"en\",tweet_mode = \"extended\",\\\n",
    "                       since_id=date_since,count=200).items():\n",
    "    tweets.append(i.full_text)\n",
    "    likes.append(i.favorite_count)\n",
    "    time.append(i.created_at)"
   ]
  },
  {
   "cell_type": "code",
   "execution_count": 5,
   "metadata": {},
   "outputs": [],
   "source": [
    "df = pd.DataFrame({'tweets':tweets,'likes':likes,'time':time})"
   ]
  },
  {
   "cell_type": "code",
   "execution_count": 6,
   "metadata": {},
   "outputs": [],
   "source": [
    "#Removing retweets\n",
    "df = df[~df.tweets.str.contains(\"RT\")]\n",
    "df=df.reset_index(drop=True)"
   ]
  },
  {
   "cell_type": "code",
   "execution_count": 7,
   "metadata": {},
   "outputs": [],
   "source": [
    "df.to_csv('Tweets.csv',index=True)"
   ]
  },
  {
   "cell_type": "code",
   "execution_count": 8,
   "metadata": {},
   "outputs": [],
   "source": [
    "mostlike = df.loc[df.likes.nlargest(10).index]"
   ]
  },
  {
   "cell_type": "code",
   "execution_count": 9,
   "metadata": {},
   "outputs": [
    {
     "data": {
      "text/html": [
       "<div>\n",
       "<style scoped>\n",
       "    .dataframe tbody tr th:only-of-type {\n",
       "        vertical-align: middle;\n",
       "    }\n",
       "\n",
       "    .dataframe tbody tr th {\n",
       "        vertical-align: top;\n",
       "    }\n",
       "\n",
       "    .dataframe thead th {\n",
       "        text-align: right;\n",
       "    }\n",
       "</style>\n",
       "<table border=\"1\" class=\"dataframe\">\n",
       "  <thead>\n",
       "    <tr style=\"text-align: right;\">\n",
       "      <th></th>\n",
       "      <th>tweets</th>\n",
       "      <th>likes</th>\n",
       "      <th>time</th>\n",
       "    </tr>\n",
       "  </thead>\n",
       "  <tbody>\n",
       "    <tr>\n",
       "      <th>75</th>\n",
       "      <td>What an adorable man!! #AkınAkınözü donated th...</td>\n",
       "      <td>395</td>\n",
       "      <td>2021-05-21 19:53:46</td>\n",
       "    </tr>\n",
       "    <tr>\n",
       "      <th>95</th>\n",
       "      <td>I love it when I share the good news. Ukrainia...</td>\n",
       "      <td>68</td>\n",
       "      <td>2021-05-21 11:47:07</td>\n",
       "    </tr>\n",
       "    <tr>\n",
       "      <th>36</th>\n",
       "      <td>@Runjhunsharmas  \\nPls share about  #ayaansh @...</td>\n",
       "      <td>32</td>\n",
       "      <td>2021-05-22 14:48:22</td>\n",
       "    </tr>\n",
       "    <tr>\n",
       "      <th>226</th>\n",
       "      <td>@AnupamPKher @AnupamPKher Sir, Plz extend a li...</td>\n",
       "      <td>28</td>\n",
       "      <td>2021-05-19 04:26:03</td>\n",
       "    </tr>\n",
       "    <tr>\n",
       "      <th>181</th>\n",
       "      <td>Zolgensma, a form of gene therapy for babies a...</td>\n",
       "      <td>26</td>\n",
       "      <td>2021-05-19 17:05:41</td>\n",
       "    </tr>\n",
       "    <tr>\n",
       "      <th>94</th>\n",
       "      <td>#SaveAyaanshGupta, he has been suffering from ...</td>\n",
       "      <td>22</td>\n",
       "      <td>2021-05-21 13:13:54</td>\n",
       "    </tr>\n",
       "    <tr>\n",
       "      <th>101</th>\n",
       "      <td>@raimasen,mam @FightsSma is a 3 years old kid ...</td>\n",
       "      <td>21</td>\n",
       "      <td>2021-05-21 07:04:42</td>\n",
       "    </tr>\n",
       "    <tr>\n",
       "      <th>35</th>\n",
       "      <td>translation thread:\\n\\n\"From a young age, I ha...</td>\n",
       "      <td>17</td>\n",
       "      <td>2021-05-22 14:57:06</td>\n",
       "    </tr>\n",
       "    <tr>\n",
       "      <th>302</th>\n",
       "      <td>Dear @netshrink , @FightsSma is a 2 years and ...</td>\n",
       "      <td>17</td>\n",
       "      <td>2021-05-17 20:00:52</td>\n",
       "    </tr>\n",
       "    <tr>\n",
       "      <th>78</th>\n",
       "      <td>@mindykaling @mindykaling please extend ur lil...</td>\n",
       "      <td>15</td>\n",
       "      <td>2021-05-21 19:06:55</td>\n",
       "    </tr>\n",
       "  </tbody>\n",
       "</table>\n",
       "</div>"
      ],
      "text/plain": [
       "                                                tweets  likes  \\\n",
       "75   What an adorable man!! #AkınAkınözü donated th...    395   \n",
       "95   I love it when I share the good news. Ukrainia...     68   \n",
       "36   @Runjhunsharmas  \\nPls share about  #ayaansh @...     32   \n",
       "226  @AnupamPKher @AnupamPKher Sir, Plz extend a li...     28   \n",
       "181  Zolgensma, a form of gene therapy for babies a...     26   \n",
       "94   #SaveAyaanshGupta, he has been suffering from ...     22   \n",
       "101  @raimasen,mam @FightsSma is a 3 years old kid ...     21   \n",
       "35   translation thread:\\n\\n\"From a young age, I ha...     17   \n",
       "302  Dear @netshrink , @FightsSma is a 2 years and ...     17   \n",
       "78   @mindykaling @mindykaling please extend ur lil...     15   \n",
       "\n",
       "                   time  \n",
       "75  2021-05-21 19:53:46  \n",
       "95  2021-05-21 11:47:07  \n",
       "36  2021-05-22 14:48:22  \n",
       "226 2021-05-19 04:26:03  \n",
       "181 2021-05-19 17:05:41  \n",
       "94  2021-05-21 13:13:54  \n",
       "101 2021-05-21 07:04:42  \n",
       "35  2021-05-22 14:57:06  \n",
       "302 2021-05-17 20:00:52  \n",
       "78  2021-05-21 19:06:55  "
      ]
     },
     "execution_count": 9,
     "metadata": {},
     "output_type": "execute_result"
    }
   ],
   "source": [
    "mostlike"
   ]
  },
  {
   "cell_type": "code",
   "execution_count": 10,
   "metadata": {},
   "outputs": [],
   "source": [
    "list_of_sentences = [sentence for sentence in df.tweets]\n",
    "lines = []\n",
    "for sentence in list_of_sentences:\n",
    "    words = sentence.split()\n",
    "    for w in words:\n",
    "        lines.append(w)"
   ]
  },
  {
   "cell_type": "code",
   "execution_count": 11,
   "metadata": {},
   "outputs": [],
   "source": [
    "#Removing Punctuation\n",
    "lines = [re.sub(r'[^A-Za-z0-9]+', '', x) for x in lines]\n",
    "lines2 = []\n",
    "for word in lines:\n",
    "    if word != '':\n",
    "        lines2.append(word)"
   ]
  },
  {
   "cell_type": "code",
   "execution_count": 12,
   "metadata": {},
   "outputs": [],
   "source": [
    "#This is stemming the words to their root\n",
    "from nltk.stem.snowball import SnowballStemmer\n",
    "\n",
    "# The Snowball Stemmer requires that you pass a language parameter\n",
    "s_stemmer = SnowballStemmer(language='english')\n",
    "\n",
    "stem = []\n",
    "for word in lines2:\n",
    "    stem.append(s_stemmer.stem(word))"
   ]
  },
  {
   "cell_type": "code",
   "execution_count": 13,
   "metadata": {},
   "outputs": [],
   "source": [
    "#Removing all Stop Words\n",
    "stem2 = []\n",
    "nlp.Defaults.stop_words |= {\"muscular\",\"spinal\",\"atrophi\",\"plz\",\"eidmubarak\",\"httpstcogffidzouvt\",\n",
    "                            \"extend\",\"3yr\",\"ayaansh\",\"veri\",\"need\",\"60\",\"cant\",\"hold\",\"help\",\n",
    "                            \"httpstco2fbyisqr85\",\"saveayaanshgupta\",\"atrophyh\",\"old\",\"httpstcot0bldsdqgk\",\n",
    "                            \"fightssma3yr\",\"evn\",\"lil\",\"littl\",\"fightssma\",\"come\",\"sir\",\n",
    "                            \"Ayaansh\",\"AYUSH\",\"anoth\",\"pleas\",\"condit\",\"httpstcosik3d8xot1\",\"month\",\n",
    "                            \"year\",\"2\",\"11\",\"1\",\"3\"}\n",
    "for word in stem:\n",
    "    if word not in nlp.Defaults.stop_words:\n",
    "        stem2.append(word)"
   ]
  },
  {
   "cell_type": "code",
   "execution_count": 14,
   "metadata": {},
   "outputs": [],
   "source": [
    "df1 = pd.DataFrame(stem2)\n",
    "df1 = df1[0].value_counts()"
   ]
  },
  {
   "cell_type": "code",
   "execution_count": 15,
   "metadata": {},
   "outputs": [
    {
     "data": {
      "image/png": "[encoded data removed]",
      "text/plain": [
       "<Figure size 720x360 with 1 Axes>"
      ]
     },
     "metadata": {
      "needs_background": "light"
     },
     "output_type": "display_data"
    }
   ],
   "source": [
    "df1 = df1[:30,]\n",
    "plt.figure(figsize=(10,5))\n",
    "sns.barplot(df1.values, df1.index, alpha=0.8)\n",
    "plt.title('Top Words Overall')\n",
    "plt.ylabel('Word from Tweet', fontsize=14)\n",
    "plt.xlabel('Count of Words', fontsize=14)\n",
    "plt.show()"
   ]
  },
  {
   "cell_type": "code",
   "execution_count": 16,
   "metadata": {},
   "outputs": [],
   "source": [
    "def show_ents(doc):\n",
    "    if doc.ents:\n",
    "        for ent in doc.ents:\n",
    "            print(ent.text + ' - ' + ent.label_ + ' - ' + str(spacy.explain(ent.label_)))"
   ]
  },
  {
   "cell_type": "code",
   "execution_count": 17,
   "metadata": {},
   "outputs": [],
   "source": [
    "str1 = \" \" \n",
    "stem2 = str1.join(lines2)\n",
    "stem2 = nlp(stem2)\n",
    "label = [(X.text, X.label_) for X in stem2.ents]\n",
    "df6 = pd.DataFrame(label, columns = ['Word','Entity'])\n",
    "df7 = df6.where(df6['Entity'] == 'ORG')\n",
    "df7 = df7['Word'].value_counts()"
   ]
  },
  {
   "cell_type": "code",
   "execution_count": 18,
   "metadata": {},
   "outputs": [],
   "source": [
    "#df7"
   ]
  },
  {
   "cell_type": "code",
   "execution_count": 19,
   "metadata": {},
   "outputs": [],
   "source": [
    "#df7.drop([\"Ayaansh FightsSma 3yr old\"],axis=0,inplace=True)"
   ]
  },
  {
   "cell_type": "code",
   "execution_count": 18,
   "metadata": {},
   "outputs": [
    {
     "data": {
      "image/png": "[encoded data removed]",
      "text/plain": [
       "<Figure size 720x360 with 1 Axes>"
      ]
     },
     "metadata": {
      "needs_background": "light"
     },
     "output_type": "display_data"
    }
   ],
   "source": [
    "df = df7[:20,]\n",
    "plt.figure(figsize=(10,5))\n",
    "sns.barplot(df.values, df.index, alpha=0.8)\n",
    "plt.title('Top Organizations Mentioned')\n",
    "plt.ylabel('Word from Tweet', fontsize=12)\n",
    "plt.xlabel('Count of Words', fontsize=12)\n",
    "plt.show()"
   ]
  },
  {
   "cell_type": "code",
   "execution_count": 19,
   "metadata": {},
   "outputs": [],
   "source": [
    "str1 = \" \" \n",
    "stem2 = str1.join(lines2)\n",
    "\n",
    "stem2 = nlp(stem2)\n",
    "\n",
    "label = [(X.text, X.label_) for X in stem2.ents]\n",
    "\n",
    "df10 = pd.DataFrame(label, columns = ['Word','Entity'])\n",
    "\n",
    "df10 = df10.where(df10['Entity'] == 'PERSON')\n",
    "\n",
    "df11 = df10['Word'].value_counts()"
   ]
  },
  {
   "cell_type": "code",
   "execution_count": 22,
   "metadata": {},
   "outputs": [],
   "source": [
    "#df11.drop([\"Plz\",\"Ayaansh\",\"Little Ayaansh Gupta\",\"Baby Ayaansh Gupta\"],axis=0,inplace=True)\n",
    "#df11.drop([\"Zolgensma\"],axis=0,inplace=True)"
   ]
  },
  {
   "cell_type": "code",
   "execution_count": 20,
   "metadata": {},
   "outputs": [
    {
     "data": {
      "image/png": "[encoded data removed]",
      "text/plain": [
       "<Figure size 720x360 with 1 Axes>"
      ]
     },
     "metadata": {
      "needs_background": "light"
     },
     "output_type": "display_data"
    }
   ],
   "source": [
    "df = df11[:20,]\n",
    "plt.figure(figsize=(10,5))\n",
    "sns.barplot(df.values, df.index, alpha=0.8)\n",
    "plt.title('Top People Mentioned')\n",
    "plt.ylabel('Word from Tweet', fontsize=12)\n",
    "plt.xlabel('Count of Words', fontsize=12)\n",
    "plt.show()"
   ]
  }
 ],
 "metadata": {
  "kernelspec": {
   "display_name": "Python 3",
   "language": "python",
   "name": "python3"
  },
  "language_info": {
   "codemirror_mode": {
    "name": "ipython",
    "version": 3
   },
   "file_extension": ".py",
   "mimetype": "text/x-python",
   "name": "python",
   "nbconvert_exporter": "python",
   "pygments_lexer": "ipython3",
   "version": "3.7.3"
  }
 },
 "nbformat": 4,
 "nbformat_minor": 4
}
