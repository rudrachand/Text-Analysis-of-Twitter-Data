{
 "cells": [
  {
   "cell_type": "code",
   "execution_count": 1,
   "metadata": {},
   "outputs": [
    {
     "data": {
      "text/html": [
       "\n",
       "    <div class=\"bk-root\">\n",
       "        <a href=\"https://bokeh.org\" target=\"_blank\" class=\"bk-logo bk-logo-small bk-logo-notebook\"></a>\n",
       "        <span id=\"1002\">Loading BokehJS ...</span>\n",
       "    </div>"
      ]
     },
     "metadata": {},
     "output_type": "display_data"
    },
    {
     "data": {
      "application/javascript": [
       "\n",
       "(function(root) {\n",
       "  function now() {\n",
       "    return new Date();\n",
       "  }\n",
       "\n",
       "  var force = true;\n",
       "\n",
       "  if (typeof root._bokeh_onload_callbacks === \"undefined\" || force === true) {\n",
       "    root._bokeh_onload_callbacks = [];\n",
       "    root._bokeh_is_loading = undefined;\n",
       "  }\n",
       "\n",
       "  var JS_MIME_TYPE = 'application/javascript';\n",
       "  var HTML_MIME_TYPE = 'text/html';\n",
       "  var EXEC_MIME_TYPE = 'application/vnd.bokehjs_exec.v0+json';\n",
       "  var CLASS_NAME = 'output_bokeh rendered_html';\n",
       "\n",
       "  /**\n",
       "   * Render data to the DOM node\n",
       "   */\n",
       "  function render(props, node) {\n",
       "    var script = document.createElement(\"script\");\n",
       "    node.appendChild(script);\n",
       "  }\n",
       "\n",
       "  /**\n",
       "   * Handle when an output is cleared or removed\n",
       "   */\n",
       "  function handleClearOutput(event, handle) {\n",
       "    var cell = handle.cell;\n",
       "\n",
       "    var id = cell.output_area._bokeh_element_id;\n",
       "    var server_id = cell.output_area._bokeh_server_id;\n",
       "    // Clean up Bokeh references\n",
       "    if (id != null && id in Bokeh.index) {\n",
       "      Bokeh.index[id].model.document.clear();\n",
       "      delete Bokeh.index[id];\n",
       "    }\n",
       "\n",
       "    if (server_id !== undefined) {\n",
       "      // Clean up Bokeh references\n",
       "      var cmd = \"from bokeh.io.state import curstate; print(curstate().uuid_to_server['\" + server_id + \"'].get_sessions()[0].document.roots[0]._id)\";\n",
       "      cell.notebook.kernel.execute(cmd, {\n",
       "        iopub: {\n",
       "          output: function(msg) {\n",
       "            var id = msg.content.text.trim();\n",
       "            if (id in Bokeh.index) {\n",
       "              Bokeh.index[id].model.document.clear();\n",
       "              delete Bokeh.index[id];\n",
       "            }\n",
       "          }\n",
       "        }\n",
       "      });\n",
       "      // Destroy server and session\n",
       "      var cmd = \"import bokeh.io.notebook as ion; ion.destroy_server('\" + server_id + \"')\";\n",
       "      cell.notebook.kernel.execute(cmd);\n",
       "    }\n",
       "  }\n",
       "\n",
       "  /**\n",
       "   * Handle when a new output is added\n",
       "   */\n",
       "  function handleAddOutput(event, handle) {\n",
       "    var output_area = handle.output_area;\n",
       "    var output = handle.output;\n",
       "\n",
       "    // limit handleAddOutput to display_data with EXEC_MIME_TYPE content only\n",
       "    if ((output.output_type != \"display_data\") || (!Object.prototype.hasOwnProperty.call(output.data, EXEC_MIME_TYPE))) {\n",
       "      return\n",
       "    }\n",
       "\n",
       "    var toinsert = output_area.element.find(\".\" + CLASS_NAME.split(' ')[0]);\n",
       "\n",
       "    if (output.metadata[EXEC_MIME_TYPE][\"id\"] !== undefined) {\n",
       "      toinsert[toinsert.length - 1].firstChild.textContent = output.data[JS_MIME_TYPE];\n",
       "      // store reference to embed id on output_area\n",
       "      output_area._bokeh_element_id = output.metadata[EXEC_MIME_TYPE][\"id\"];\n",
       "    }\n",
       "    if (output.metadata[EXEC_MIME_TYPE][\"server_id\"] !== undefined) {\n",
       "      var bk_div = document.createElement(\"div\");\n",
       "      bk_div.innerHTML = output.data[HTML_MIME_TYPE];\n",
       "      var script_attrs = bk_div.children[0].attributes;\n",
       "      for (var i = 0; i < script_attrs.length; i++) {\n",
       "        toinsert[toinsert.length - 1].firstChild.setAttribute(script_attrs[i].name, script_attrs[i].value);\n",
       "        toinsert[toinsert.length - 1].firstChild.textContent = bk_div.children[0].textContent\n",
       "      }\n",
       "      // store reference to server id on output_area\n",
       "      output_area._bokeh_server_id = output.metadata[EXEC_MIME_TYPE][\"server_id\"];\n",
       "    }\n",
       "  }\n",
       "\n",
       "  function register_renderer(events, OutputArea) {\n",
       "\n",
       "    function append_mime(data, metadata, element) {\n",
       "      // create a DOM node to render to\n",
       "      var toinsert = this.create_output_subarea(\n",
       "        metadata,\n",
       "        CLASS_NAME,\n",
       "        EXEC_MIME_TYPE\n",
       "      );\n",
       "      this.keyboard_manager.register_events(toinsert);\n",
       "      // Render to node\n",
       "      var props = {data: data, metadata: metadata[EXEC_MIME_TYPE]};\n",
       "      render(props, toinsert[toinsert.length - 1]);\n",
       "      element.append(toinsert);\n",
       "      return toinsert\n",
       "    }\n",
       "\n",
       "    /* Handle when an output is cleared or removed */\n",
       "    events.on('clear_output.CodeCell', handleClearOutput);\n",
       "    events.on('delete.Cell', handleClearOutput);\n",
       "\n",
       "    /* Handle when a new output is added */\n",
       "    events.on('output_added.OutputArea', handleAddOutput);\n",
       "\n",
       "    /**\n",
       "     * Register the mime type and append_mime function with output_area\n",
       "     */\n",
       "    OutputArea.prototype.register_mime_type(EXEC_MIME_TYPE, append_mime, {\n",
       "      /* Is output safe? */\n",
       "      safe: true,\n",
       "      /* Index of renderer in `output_area.display_order` */\n",
       "      index: 0\n",
       "    });\n",
       "  }\n",
       "\n",
       "  // register the mime type if in Jupyter Notebook environment and previously unregistered\n",
       "  if (root.Jupyter !== undefined) {\n",
       "    var events = require('base/js/events');\n",
       "    var OutputArea = require('notebook/js/outputarea').OutputArea;\n",
       "\n",
       "    if (OutputArea.prototype.mime_types().indexOf(EXEC_MIME_TYPE) == -1) {\n",
       "      register_renderer(events, OutputArea);\n",
       "    }\n",
       "  }\n",
       "\n",
       "  \n",
       "  if (typeof (root._bokeh_timeout) === \"undefined\" || force === true) {\n",
       "    root._bokeh_timeout = Date.now() + 5000;\n",
       "    root._bokeh_failed_load = false;\n",
       "  }\n",
       "\n",
       "  var NB_LOAD_WARNING = {'data': {'text/html':\n",
       "     \"<div style='background-color: #fdd'>\\n\"+\n",
       "     \"<p>\\n\"+\n",
       "     \"BokehJS does not appear to have successfully loaded. If loading BokehJS from CDN, this \\n\"+\n",
       "     \"may be due to a slow or bad network connection. Possible fixes:\\n\"+\n",
       "     \"</p>\\n\"+\n",
       "     \"<ul>\\n\"+\n",
       "     \"<li>re-rerun `output_notebook()` to attempt to load from CDN again, or</li>\\n\"+\n",
       "     \"<li>use INLINE resources instead, as so:</li>\\n\"+\n",
       "     \"</ul>\\n\"+\n",
       "     \"<code>\\n\"+\n",
       "     \"from bokeh.resources import INLINE\\n\"+\n",
       "     \"output_notebook(resources=INLINE)\\n\"+\n",
       "     \"</code>\\n\"+\n",
       "     \"</div>\"}};\n",
       "\n",
       "  function display_loaded() {\n",
       "    var el = document.getElementById(\"1002\");\n",
       "    if (el != null) {\n",
       "      el.textContent = \"BokehJS is loading...\";\n",
       "    }\n",
       "    if (root.Bokeh !== undefined) {\n",
       "      if (el != null) {\n",
       "        el.textContent = \"BokehJS \" + root.Bokeh.version + \" successfully loaded.\";\n",
       "      }\n",
       "    } else if (Date.now() < root._bokeh_timeout) {\n",
       "      setTimeout(display_loaded, 100)\n",
       "    }\n",
       "  }\n",
       "\n",
       "\n",
       "  function run_callbacks() {\n",
       "    try {\n",
       "      root._bokeh_onload_callbacks.forEach(function(callback) {\n",
       "        if (callback != null)\n",
       "          callback();\n",
       "      });\n",
       "    } finally {\n",
       "      delete root._bokeh_onload_callbacks\n",
       "    }\n",
       "    console.debug(\"Bokeh: all callbacks have finished\");\n",
       "  }\n",
       "\n",
       "  function load_libs(css_urls, js_urls, callback) {\n",
       "    if (css_urls == null) css_urls = [];\n",
       "    if (js_urls == null) js_urls = [];\n",
       "\n",
       "    root._bokeh_onload_callbacks.push(callback);\n",
       "    if (root._bokeh_is_loading > 0) {\n",
       "      console.debug(\"Bokeh: BokehJS is being loaded, scheduling callback at\", now());\n",
       "      return null;\n",
       "    }\n",
       "    if (js_urls == null || js_urls.length === 0) {\n",
       "      run_callbacks();\n",
       "      return null;\n",
       "    }\n",
       "    console.debug(\"Bokeh: BokehJS not loaded, scheduling load and callback at\", now());\n",
       "    root._bokeh_is_loading = css_urls.length + js_urls.length;\n",
       "\n",
       "    function on_load() {\n",
       "      root._bokeh_is_loading--;\n",
       "      if (root._bokeh_is_loading === 0) {\n",
       "        console.debug(\"Bokeh: all BokehJS libraries/stylesheets loaded\");\n",
       "        run_callbacks()\n",
       "      }\n",
       "    }\n",
       "\n",
       "    function on_error(url) {\n",
       "      console.error(\"failed to load \" + url);\n",
       "    }\n",
       "\n",
       "    for (let i = 0; i < css_urls.length; i++) {\n",
       "      const url = css_urls[i];\n",
       "      const element = document.createElement(\"link\");\n",
       "      element.onload = on_load;\n",
       "      element.onerror = on_error.bind(null, url);\n",
       "      element.rel = \"stylesheet\";\n",
       "      element.type = \"text/css\";\n",
       "      element.href = url;\n",
       "      console.debug(\"Bokeh: injecting link tag for BokehJS stylesheet: \", url);\n",
       "      document.body.appendChild(element);\n",
       "    }\n",
       "\n",
       "    const hashes = {\"https://cdn.bokeh.org/bokeh/release/bokeh-2.3.1.min.js\": \"YF85VygJKMVnHE+lLv2AM93Vbstr0yo2TbIu5v8se5Rq3UQAUmcuh4aaJwNlpKwa\", \"https://cdn.bokeh.org/bokeh/release/bokeh-widgets-2.3.1.min.js\": \"KKuas3gevv3PvrlkyCMzffFeaMq5we/a2QsP5AUoS3mJ0jmaCL7jirFJN3GoE/lM\", \"https://cdn.bokeh.org/bokeh/release/bokeh-tables-2.3.1.min.js\": \"MK/uFc3YT18pkvvXRl66tTHjP0/dxoSH2e/eiNMFIguKlun2+WVqaPTWmUy/zvh4\"};\n",
       "\n",
       "    for (let i = 0; i < js_urls.length; i++) {\n",
       "      const url = js_urls[i];\n",
       "      const element = document.createElement('script');\n",
       "      element.onload = on_load;\n",
       "      element.onerror = on_error.bind(null, url);\n",
       "      element.async = false;\n",
       "      element.src = url;\n",
       "      if (url in hashes) {\n",
       "        element.crossOrigin = \"anonymous\";\n",
       "        element.integrity = \"sha384-\" + hashes[url];\n",
       "      }\n",
       "      console.debug(\"Bokeh: injecting script tag for BokehJS library: \", url);\n",
       "      document.head.appendChild(element);\n",
       "    }\n",
       "  };\n",
       "\n",
       "  function inject_raw_css(css) {\n",
       "    const element = document.createElement(\"style\");\n",
       "    element.appendChild(document.createTextNode(css));\n",
       "    document.body.appendChild(element);\n",
       "  }\n",
       "\n",
       "  \n",
       "  var js_urls = [\"https://cdn.bokeh.org/bokeh/release/bokeh-2.3.1.min.js\", \"https://cdn.bokeh.org/bokeh/release/bokeh-widgets-2.3.1.min.js\", \"https://cdn.bokeh.org/bokeh/release/bokeh-tables-2.3.1.min.js\"];\n",
       "  var css_urls = [];\n",
       "  \n",
       "\n",
       "  var inline_js = [\n",
       "    function(Bokeh) {\n",
       "      Bokeh.set_log_level(\"info\");\n",
       "    },\n",
       "    function(Bokeh) {\n",
       "    \n",
       "    \n",
       "    }\n",
       "  ];\n",
       "\n",
       "  function run_inline_js() {\n",
       "    \n",
       "    if (root.Bokeh !== undefined || force === true) {\n",
       "      \n",
       "    for (var i = 0; i < inline_js.length; i++) {\n",
       "      inline_js[i].call(root, root.Bokeh);\n",
       "    }\n",
       "    if (force === true) {\n",
       "        display_loaded();\n",
       "      }} else if (Date.now() < root._bokeh_timeout) {\n",
       "      setTimeout(run_inline_js, 100);\n",
       "    } else if (!root._bokeh_failed_load) {\n",
       "      console.log(\"Bokeh: BokehJS failed to load within specified timeout.\");\n",
       "      root._bokeh_failed_load = true;\n",
       "    } else if (force !== true) {\n",
       "      var cell = $(document.getElementById(\"1002\")).parents('.cell').data().cell;\n",
       "      cell.output_area.append_execute_result(NB_LOAD_WARNING)\n",
       "    }\n",
       "\n",
       "  }\n",
       "\n",
       "  if (root._bokeh_is_loading === 0) {\n",
       "    console.debug(\"Bokeh: BokehJS loaded, going straight to plotting\");\n",
       "    run_inline_js();\n",
       "  } else {\n",
       "    load_libs(css_urls, js_urls, function() {\n",
       "      console.debug(\"Bokeh: BokehJS plotting callback run at\", now());\n",
       "      run_inline_js();\n",
       "    });\n",
       "  }\n",
       "}(window));"
      ],
      "application/vnd.bokehjs_load.v0+json": "\n(function(root) {\n  function now() {\n    return new Date();\n  }\n\n  var force = true;\n\n  if (typeof root._bokeh_onload_callbacks === \"undefined\" || force === true) {\n    root._bokeh_onload_callbacks = [];\n    root._bokeh_is_loading = undefined;\n  }\n\n  \n\n  \n  if (typeof (root._bokeh_timeout) === \"undefined\" || force === true) {\n    root._bokeh_timeout = Date.now() + 5000;\n    root._bokeh_failed_load = false;\n  }\n\n  var NB_LOAD_WARNING = {'data': {'text/html':\n     \"<div style='background-color: #fdd'>\\n\"+\n     \"<p>\\n\"+\n     \"BokehJS does not appear to have successfully loaded. If loading BokehJS from CDN, this \\n\"+\n     \"may be due to a slow or bad network connection. Possible fixes:\\n\"+\n     \"</p>\\n\"+\n     \"<ul>\\n\"+\n     \"<li>re-rerun `output_notebook()` to attempt to load from CDN again, or</li>\\n\"+\n     \"<li>use INLINE resources instead, as so:</li>\\n\"+\n     \"</ul>\\n\"+\n     \"<code>\\n\"+\n     \"from bokeh.resources import INLINE\\n\"+\n     \"output_notebook(resources=INLINE)\\n\"+\n     \"</code>\\n\"+\n     \"</div>\"}};\n\n  function display_loaded() {\n    var el = document.getElementById(\"1002\");\n    if (el != null) {\n      el.textContent = \"BokehJS is loading...\";\n    }\n    if (root.Bokeh !== undefined) {\n      if (el != null) {\n        el.textContent = \"BokehJS \" + root.Bokeh.version + \" successfully loaded.\";\n      }\n    } else if (Date.now() < root._bokeh_timeout) {\n      setTimeout(display_loaded, 100)\n    }\n  }\n\n\n  function run_callbacks() {\n    try {\n      root._bokeh_onload_callbacks.forEach(function(callback) {\n        if (callback != null)\n          callback();\n      });\n    } finally {\n      delete root._bokeh_onload_callbacks\n    }\n    console.debug(\"Bokeh: all callbacks have finished\");\n  }\n\n  function load_libs(css_urls, js_urls, callback) {\n    if (css_urls == null) css_urls = [];\n    if (js_urls == null) js_urls = [];\n\n    root._bokeh_onload_callbacks.push(callback);\n    if (root._bokeh_is_loading > 0) {\n      console.debug(\"Bokeh: BokehJS is being loaded, scheduling callback at\", now());\n      return null;\n    }\n    if (js_urls == null || js_urls.length === 0) {\n      run_callbacks();\n      return null;\n    }\n    console.debug(\"Bokeh: BokehJS not loaded, scheduling load and callback at\", now());\n    root._bokeh_is_loading = css_urls.length + js_urls.length;\n\n    function on_load() {\n      root._bokeh_is_loading--;\n      if (root._bokeh_is_loading === 0) {\n        console.debug(\"Bokeh: all BokehJS libraries/stylesheets loaded\");\n        run_callbacks()\n      }\n    }\n\n    function on_error(url) {\n      console.error(\"failed to load \" + url);\n    }\n\n    for (let i = 0; i < css_urls.length; i++) {\n      const url = css_urls[i];\n      const element = document.createElement(\"link\");\n      element.onload = on_load;\n      element.onerror = on_error.bind(null, url);\n      element.rel = \"stylesheet\";\n      element.type = \"text/css\";\n      element.href = url;\n      console.debug(\"Bokeh: injecting link tag for BokehJS stylesheet: \", url);\n      document.body.appendChild(element);\n    }\n\n    const hashes = {\"https://cdn.bokeh.org/bokeh/release/bokeh-2.3.1.min.js\": \"YF85VygJKMVnHE+lLv2AM93Vbstr0yo2TbIu5v8se5Rq3UQAUmcuh4aaJwNlpKwa\", \"https://cdn.bokeh.org/bokeh/release/bokeh-widgets-2.3.1.min.js\": \"KKuas3gevv3PvrlkyCMzffFeaMq5we/a2QsP5AUoS3mJ0jmaCL7jirFJN3GoE/lM\", \"https://cdn.bokeh.org/bokeh/release/bokeh-tables-2.3.1.min.js\": \"MK/uFc3YT18pkvvXRl66tTHjP0/dxoSH2e/eiNMFIguKlun2+WVqaPTWmUy/zvh4\"};\n\n    for (let i = 0; i < js_urls.length; i++) {\n      const url = js_urls[i];\n      const element = document.createElement('script');\n      element.onload = on_load;\n      element.onerror = on_error.bind(null, url);\n      element.async = false;\n      element.src = url;\n      if (url in hashes) {\n        element.crossOrigin = \"anonymous\";\n        element.integrity = \"sha384-\" + hashes[url];\n      }\n      console.debug(\"Bokeh: injecting script tag for BokehJS library: \", url);\n      document.head.appendChild(element);\n    }\n  };\n\n  function inject_raw_css(css) {\n    const element = document.createElement(\"style\");\n    element.appendChild(document.createTextNode(css));\n    document.body.appendChild(element);\n  }\n\n  \n  var js_urls = [\"https://cdn.bokeh.org/bokeh/release/bokeh-2.3.1.min.js\", \"https://cdn.bokeh.org/bokeh/release/bokeh-widgets-2.3.1.min.js\", \"https://cdn.bokeh.org/bokeh/release/bokeh-tables-2.3.1.min.js\"];\n  var css_urls = [];\n  \n\n  var inline_js = [\n    function(Bokeh) {\n      Bokeh.set_log_level(\"info\");\n    },\n    function(Bokeh) {\n    \n    \n    }\n  ];\n\n  function run_inline_js() {\n    \n    if (root.Bokeh !== undefined || force === true) {\n      \n    for (var i = 0; i < inline_js.length; i++) {\n      inline_js[i].call(root, root.Bokeh);\n    }\n    if (force === true) {\n        display_loaded();\n      }} else if (Date.now() < root._bokeh_timeout) {\n      setTimeout(run_inline_js, 100);\n    } else if (!root._bokeh_failed_load) {\n      console.log(\"Bokeh: BokehJS failed to load within specified timeout.\");\n      root._bokeh_failed_load = true;\n    } else if (force !== true) {\n      var cell = $(document.getElementById(\"1002\")).parents('.cell').data().cell;\n      cell.output_area.append_execute_result(NB_LOAD_WARNING)\n    }\n\n  }\n\n  if (root._bokeh_is_loading === 0) {\n    console.debug(\"Bokeh: BokehJS loaded, going straight to plotting\");\n    run_inline_js();\n  } else {\n    load_libs(css_urls, js_urls, function() {\n      console.debug(\"Bokeh: BokehJS plotting callback run at\", now());\n      run_inline_js();\n    });\n  }\n}(window));"
     },
     "metadata": {},
     "output_type": "display_data"
    }
   ],
   "source": [
    "import pandas as pd\n",
    "import numpy as np\n",
    "import time\n",
    "# LDA, tSNE\n",
    "from sklearn.manifold import TSNE\n",
    "from gensim.models.ldamodel import LdaModel\n",
    "# NLTK\n",
    "from nltk.tokenize import RegexpTokenizer\n",
    "from nltk.stem.snowball import SnowballStemmer\n",
    "from nltk.corpus import stopwords\n",
    "import re\n",
    "# Visualization\n",
    "import matplotlib.pyplot as plt\n",
    "import matplotlib.patches as mpatches\n",
    "import matplotlib\n",
    "%matplotlib inline\n",
    "import seaborn as sns\n",
    "# Bokeh\n",
    "from bokeh.io import output_notebook\n",
    "from bokeh.plotting import figure, show\n",
    "from bokeh.models import HoverTool, CustomJS, ColumnDataSource, Slider\n",
    "from bokeh.layouts import column\n",
    "from bokeh.palettes import all_palettes\n",
    "output_notebook()"
   ]
  },
  {
   "cell_type": "code",
   "execution_count": 2,
   "metadata": {},
   "outputs": [],
   "source": [
    "df = pd.read_csv('Tweets.csv')"
   ]
  },
  {
   "cell_type": "code",
   "execution_count": 3,
   "metadata": {},
   "outputs": [
    {
     "data": {
      "text/html": [
       "<div>\n",
       "<style scoped>\n",
       "    .dataframe tbody tr th:only-of-type {\n",
       "        vertical-align: middle;\n",
       "    }\n",
       "\n",
       "    .dataframe tbody tr th {\n",
       "        vertical-align: top;\n",
       "    }\n",
       "\n",
       "    .dataframe thead th {\n",
       "        text-align: right;\n",
       "    }\n",
       "</style>\n",
       "<table border=\"1\" class=\"dataframe\">\n",
       "  <thead>\n",
       "    <tr style=\"text-align: right;\">\n",
       "      <th></th>\n",
       "      <th>Unnamed: 0</th>\n",
       "      <th>tweets</th>\n",
       "      <th>likes</th>\n",
       "      <th>time</th>\n",
       "    </tr>\n",
       "  </thead>\n",
       "  <tbody>\n",
       "    <tr>\n",
       "      <th>0</th>\n",
       "      <td>0</td>\n",
       "      <td>Spinraza, a drug for spinal muscular atrophy, ...</td>\n",
       "      <td>0</td>\n",
       "      <td>2021-05-23 08:32:01</td>\n",
       "    </tr>\n",
       "    <tr>\n",
       "      <th>1</th>\n",
       "      <td>1</td>\n",
       "      <td>@SonuSood This child from Bikaner(Rajasthan) n...</td>\n",
       "      <td>0</td>\n",
       "      <td>2021-05-23 08:19:31</td>\n",
       "    </tr>\n",
       "    <tr>\n",
       "      <th>2</th>\n",
       "      <td>2</td>\n",
       "      <td>This child from Bikaner(Rajasthan) need your h...</td>\n",
       "      <td>0</td>\n",
       "      <td>2021-05-23 03:38:59</td>\n",
       "    </tr>\n",
       "    <tr>\n",
       "      <th>3</th>\n",
       "      <td>3</td>\n",
       "      <td>Alabama lawmakers: Get Spinal Muscular Atrophy...</td>\n",
       "      <td>0</td>\n",
       "      <td>2021-05-23 03:11:10</td>\n",
       "    </tr>\n",
       "    <tr>\n",
       "      <th>4</th>\n",
       "      <td>4</td>\n",
       "      <td>Children with spinal muscular atrophy may expe...</td>\n",
       "      <td>12</td>\n",
       "      <td>2021-05-23 02:09:01</td>\n",
       "    </tr>\n",
       "  </tbody>\n",
       "</table>\n",
       "</div>"
      ],
      "text/plain": [
       "   Unnamed: 0                                             tweets  likes  \\\n",
       "0           0  Spinraza, a drug for spinal muscular atrophy, ...      0   \n",
       "1           1  @SonuSood This child from Bikaner(Rajasthan) n...      0   \n",
       "2           2  This child from Bikaner(Rajasthan) need your h...      0   \n",
       "3           3  Alabama lawmakers: Get Spinal Muscular Atrophy...      0   \n",
       "4           4  Children with spinal muscular atrophy may expe...     12   \n",
       "\n",
       "                  time  \n",
       "0  2021-05-23 08:32:01  \n",
       "1  2021-05-23 08:19:31  \n",
       "2  2021-05-23 03:38:59  \n",
       "3  2021-05-23 03:11:10  \n",
       "4  2021-05-23 02:09:01  "
      ]
     },
     "execution_count": 3,
     "metadata": {},
     "output_type": "execute_result"
    }
   ],
   "source": [
    "df.head()"
   ]
  },
  {
   "cell_type": "code",
   "execution_count": 4,
   "metadata": {},
   "outputs": [],
   "source": [
    "df['time'] = df['time'].astype('datetime64[ns]')\n",
    "df['time'] = df['time'].astype(np.int64) / int(1e6)"
   ]
  },
  {
   "cell_type": "code",
   "execution_count": 5,
   "metadata": {},
   "outputs": [
    {
     "name": "stdout",
     "output_type": "stream",
     "text": [
      "Spinraza, a drug for spinal muscular atrophy, has no money saved for retirement.\n"
     ]
    }
   ],
   "source": [
    "print(df.tweets[0][:500])"
   ]
  },
  {
   "cell_type": "markdown",
   "metadata": {},
   "source": [
    "**Initial cleaning**"
   ]
  },
  {
   "cell_type": "code",
   "execution_count": 6,
   "metadata": {},
   "outputs": [
    {
     "name": "stdout",
     "output_type": "stream",
     "text": [
      "spinraza, a drug for spinal muscular atrophy, has no money saved for retirement.\n",
      "Wall time: 31.3 ms\n"
     ]
    }
   ],
   "source": [
    "%%time\n",
    "# Removing numerals:\n",
    "df['tweet_tokens'] = df.tweets.map(lambda x: re.sub(r'\\d+', '', x))\n",
    "# Lower case:\n",
    "df['tweet_tokens'] = df.tweet_tokens.map(lambda x: x.lower())\n",
    "print(df['tweet_tokens'][0][:500])"
   ]
  },
  {
   "cell_type": "markdown",
   "metadata": {},
   "source": [
    "**Tokenize**"
   ]
  },
  {
   "cell_type": "code",
   "execution_count": 7,
   "metadata": {},
   "outputs": [
    {
     "name": "stdout",
     "output_type": "stream",
     "text": [
      "['spinraza', 'a', 'drug', 'for', 'spinal', 'muscular', 'atrophy', 'has', 'no', 'money', 'saved', 'for', 'retirement']\n",
      "Wall time: 0 ns\n"
     ]
    }
   ],
   "source": [
    "%%time\n",
    "df['tweet_tokens'] = df.tweet_tokens.map(lambda x: RegexpTokenizer(r'\\w+').tokenize(x))\n",
    "print(df['tweet_tokens'][0][:25])"
   ]
  },
  {
   "cell_type": "markdown",
   "metadata": {},
   "source": [
    "**Stemming**"
   ]
  },
  {
   "cell_type": "code",
   "execution_count": 8,
   "metadata": {},
   "outputs": [
    {
     "name": "stdout",
     "output_type": "stream",
     "text": [
      "['spinraza', 'a', 'drug', 'for', 'spinal', 'muscular', 'atrophi', 'has', 'no', 'money', 'save', 'for', 'retir']\n",
      "Wall time: 353 ms\n"
     ]
    }
   ],
   "source": [
    "%%time\n",
    "snowball = SnowballStemmer(\"english\")  \n",
    "df['tweet_tokens'] = df.tweet_tokens.map(lambda x: [snowball.stem(token) for token in x])\n",
    "print(df['tweet_tokens'][0][:25])"
   ]
  },
  {
   "cell_type": "markdown",
   "metadata": {},
   "source": [
    "**Stop Words**"
   ]
  },
  {
   "cell_type": "code",
   "execution_count": 9,
   "metadata": {},
   "outputs": [
    {
     "name": "stdout",
     "output_type": "stream",
     "text": [
      "['spinraza', 'drug', 'spinal', 'muscular', 'atrophi', 'money', 'save', 'retir']\n",
      "Wall time: 260 ms\n"
     ]
    }
   ],
   "source": [
    "%%time\n",
    "stop_en = stopwords.words('english')\n",
    "df['tweet_tokens'] = df.tweet_tokens.map(lambda x: [t for t in x if t not in stop_en]) \n",
    "print(df['tweet_tokens'][0][:25])"
   ]
  },
  {
   "cell_type": "markdown",
   "metadata": {},
   "source": [
    "**Final Cleaning**"
   ]
  },
  {
   "cell_type": "code",
   "execution_count": 10,
   "metadata": {},
   "outputs": [
    {
     "name": "stdout",
     "output_type": "stream",
     "text": [
      "['spinraza', 'drug', 'spinal', 'muscular', 'atrophi', 'money', 'save', 'retir']\n",
      "Wall time: 4 ms\n"
     ]
    }
   ],
   "source": [
    "%%time\n",
    "df['tweet_tokens'] = df.tweet_tokens.map(lambda x: [t for t in x if len(t) > 1])\n",
    "print(df['tweet_tokens'][0][:25])"
   ]
  },
  {
   "cell_type": "markdown",
   "metadata": {},
   "source": [
    "**LDA**"
   ]
  },
  {
   "cell_type": "code",
   "execution_count": 11,
   "metadata": {},
   "outputs": [],
   "source": [
    "from gensim import corpora, models\n",
    "np.random.seed(2017)\n",
    "texts = df['tweet_tokens'].values\n",
    "dictionary = corpora.Dictionary(texts)\n",
    "corpus = [dictionary.doc2bow(text) for text in texts]\n",
    "ldamodel = models.ldamodel.LdaModel(corpus, id2word=dictionary, \n",
    "                                    num_topics=8, passes=5, minimum_probability=0)"
   ]
  },
  {
   "cell_type": "code",
   "execution_count": 12,
   "metadata": {},
   "outputs": [
    {
     "data": {
      "text/plain": [
       "[(0,\n",
       "  '0.020*\"muscular\" + 0.020*\"atrophi\" + 0.019*\"spinal\" + 0.018*\"https\" + 0.018*\"co\" + 0.013*\"type\" + 0.012*\"research\" + 0.011*\"children\" + 0.007*\"avail\" + 0.007*\"drug\"'),\n",
       " (1,\n",
       "  '0.047*\"https\" + 0.046*\"co\" + 0.034*\"atrophi\" + 0.034*\"spinal\" + 0.034*\"muscular\" + 0.031*\"help\" + 0.020*\"need\" + 0.018*\"rais\" + 0.015*\"cr\" + 0.015*\"fightssma\"'),\n",
       " (2,\n",
       "  '0.026*\"muscular\" + 0.026*\"spinal\" + 0.026*\"atrophi\" + 0.020*\"https\" + 0.020*\"co\" + 0.020*\"suffer\" + 0.019*\"birth\" + 0.019*\"sinc\" + 0.015*\"bikan\" + 0.015*\"sma\"'),\n",
       " (3,\n",
       "  '0.023*\"atrophi\" + 0.023*\"spinal\" + 0.022*\"muscular\" + 0.020*\"link\" + 0.019*\"zolgensma\" + 0.018*\"https\" + 0.018*\"co\" + 0.016*\"drug\" + 0.013*\"amp\" + 0.013*\"help\"'),\n",
       " (4,\n",
       "  '0.028*\"muscular\" + 0.028*\"co\" + 0.027*\"https\" + 0.027*\"atrophi\" + 0.026*\"spinal\" + 0.024*\"old\" + 0.021*\"need\" + 0.020*\"save\" + 0.019*\"rare\" + 0.017*\"life\"'),\n",
       " (5,\n",
       "  '0.053*\"co\" + 0.052*\"https\" + 0.034*\"spinal\" + 0.034*\"muscular\" + 0.034*\"atrophi\" + 0.027*\"help\" + 0.023*\"plz\" + 0.019*\"cr\" + 0.017*\"old\" + 0.016*\"zolgensma\"'),\n",
       " (6,\n",
       "  '0.037*\"co\" + 0.036*\"https\" + 0.030*\"muscular\" + 0.028*\"atrophi\" + 0.027*\"spinal\" + 0.026*\"pleas\" + 0.016*\"fightssma\" + 0.014*\"cr\" + 0.011*\"sma\" + 0.010*\"support\"'),\n",
       " (7,\n",
       "  '0.058*\"https\" + 0.058*\"co\" + 0.052*\"anoth\" + 0.032*\"muscular\" + 0.031*\"spinal\" + 0.031*\"atrophi\" + 0.030*\"kid\" + 0.029*\"old\" + 0.029*\"saveayaanshgupta\" + 0.029*\"year\"')]"
      ]
     },
     "execution_count": 12,
     "metadata": {},
     "output_type": "execute_result"
    }
   ],
   "source": [
    "ldamodel.print_topics()"
   ]
  },
  {
   "cell_type": "code",
   "execution_count": 13,
   "metadata": {},
   "outputs": [],
   "source": [
    "hm = np.array([[y for (x,y) in ldamodel[corpus[i]]] for i in range(len(corpus))])"
   ]
  },
  {
   "cell_type": "code",
   "execution_count": 14,
   "metadata": {},
   "outputs": [],
   "source": [
    "#And reduce dimensionality using t-SNE algorithm:\n",
    "tsne = TSNE(random_state=2017, perplexity=30, early_exaggeration=120)\n",
    "embedding = tsne.fit_transform(hm)\n",
    "embedding = pd.DataFrame(embedding, columns=['x','y'])\n",
    "embedding['hue'] = hm.argmax(axis=1)"
   ]
  },
  {
   "cell_type": "markdown",
   "metadata": {},
   "source": [
    "**PLOTTING**"
   ]
  },
  {
   "cell_type": "code",
   "execution_count": 15,
   "metadata": {},
   "outputs": [
    {
     "data": {
      "text/html": [
       "\n",
       "\n",
       "\n",
       "\n",
       "\n",
       "\n",
       "  <div class=\"bk-root\" id=\"e14aeba6-0960-4fd7-9d3f-e8812822dadd\" data-root-id=\"1039\"></div>\n"
      ]
     },
     "metadata": {},
     "output_type": "display_data"
    },
    {
     "data": {
      "application/javascript": [
       "(function(root) {\n",
       "  function embed_document(root) {\n",
       "    \n",
       "  var docs_json = {\"d8a6b5db-d615-4323-8a53-caf6f7b0cf70\":{\"defs\":[],\"roots\":{\"references\":[{\"attributes\":{\"children\":[{\"id\":\"1038\"},{\"id\":\"1005\"}]},\"id\":\"1039\",\"type\":\"Column\"},{\"attributes\":{\"args\":{\"source\":{\"id\":\"1003\"}},\"code\":\"\\n    var data = source.data;\\n    var f = cb_obj.value\\n    x = data['x']\\n    y = data['y']\\n    colors = data['colors']\\n    alpha = data['alpha']\\n    title = data['title']\\n    time = data['time']\\n    size = data['size']\\n    for (i = 0; i < x.length; i++) {\\n        if (time[i] <= f) {\\n            alpha[i] = 0.9\\n            size[i] = 7\\n        } else {\\n            alpha[i] = 0.05\\n            size[i] = 4\\n        }\\n    }\\n    source.change.emit();\\n    \"},\"id\":\"1037\",\"type\":\"CustomJS\"},{\"attributes\":{},\"id\":\"1014\",\"type\":\"LinearScale\"},{\"attributes\":{\"active_multi\":null,\"tools\":[{\"id\":\"1004\"},{\"id\":\"1024\"},{\"id\":\"1025\"},{\"id\":\"1026\"}]},\"id\":\"1027\",\"type\":\"Toolbar\"},{\"attributes\":{},\"id\":\"1041\",\"type\":\"AllLabels\"},{\"attributes\":{\"formatter\":{\"id\":\"1046\"},\"major_label_policy\":{\"id\":\"1044\"},\"ticker\":{\"id\":\"1017\"}},\"id\":\"1016\",\"type\":\"LinearAxis\"},{\"attributes\":{\"fill_alpha\":{\"value\":0.1},\"fill_color\":{\"field\":\"colors\"},\"line_alpha\":{\"value\":0.1},\"line_color\":{\"value\":\"#1f77b4\"},\"line_width\":{\"value\":0.01},\"size\":{\"field\":\"size\"},\"x\":{\"field\":\"x\"},\"y\":{\"field\":\"y\"}},\"id\":\"1034\",\"type\":\"Circle\"},{\"attributes\":{\"below\":[{\"id\":\"1016\"}],\"center\":[{\"id\":\"1019\"},{\"id\":\"1023\"}],\"height\":700,\"left\":[{\"id\":\"1020\"}],\"renderers\":[{\"id\":\"1035\"}],\"title\":{\"id\":\"1006\"},\"toolbar\":{\"id\":\"1027\"},\"width\":700,\"x_range\":{\"id\":\"1008\"},\"x_scale\":{\"id\":\"1012\"},\"y_range\":{\"id\":\"1010\"},\"y_scale\":{\"id\":\"1014\"}},\"id\":\"1005\",\"subtype\":\"Figure\",\"type\":\"Plot\"},{\"attributes\":{\"text\":\"Papers\"},\"id\":\"1006\",\"type\":\"Title\"},{\"attributes\":{\"fill_alpha\":{\"field\":\"alpha\"},\"fill_color\":{\"field\":\"colors\"},\"line_alpha\":{\"value\":0},\"line_color\":{\"value\":\"#1f77b4\"},\"line_width\":{\"value\":0.01},\"size\":{\"field\":\"size\"},\"x\":{\"field\":\"x\"},\"y\":{\"field\":\"y\"}},\"id\":\"1033\",\"type\":\"Circle\"},{\"attributes\":{},\"id\":\"1017\",\"type\":\"BasicTicker\"},{\"attributes\":{\"source\":{\"id\":\"1003\"}},\"id\":\"1036\",\"type\":\"CDSView\"},{\"attributes\":{\"axis\":{\"id\":\"1016\"},\"ticker\":null},\"id\":\"1019\",\"type\":\"Grid\"},{\"attributes\":{},\"id\":\"1046\",\"type\":\"BasicTickFormatter\"},{\"attributes\":{\"data_source\":{\"id\":\"1003\"},\"glyph\":{\"id\":\"1033\"},\"hover_glyph\":null,\"muted_glyph\":null,\"name\":\"df\",\"nonselection_glyph\":{\"id\":\"1034\"},\"view\":{\"id\":\"1036\"}},\"id\":\"1035\",\"type\":\"GlyphRenderer\"},{\"attributes\":{\"end\":1621758721000.0,\"js_property_callbacks\":{\"change:value\":[{\"id\":\"1037\"}]},\"start\":1621098618000.0,\"title\":\"Day of tweets\",\"value\":2016},\"id\":\"1038\",\"type\":\"Slider\"},{\"attributes\":{},\"id\":\"1044\",\"type\":\"AllLabels\"},{\"attributes\":{\"callback\":null,\"names\":[\"df\"],\"tooltips\":\"\\n    <div style=\\\"margin: 10\\\">\\n        <div style=\\\"margin: 0 auto; width:300px;\\\">\\n            <span style=\\\"font-size: 12px; font-weight: bold;\\\">Title:</span>\\n            <span style=\\\"font-size: 12px\\\">@title</span>\\n            <span style=\\\"font-size: 12px; font-weight: bold;\\\">Day:</span>\\n            <span style=\\\"font-size: 12px\\\">@time</span>\\n        </div>\\n    </div>\\n    \"},\"id\":\"1004\",\"type\":\"HoverTool\"},{\"attributes\":{},\"id\":\"1047\",\"type\":\"Selection\"},{\"attributes\":{\"formatter\":{\"id\":\"1043\"},\"major_label_policy\":{\"id\":\"1041\"},\"ticker\":{\"id\":\"1021\"}},\"id\":\"1020\",\"type\":\"LinearAxis\"},{\"attributes\":{},\"id\":\"1008\",\"type\":\"DataRange1d\"},{\"attributes\":{},\"id\":\"1048\",\"type\":\"UnionRenderers\"},{\"attributes\":{},\"id\":\"1021\",\"type\":\"BasicTicker\"},{\"attributes\":{},\"id\":\"1010\",\"type\":\"DataRange1d\"},{\"attributes\":{\"axis\":{\"id\":\"1020\"},\"dimension\":1,\"ticker\":null},\"id\":\"1023\",\"type\":\"Grid\"},{\"attributes\":{},\"id\":\"1012\",\"type\":\"LinearScale\"},{\"attributes\":{},\"id\":\"1025\",\"type\":\"WheelZoomTool\"},{\"attributes\":{},\"id\":\"1026\",\"type\":\"ResetTool\"},{\"attributes\":{},\"id\":\"1043\",\"type\":\"BasicTickFormatter\"},{\"attributes\":{},\"id\":\"1024\",\"type\":\"PanTool\"},{\"attributes\":{\"data\":{\"alpha\":[0.9,0.9,0.9,0.9,0.9,0.9,0.9,0.9,0.9,0.9,0.9,0.9,0.9,0.9,0.9,0.9,0.9,0.9,0.9,0.9,0.9,0.9,0.9,0.9,0.9,0.9,0.9,0.9,0.9,0.9,0.9,0.9,0.9,0.9,0.9,0.9,0.9,0.9,0.9,0.9,0.9,0.9,0.9,0.9,0.9,0.9,0.9,0.9,0.9,0.9,0.9,0.9,0.9,0.9,0.9,0.9,0.9,0.9,0.9,0.9,0.9,0.9,0.9,0.9,0.9,0.9,0.9,0.9,0.9,0.9,0.9,0.9,0.9,0.9,0.9,0.9,0.9,0.9,0.9,0.9,0.9,0.9,0.9,0.9,0.9,0.9,0.9,0.9,0.9,0.9,0.9,0.9,0.9,0.9,0.9,0.9,0.9,0.9,0.9,0.9,0.9,0.9,0.9,0.9,0.9,0.9,0.9,0.9,0.9,0.9,0.9,0.9,0.9,0.9,0.9,0.9,0.9,0.9,0.9,0.9,0.9,0.9,0.9,0.9,0.9,0.9,0.9,0.9,0.9,0.9,0.9,0.9,0.9,0.9,0.9,0.9,0.9,0.9,0.9,0.9,0.9,0.9,0.9,0.9,0.9,0.9,0.9,0.9,0.9,0.9,0.9,0.9,0.9,0.9,0.9,0.9,0.9,0.9,0.9,0.9,0.9,0.9,0.9,0.9,0.9,0.9,0.9,0.9,0.9,0.9,0.9,0.9,0.9,0.9,0.9,0.9,0.9,0.9,0.9,0.9,0.9,0.9,0.9,0.9,0.9,0.9,0.9,0.9,0.9,0.9,0.9,0.9,0.9,0.9,0.9,0.9,0.9,0.9,0.9,0.9,0.9,0.9,0.9,0.9,0.9,0.9,0.9,0.9,0.9,0.9,0.9,0.9,0.9,0.9,0.9,0.9,0.9,0.9,0.9,0.9,0.9,0.9,0.9,0.9,0.9,0.9,0.9,0.9,0.9,0.9,0.9,0.9,0.9,0.9,0.9,0.9,0.9,0.9,0.9,0.9,0.9,0.9,0.9,0.9,0.9,0.9,0.9,0.9,0.9,0.9,0.9,0.9,0.9,0.9,0.9,0.9,0.9,0.9,0.9,0.9,0.9,0.9,0.9,0.9,0.9,0.9,0.9,0.9,0.9,0.9,0.9,0.9,0.9,0.9,0.9,0.9,0.9,0.9,0.9,0.9,0.9,0.9,0.9,0.9,0.9,0.9,0.9,0.9,0.9,0.9,0.9,0.9,0.9,0.9,0.9,0.9,0.9,0.9,0.9,0.9,0.9,0.9,0.9,0.9,0.9,0.9,0.9,0.9,0.9,0.9,0.9,0.9,0.9,0.9,0.9,0.9,0.9,0.9,0.9,0.9,0.9,0.9,0.9,0.9,0.9,0.9,0.9,0.9,0.9,0.9,0.9,0.9,0.9,0.9,0.9,0.9,0.9,0.9,0.9,0.9,0.9,0.9,0.9,0.9,0.9,0.9,0.9,0.9,0.9,0.9,0.9,0.9,0.9,0.9,0.9,0.9,0.9,0.9,0.9,0.9,0.9,0.9,0.9,0.9,0.9,0.9,0.9,0.9,0.9,0.9,0.9,0.9,0.9,0.9,0.9,0.9,0.9,0.9,0.9,0.9,0.9,0.9,0.9,0.9,0.9,0.9,0.9,0.9,0.9,0.9,0.9,0.9,0.9],\"colors\":[\"#ffff33\",\"#377eb8\",\"#377eb8\",\"#377eb8\",\"#4daf4a\",\"#984ea3\",\"#ffff33\",\"#377eb8\",\"#ff7f00\",\"#377eb8\",\"#ff7f00\",\"#a65628\",\"#984ea3\",\"#377eb8\",\"#ffff33\",\"#ff7f00\",\"#ff7f00\",\"#377eb8\",\"#377eb8\",\"#377eb8\",\"#ffff33\",\"#a65628\",\"#4daf4a\",\"#ff7f00\",\"#ff7f00\",\"#ff7f00\",\"#ff7f00\",\"#ff7f00\",\"#ffff33\",\"#377eb8\",\"#377eb8\",\"#ffff33\",\"#377eb8\",\"#377eb8\",\"#ff7f00\",\"#a65628\",\"#377eb8\",\"#ffff33\",\"#377eb8\",\"#377eb8\",\"#377eb8\",\"#4daf4a\",\"#ff7f00\",\"#ffff33\",\"#ffff33\",\"#377eb8\",\"#ffff33\",\"#e41a1c\",\"#ffff33\",\"#ff7f00\",\"#f781bf\",\"#f781bf\",\"#f781bf\",\"#f781bf\",\"#f781bf\",\"#ff7f00\",\"#377eb8\",\"#f781bf\",\"#f781bf\",\"#f781bf\",\"#f781bf\",\"#f781bf\",\"#e41a1c\",\"#a65628\",\"#a65628\",\"#a65628\",\"#377eb8\",\"#a65628\",\"#ffff33\",\"#a65628\",\"#4daf4a\",\"#a65628\",\"#4daf4a\",\"#a65628\",\"#4daf4a\",\"#984ea3\",\"#377eb8\",\"#a65628\",\"#ffff33\",\"#f781bf\",\"#a65628\",\"#e41a1c\",\"#f781bf\",\"#f781bf\",\"#a65628\",\"#4daf4a\",\"#377eb8\",\"#984ea3\",\"#ffff33\",\"#ffff33\",\"#377eb8\",\"#ff7f00\",\"#ff7f00\",\"#377eb8\",\"#f781bf\",\"#ff7f00\",\"#ff7f00\",\"#ff7f00\",\"#ff7f00\",\"#ff7f00\",\"#ff7f00\",\"#f781bf\",\"#4daf4a\",\"#4daf4a\",\"#4daf4a\",\"#f781bf\",\"#f781bf\",\"#f781bf\",\"#f781bf\",\"#f781bf\",\"#f781bf\",\"#ffff33\",\"#377eb8\",\"#4daf4a\",\"#4daf4a\",\"#4daf4a\",\"#4daf4a\",\"#4daf4a\",\"#377eb8\",\"#377eb8\",\"#f781bf\",\"#ffff33\",\"#f781bf\",\"#f781bf\",\"#377eb8\",\"#f781bf\",\"#a65628\",\"#f781bf\",\"#377eb8\",\"#ffff33\",\"#f781bf\",\"#f781bf\",\"#f781bf\",\"#f781bf\",\"#f781bf\",\"#ff7f00\",\"#ffff33\",\"#ff7f00\",\"#ffff33\",\"#ffff33\",\"#f781bf\",\"#ffff33\",\"#a65628\",\"#f781bf\",\"#f781bf\",\"#f781bf\",\"#f781bf\",\"#f781bf\",\"#ff7f00\",\"#4daf4a\",\"#377eb8\",\"#f781bf\",\"#f781bf\",\"#ffff33\",\"#ffff33\",\"#f781bf\",\"#ffff33\",\"#f781bf\",\"#f781bf\",\"#ffff33\",\"#f781bf\",\"#f781bf\",\"#f781bf\",\"#f781bf\",\"#f781bf\",\"#ff7f00\",\"#a65628\",\"#377eb8\",\"#f781bf\",\"#984ea3\",\"#377eb8\",\"#4daf4a\",\"#377eb8\",\"#f781bf\",\"#377eb8\",\"#377eb8\",\"#f781bf\",\"#f781bf\",\"#f781bf\",\"#ffff33\",\"#f781bf\",\"#e41a1c\",\"#984ea3\",\"#984ea3\",\"#984ea3\",\"#377eb8\",\"#ffff33\",\"#f781bf\",\"#ffff33\",\"#ffff33\",\"#377eb8\",\"#f781bf\",\"#f781bf\",\"#f781bf\",\"#f781bf\",\"#ff7f00\",\"#377eb8\",\"#377eb8\",\"#377eb8\",\"#377eb8\",\"#f781bf\",\"#377eb8\",\"#f781bf\",\"#377eb8\",\"#f781bf\",\"#377eb8\",\"#f781bf\",\"#377eb8\",\"#377eb8\",\"#f781bf\",\"#f781bf\",\"#a65628\",\"#377eb8\",\"#ffff33\",\"#ffff33\",\"#f781bf\",\"#f781bf\",\"#f781bf\",\"#f781bf\",\"#f781bf\",\"#377eb8\",\"#f781bf\",\"#f781bf\",\"#377eb8\",\"#ffff33\",\"#377eb8\",\"#ffff33\",\"#ffff33\",\"#f781bf\",\"#a65628\",\"#ffff33\",\"#ffff33\",\"#377eb8\",\"#ffff33\",\"#377eb8\",\"#a65628\",\"#ff7f00\",\"#377eb8\",\"#377eb8\",\"#4daf4a\",\"#377eb8\",\"#f781bf\",\"#f781bf\",\"#377eb8\",\"#377eb8\",\"#ffff33\",\"#4daf4a\",\"#ffff33\",\"#377eb8\",\"#377eb8\",\"#377eb8\",\"#377eb8\",\"#4daf4a\",\"#ffff33\",\"#a65628\",\"#377eb8\",\"#f781bf\",\"#377eb8\",\"#ffff33\",\"#f781bf\",\"#f781bf\",\"#f781bf\",\"#ff7f00\",\"#f781bf\",\"#f781bf\",\"#f781bf\",\"#f781bf\",\"#f781bf\",\"#f781bf\",\"#f781bf\",\"#f781bf\",\"#f781bf\",\"#f781bf\",\"#f781bf\",\"#ffff33\",\"#984ea3\",\"#f781bf\",\"#f781bf\",\"#f781bf\",\"#f781bf\",\"#f781bf\",\"#ffff33\",\"#ffff33\",\"#ffff33\",\"#ffff33\",\"#ffff33\",\"#ffff33\",\"#ffff33\",\"#ff7f00\",\"#377eb8\",\"#ffff33\",\"#ffff33\",\"#ffff33\",\"#ffff33\",\"#f781bf\",\"#e41a1c\",\"#377eb8\",\"#ffff33\",\"#ffff33\",\"#ffff33\",\"#ffff33\",\"#f781bf\",\"#f781bf\",\"#4daf4a\",\"#ffff33\",\"#ffff33\",\"#ffff33\",\"#ffff33\",\"#377eb8\",\"#ff7f00\",\"#f781bf\",\"#377eb8\",\"#377eb8\",\"#377eb8\",\"#377eb8\",\"#f781bf\",\"#ffff33\",\"#377eb8\",\"#377eb8\",\"#377eb8\",\"#ffff33\",\"#e41a1c\",\"#ffff33\",\"#ffff33\",\"#e41a1c\",\"#ffff33\",\"#ffff33\",\"#ffff33\",\"#f781bf\",\"#f781bf\",\"#f781bf\",\"#f781bf\",\"#f781bf\",\"#ffff33\",\"#f781bf\",\"#ffff33\",\"#ffff33\",\"#ffff33\",\"#ffff33\",\"#ffff33\",\"#4daf4a\",\"#e41a1c\",\"#ffff33\",\"#ffff33\",\"#ffff33\",\"#984ea3\",\"#ffff33\",\"#ff7f00\",\"#a65628\",\"#ffff33\",\"#ffff33\",\"#4daf4a\",\"#4daf4a\",\"#ffff33\",\"#984ea3\",\"#e41a1c\",\"#4daf4a\",\"#ff7f00\",\"#4daf4a\",\"#984ea3\",\"#4daf4a\",\"#4daf4a\",\"#4daf4a\",\"#377eb8\",\"#a65628\",\"#ffff33\",\"#377eb8\",\"#a65628\",\"#a65628\",\"#a65628\",\"#a65628\",\"#a65628\",\"#377eb8\",\"#377eb8\",\"#377eb8\",\"#377eb8\",\"#f781bf\",\"#ffff33\",\"#a65628\",\"#984ea3\",\"#377eb8\",\"#f781bf\",\"#ffff33\",\"#377eb8\",\"#377eb8\",\"#377eb8\",\"#377eb8\",\"#377eb8\",\"#377eb8\",\"#377eb8\",\"#377eb8\",\"#e41a1c\",\"#377eb8\"],\"day\":{\"__ndarray__\":\"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\",\"dtype\":\"float64\",\"order\":\"little\",\"shape\":[393]},\"size\":[7,7,7,7,7,7,7,7,7,7,7,7,7,7,7,7,7,7,7,7,7,7,7,7,7,7,7,7,7,7,7,7,7,7,7,7,7,7,7,7,7,7,7,7,7,7,7,7,7,7,7,7,7,7,7,7,7,7,7,7,7,7,7,7,7,7,7,7,7,7,7,7,7,7,7,7,7,7,7,7,7,7,7,7,7,7,7,7,7,7,7,7,7,7,7,7,7,7,7,7,7,7,7,7,7,7,7,7,7,7,7,7,7,7,7,7,7,7,7,7,7,7,7,7,7,7,7,7,7,7,7,7,7,7,7,7,7,7,7,7,7,7,7,7,7,7,7,7,7,7,7,7,7,7,7,7,7,7,7,7,7,7,7,7,7,7,7,7,7,7,7,7,7,7,7,7,7,7,7,7,7,7,7,7,7,7,7,7,7,7,7,7,7,7,7,7,7,7,7,7,7,7,7,7,7,7,7,7,7,7,7,7,7,7,7,7,7,7,7,7,7,7,7,7,7,7,7,7,7,7,7,7,7,7,7,7,7,7,7,7,7,7,7,7,7,7,7,7,7,7,7,7,7,7,7,7,7,7,7,7,7,7,7,7,7,7,7,7,7,7,7,7,7,7,7,7,7,7,7,7,7,7,7,7,7,7,7,7,7,7,7,7,7,7,7,7,7,7,7,7,7,7,7,7,7,7,7,7,7,7,7,7,7,7,7,7,7,7,7,7,7,7,7,7,7,7,7,7,7,7,7,7,7,7,7,7,7,7,7,7,7,7,7,7,7,7,7,7,7,7,7,7,7,7,7,7,7,7,7,7,7,7,7,7,7,7,7,7,7,7,7,7,7,7,7,7,7,7,7,7,7,7,7,7,7,7,7,7,7,7,7,7,7],\"title\":[\"Spinraza, a drug for spinal muscular atrophy, has no money saved for retirement.\",\"@SonuSood This child from Bikaner(Rajasthan) need your help for her treatment suffering from Spinal muscular atrophy. Her father contact no 82792 26513 @SonuSood @SoodFoundation @Ajaypratap777 https://t.co/VPMzLfBKEn\",\"This child from Bikaner(Rajasthan) need your help for her treatment suffering from Spinal muscular atrophy. Her father contact no 82792 26513 @SonuSood @SoodFoundation @Ajaypratap777 @DrKumarVishwas https://t.co/nCW0lK5R39\",\"Alabama lawmakers: Get Spinal Muscular Atrophy put on the New Born Screening in Alabama - Sign the Petition! https://t.co/fKcrzwqKhh via @Change\",\"Children with spinal muscular atrophy may experience long-lasting benefits from gene therapy with onasemnogene abeparvovec, according to new data. https://t.co/6HMPTy9sea https://t.co/UAo8jQkyLq\",\"The Cost of the Spinal Muscular Atrophy Test is 14000 Rs at DNA Labs India\\nLink: https://t.co/WfzCHopSxi...\\nhttps://t.co/ulMhoJKzyR\",\"SMA Is a rare genetic disorder called \\u201cSpinal Muscular Atrophy\\u201d a rare life limiting condition. To cure this Ayaansh requires gene therapy and the drug will cost Rs 16 crore. Over last few months many good Samaritan\\u2019s like you donated their money for Ayaansh\\u2019s well being.\",\"@vishalhshah @RupalGu86558173 @FightsSma @SonuSood @KensingtonRoyal @ClarenceHouse Please advocate for spinal muscular atrophy patients! Please help!\",\"@NameisNani Garu requesting you with folded hands to please help this little 3 year old champ\\ud83d\\ude4f.He needs 1 crore in 2 days for his parents to arrange for his life saving medicine #ZolGenSMA to cure his rare Spinal Muscular Atrophy.\\n\\n#saveayaanshgupta \\nhttps://t.co/mUMzWoGlWG https://t.co/RapJUXBQ4B\",\"@alluarjun @tarak9999 requesting you to please help this little 3 year old champ from Hyderabad\\ud83d\\ude4f.He needs 1 crore in 2 days for his parents to arrange for his life saving medicine #ZolGenSMA to cure his rare Spinal Muscular Atrophy.\\n\\n#saveayaanshgupta \\nhttps://t.co/mUMzWoGlWG https://t.co/RapJUXBQ4B\",\"@VidyutJammwal requesting you with folded hands to please save this little 3 year old fighter\\ud83d\\ude4f.He needs 1 crore in 2 days for his parents to arrange for his life saving medicine #ZolGenSMA to cure his rare Spinal Muscular Atrophy.\\n\\n#saveayaanshgupta \\nhttps://t.co/mUMzWoGlWG https://t.co/RapJUXBQ4B\",\"PubMed: Clenbuterol-sensitive delayed outward potassium currents in a cell model of spinal and bulbar muscular atrophy https://t.co/Wtei1U3yfq\",\"He is suffering from Spinal Muscular Atrophy and needs world's most expensive drug ZolgenSMA costing $2.1 million!!! Link to donate is here: https://t.co/Oh7wOuRRfM\",\"@jk_rowling can you give a shout out to your followers about 2 year old Ayaansh Gupta dying from Spinal Muscular Atrophy? Parents have raised $20,00,000 against all odds but it will go to waste if they do not get the last $100,000 within the next two days. Details in comment.\",\"@ManojTiwariMP @MOHITKAPOORBJP @MohanGoelBJP Hello sir. kindly help our 5 month old baby to survive beyond age of two,who suffers from Spinal muscular atrophy that needs 16 crore for treatment.Kindly support our crowd funding link.\\nhttps://t.co/jXV4bHLQEZ\\n#ZolgenSMA #savecubby #RareDisease https://t.co/rykCw7anNR\",\"@anandmahindra sir, requesting you with folded hands to please save this little 3 year old fighter\\ud83d\\ude4f.He needs 1 crore in 2 days for his parents to arrange for his life saving medicine #ZolGenSMA to cure his rare Spinal Muscular Atrophy.\\n\\n#saveayaanshgupta https://t.co/4D58bpKDjd\",\"@anandmahindra sir, requesting you with folded hands to please save this little 3 year old fighter\\ud83d\\ude4f.He needs 1 crore in 2 days for his parents to arrange for his life saving medicine #ZolGenSMA to cure his rare Spinal Muscular Atrophy.\\n\\n#saveayaanshgupta https://t.co/Ikst4PHchC\",\"Alabama lawmakers: Get Spinal Muscular Atrophy put on the New Born Screening in Alabama - Sign the Petition! https://t.co/56Nw4w8v7H via @Change\",\"Alabama lawmakers: Get Spinal Muscular Atrophy put on the New Born Screening in Alabama - Sign the Petition! https://t.co/jDSe1v2v59 via @Change\",\"@aajtak @snehamordani Please sir save our Cubby spinal muscular atrophy type 1 @aajtak https://t.co/SMgsQRrvGj\",\"@ravikishann Please sir save our Cubby spinal muscular atrophy type 1 five months baby need costly medicine @ravikishann https://t.co/Oo144XvHyq\",\"@bhumipednekar Please mam save our Cubby spinal muscular atrophy type 1 @bhumipednekar https://t.co/0DRFyxXOt6\",\"Watching YouTube ads it seems India is also seeing spike in the cases of Spinal muscular atrophy\",\"@RandeepHooda sir, requesting you with folded hands to please save this little 3 year old fighter\\ud83d\\ude4f.He needs 1 crore in 2 days for his parents to arrange for his life saving medicine #ZolGenSMA to cure his rare Spinal Muscular Atrophy.\\n\\n#saveayaanshgupta \\nhttps://t.co/t0BldSDqGK\",\"@KhanEijaz sir, requesting you with folded hands to please save this little 3 year old fighter\\ud83d\\ude4f.He needs 1 crore in 2 days for his parents to arrange for his life saving medicine #ZolGenSMA to cure his rare Spinal Muscular Atrophy.\\n\\n#saveayaanshgupta \\nhttps://t.co/t0BldSDqGK https://t.co/IMBP2kCxUd\",\"@TajinderBagga sir, requesting you with folded hands to please save this little 3 year old fighter\\ud83d\\ude4f.He needs 1 crore in 2 days for his parents to arrange for his life saving medicine #ZolGenSMA to cure his rare Spinal Muscular Atrophy.\\n\\n#saveayaanshgupta \\nhttps://t.co/t0BldSDqGK https://t.co/Vb5DNs4Psw\",\"@sujoy_g sir, requesting you with folded hands to please save this little 3 year old fighter\\ud83d\\ude4f.He needs 1 crore in 2 days for his parents to arrange for his life saving medicine #ZolGenSMA to cure his rare Spinal Muscular Atrophy.\\n#saveayaanshgupta \\nhttps://t.co/t0BldSDqGK\",\"@anandmahindra sir, requesting you with folded hands to please save this little 3 year old fighter\\ud83d\\ude4f.He needs 1 crore in 2 days for his parents to arrange for his life saving medicine #ZolGenSMA to cure his rare Spinal Muscular Atrophy.\\n\\n#saveayaanshgupta \\nhttps://t.co/mUMzWoGlWG https://t.co/RapJUXBQ4B\",\"translation thread:\\n\\n\\\"From a young age, I had to get to know the world with the rare disease spinal muscular atrophy. The year I was 14, I sat upon a wheelchair, and suddenly, my mentality changed, allowing me to be reborn.\\n\\nI started trying to do things I wanted to do. https://t.co/qv9HAYX7Oe\",\"@Runjhunsharmas  \\nPls share about  #ayaansh @FightsSma. He fights rare Spinal Muscular Atrophy and needs only 1Cr now to be raised in 2 days. Clock is ticking. One shoutout from u can save his life #saveayaanshgupta https://t.co/t0BldSDqGK https://t.co/2CNTiTqiWv\",\"@waglenikhil  \\nPls share about  #ayaansh @FightsSma. He fights rare Spinal Muscular Atrophy and needs only 1Cr now to be raised in 2 days. Clock is ticking. One shoutout from u can save his life #saveayaanshgupta https://t.co/t0BldSDqGK https://t.co/oDqttF5dMG\",\"Cellular and molecular mechanisms underlying UBA1\\u2010mediated motor neuron degeneration in spinal muscular atrophy https://t.co/xRgF9yz2Z6\",\"@alimehdi_inc sir, \\nPls share about  #ayaansh @FightsSma. He fights rare Spinal Muscular Atrophy and needs only 1Cr now to be raised in 5days. One shout out from u can save his life. Please help Clock is ticking. #saveayaanshgupta https://t.co/t0BldSDqGK https://t.co/qUKpMnyAKu https://t.co/cHGBG98zKS\",\"@ipsvijrk sir, \\nPls share about  #ayaansh @FightsSma. He fights rare Spinal Muscular Atrophy and needs only 1Cr now to be raised in 5days. Clock is ticking. One shoutout from u can make a difference in his life. #saveayaanshgupta https://t.co/t0BldSDqGK https://t.co/qUKpMnyAKu https://t.co/lshT86A7CI\",\"@myakanaresh @bhumipednekar @FightsSma @TheJohnAbraham @taapsee @IamKohli @SonuSood @SoodFoundation @ajaydevgn @SehwagFoundatn @AnupamPKher Thanks for sharing.\\nPls share about  #ayaansh @FightsSma. He fights rare Spinal Muscular Atrophy and needs only 1Cr now to be raised in 2days. Clock is ticking. #saveayaanshgupta  https://t.co/Wfu3ZZzY2t\",\"@KAshtakala @apurvakas @bhumipednekar @FightsSma @bhumipednekar mam please extend ur lil more support for @FightsSma he is very close to win his battle against spinal muscular atrophy. Please help share about him #SaveAyaanshGupta \\ud83d\\ude4f\",\"@alifazal9  \\nPls share about  #ayaansh @FightsSma. He fights rare Spinal Muscular Atrophy and needs only 1Cr now to be raised in 4days. He is very close to get his life saving medicine #ZolGenSMA Clock is ticking. Please share #saveayaanshgupta https://t.co/t0BldSDqGK https://t.co/I90mzygbgv\",\"Spinal Muscular Atrophy (SMA) Treatment Market\\nhttps://t.co/J6KPbiJANy\",\"@adhicutting \\nPls share about  #ayaansh @FightsSma. He fights rare Spinal Muscular Atrophy and needs only 1Cr now to be raised in 2days. Clock is ticking. #saveayaanshgupta https://t.co/t0BldSDqGK https://t.co/eNjzH1X6tM\",\"@_ravidubey \\nPls share about  #ayaansh @FightsSma. He fights rare Spinal Muscular Atrophy and needs only 1Cr now to be raised in 2days. Clock is ticking. #saveayaanshgupta https://t.co/t0BldSDqGK https://t.co/ozl883r5YL https://t.co/yF4Y6KBF9e\",\"@actor_Nikhil \\nPls share about  #ayaansh @FightsSma. He fights rare Spinal Muscular Atrophy and needs only 1Cr now to be raised in 5days. Clock is ticking. #saveayaanshgupta https://t.co/t0BldSDqGK https://t.co/Uf3Rdxci8L\",\"Children with spinal muscular #atrophy may experience long-lasting benefits from gene therapy with onasemnogene abeparvovec, according to new data. https://t.co/gg1POhRW6X https://t.co/f376S30gCJ\",\"#Help_Jouli\\nSpinal muscular atrophy disease threatens the life of the two-and-a-half-year-old Syrian girl Jouli. One treatment injection, the most expensive in the world, with $ 2 million saves her life. \\nhttps://t.co/vO0sGz7VVv\",\"@Subhash44690696 @sonalgoelias Honorable Madam, come forward for Spinal Muscular Atrophy Children\\ud83d\\ude4f\",\"I get constant targeted ads for SPINRAZA (which treats spinal muscular atrophy) and I worry that maybe Twitter knows something about me that I don't. I'm thinking about the AI that kept successfully diagnosing schizophrenia before symptoms began and waiting for ads to catch up.\",\"Alabama lawmakers: Get Spinal Muscular Atrophy put on the New Born Screening in Alabama - Sign the Petition! https://t.co/vYweyGW7H1 via @Change\",\"Sir 9 yr old AYUSH ARKHEL suffering ftom genetic disorder SPINAL MUSCULAR ATROPHY. treatment required 16 crores of cost. He is admitted in  netaji subhash chandra bose medical college jabalpur. Sir kindly help the family. https://t.co/wb4CDsu6Lv\",\"@sonalgoelias Honorable Madam, spinal muscular atrophy is a serious disease. This is a medicine for this disease. Your efforts will be very invaluable in informing the Government of India. You have small children. You should contribute to save the children.\",\"#MARKETING JOB: Weston MA USA - Senior Manager Patient/Consumer Marketing - Rare Disease Spinal Muscular Atrophy Mar: This role collaborates extensively with other members of the marketing and field teams training department and other fun https://t.co/cLgIRryOK7\",\"@andymukherjee70 @anjani_trivedi For patients of rare diseases, they have to move heaven and earth to have a chance. @FightsSma is close to raising 16 crores in his battle against Spinal Muscular Atrophy. The little child is so close now :\\nhttps://t.co/aM3ifPUMIE\",\"@Karthi_Offl ,@FightsSma is a 3 years old kid in India with a degenerative condition called Spinal Muscular Atrophy. He needs another 2cr  for another shot at life. Could you give him a shout out please :\\n#saveayaanshgupta \\nhttps://t.co/2fByiSQr85 https://t.co/C4V4Il8uXu https://t.co/yuMJe2AtXS\",\"@karthiksubbaraj  ,@FightsSma is a 3 years old kid in India with a degenerative condition called Spinal Muscular Atrophy. He needs another 2cr  for another shot at life. Could you give him a shout out please :\\n#saveayaanshgupta \\nhttps://t.co/2fByiSQr85 https://t.co/C4V4Il8uXu https://t.co/AVygc4eXqG\",\"@stufflistings ,@FightsSma is a 3 years old kid in India with a degenerative condition called Spinal Muscular Atrophy. He needs another 2cr  for another shot at life. Could you give him a shout out please :\\n#saveayaanshgupta \\nhttps://t.co/2fByiSQr85 https://t.co/C4V4Il8uXu https://t.co/IsasbLCldx\",\"Dear @VishalDadlani sir,@FightsSma is a 3 years old kid in India with a degenerative condition called Spinal Muscular Atrophy.He needs another 2cr  for another shot at life. Could you give him a shout out please :\\n#saveayaanshgupta \\nhttps://t.co/2fByiSQr85 https://t.co/C4V4Il8uXu https://t.co/NUjoZpb13a https://t.co/slgSD3HHjd\",\"@VishalDadlani sir @FightsSma is a 3 years old kid in India with a degenerative condition called Spinal Muscular Atrophy. He needs another 2cr  for another shot at life. Could you give him a shout out please :\\n#saveayaanshgupta \\nhttps://t.co/dKQwhJKGfE https://t.co/YKgi5rSIl2\",\"@qobrienMPH Let me know what you think about my article: https://t.co/TnSr6dTLV0\",\"Child Exoskeleton for Spinal Muscular Atrophy a World's First #disabled via @DisabledWorld https://t.co/OGoDeOBGl9\",\"@thekiranbedi mam @FightsSma is a 3 years old kid in India with a degenerative condition called Spinal Muscular Atrophy. He needs another 2cr  for another shot at life. Could you give him a shout out please :\\n#saveayaanshgupta \\nhttps://t.co/dKQwhJKGfE https://t.co/yiE9MR9dAe https://t.co/Pe8UmcoMJ3\",\"@nikkhiladvani sir @FightsSma is a 3 years old kid in India with a degenerative condition called Spinal Muscular Atrophy. He needs another 2cr  for another shot at life. Could you give him a shout out please :\\n#saveayaanshgupta \\nhttps://t.co/dKQwhJKGfE https://t.co/yiE9MR9dAe https://t.co/a9FSfgdEHG\",\"@nikkhiladvani sir @FightsSma is a 3 years old kid in India with a degenerative condition called Spinal Muscular Atrophy. He needs another 2cr  for another shot at life. Could you give him a shout out please :\\n#saveayaanshgupta \\nhttps://t.co/dKQwhJKGfE https://t.co/yiE9MR9dAe\",\"\\u26a0\\ufe0fPlease donate for Luca! We are running out of time. He is a kid with muscular spinal atrophy and needs world's most expensive medicine #pleasedonate #pleaseshare #Viral #help https://t.co/WDQphvUEr2 - via @DonadoraOrg\",\"@suhasinih mam ,@FightsSma is a 3 years old kid in India with a degenerative condition called Spinal Muscular Atrophy. He needs another 2cr  for another shot at life. Could you give him a shout out please :\\n#saveayaanshgupta \\nhttps://t.co/dKQwhJKGfE https://t.co/XvLO2xIdMU\",\"Help us find the help that these children need, especially for Amberly, she has type 1 spinal muscular atrophy, and needs a vaccine before she is two years old, unfortunately it is a very expensive vaccine which her parents cannot buy\",\"@latewithlilly @latewithlilly please extend ur lil support to @FightsSma from India who is battling life against spinal muscular atrophy the only cure for this disease is #zolgensma costs 2.1 millions $ he has only 5 days left. Please help save him #AMPLIFY https://t.co/4H9MEs86Ge\",\"@TheRock @DCComics @SevenBucksProd @TheRock sir, please extend ur lil support to @FightsSma from India who is battling life against spinal muscular atrophy the only cure for this disease is #zolgensma costs 2.1 millions $ he has only 5 days left. Please help save him https://t.co/4H9MEs86Ge\",\"Feasibility and effectiveness of a novel dynamic arm support in persons with spinal muscular atrophy and duchenne muscular dystrophy  https://t.co/FPjJNvXTC5\",\"Novartis AG: Reduce $2\\u200b.\\u200b1M price of the life-saving drug, Zolgensma, that treats Type 1 Spinal Muscular Atrophy! - Sign the Petition! https://t.co/wc7Otityg4 prin @Change\",\"Alabama lawmakers: Get Spinal Muscular Atrophy put on the New Born Screening in Alabama - Signez la p\\u00e9tition\\u00a0! https://t.co/8kaLeyUdw2 via @ChangeFrance\",\"What an adorable man!! #Ak\\u0131nAk\\u0131n\\u00f6z\\u00fc donated the first suit that he wore in #hercai for Baby Miran who has Spinal Muscular Atrophy. Akin tells the host that the suit belonged to him and brought him much luck.  Keep listening to hear him speak English!  https://t.co/hAvEWuK3cv https://t.co/e2R8Dq0jbI\",\"@marknorm @marknorm sir, please extend ur lil support to @FightsSma from India who is battling life against spinal muscular atrophy the only cure for this disease is #zolgensma costs 2.1 millions $ he has very less time. Please help save him https://t.co/4H9MEs86Ge\",\"@md_chopdar Noor Fatima, a 7 month old Bikaner infant, has been suffering since birth from spinal muscular atrophy a rare genetic condition that leads to the loss of muscles. Her middle-class parents couldn't afford a Rs 16-crore injection required for her medical treatment. https://t.co/L8prH545KF\",\"@mindykaling @mindykaling please extend ur lil support to @FightsSma from India who is battling life against spinal muscular atrophy the only cure for this disease is #zolgensma costs 2.1 millions $ he has very less time. Please help save him https://t.co/4H9MEs86Ge\",\"#save #noorfatima #Bikaner\\n@RahulGandhi @ajaymaken\\n@RajCMO  @ashokgehlot51 @GovindDotasra @RajGovOfficial  Noor Fatima, a 7 month old Bikaner infant, has been suffering since birth from spinal muscular atrophy a rare genetic condition that leads to the loss of muscles.\",\"Feasibility and effectiveness of a novel dynamic arm support in persons with spinal muscular atrophy and duchenne muscular dystrophy https://t.co/X5Pavt9yMO\",\"@aimim_national Noor Fatima, a 7 month old Bikaner infant, has been suffering since birth from spinal muscular atrophy a rare genetic condition that leads to the loss of muscles. Her middle-class parents couldn't afford a Rs 16-crore injection required for her medical treatment. https://t.co/Kqvq8Uz0hm\",\"@DattRajeev @_ravidubey Spinal muscular atrophy ka treatment 16 cr. ka h jo ki koi bhi government afford nahi kar sakti..isliye hum aap sab ki hmare crowdfunding link ko spread karne me help chahte h..\\nHere's our crowdfunding link:\\nhttps://t.co/zswRhw6xES\\n#Zolgensma #RareDisease #savecubby\",\"Novartis AG: Reduce $2\\u200b.\\u200b1M price of the life-saving drug, Zolgensma, that treats Type 1 Spinal Muscular Atrophy! - Sign the Petition! https://t.co/a9bMihfLjv via @CdnChange\",\"@Ibrahim_Ulde @joybhattacharj @FightsSma @joybhattacharj sir please help this kid fighting rare Spinal Muscular Atrophy. The cure is rs16Crore worth medicine. Till now rs13Crore gathered. Rs3Crores more to go in a week's time. Very urgent. Please help.\\nhttps://t.co/uutP6hvdCB\",\"@RGVzoomin  sir,Plz extend a little help to #Ayaansh @FightsSma.3yr old can't evn hold his head due to Spinal Muscular Atrophy.He is being treated at Rainbow Hospital, #Hyderabad. Out of 16cr, 75% has been raised for #ZolgenSMA plz help to amplify \\nhttps://t.co/dKQwhJKGfE https://t.co/3swIvyayK5\",\"@anusuyakhasba mam @FightsSma is a 3 years old kid in India with a degenerative condition called Spinal Muscular Atrophy. He needs another 2cr  for another shot at life. Could you give him a shout out please :\\n#saveayaanshgupta \\nhttps://t.co/dKQwhJKGfE https://t.co/uyAqQc6Q0b\",\"Learn more about the AmplideX PCR/CE SMA Plus Kit, which recently demonstrated its ability to accurately identify variants linked to SMA. \\n\\nhttps://t.co/Dq5urqntnJ\",\"My research is available on @ResearchGate: \\n\\n@SpinalResearch @spinal muscular atrophy @research \\n\\nhttps://t.co/GzhO1D9DiD\",\"@PriyankaJShukla mam ,@FightsSma is a 3 years old kid in India with a degenerative condition called Spinal Muscular Atrophy. He needs another 2cr  for another shot at life. Could you give him a shout out please :\\n#saveayaanshgupta \\nhttps://t.co/2fByiSQr85 https://t.co/QJBNyAClx0 https://t.co/ai1vL8oKMB\",\"Check out this week\\u2019s #WhatDoYouPrayFor segment featuring @barker_ariella - an attorney, policy advisor, communication specialist and former RespectAbility Fellow who was diagnosed with Spinal Muscular Atrophy. https://t.co/PLfx3MgyZu\",\"@bhumipednekar Please mam save our Cubby spinal muscular atrophy type 1 @bhumipednekar https://t.co/7XAR5UHjsA\",\"@AccessibleDan Ugh. Worst time I had it was at a dr checking me for a job. \\\"I have Spinal Muscular Atrophy\\\" \\\"Ah, MS.\\\" \\\"No, SMA!\\\" \\\"Yes, MS.\\\" He didn't even believe me that I didn't  take any medication (by that time).\",\"@joybhattacharj Sir, 2 years &amp; 11 months old Ayaansh @FightsSma needs to raise 16 crores in his fight against Spinal Muscular Atrophy. Till now rs13Crores raised. Rs3Crore more needed in just 1week him. Please help by sharing.\\n#SaveAyaanshGupta \\nhttps://t.co/uutP6hvdCB https://t.co/fy4zdpkXAe\",\"#SaveAyaanshGupta, he has been suffering from Spinal Muscular Atrophy &amp; needs the world\\u2019s most expensive drug. His treatment would cost around \\u20b916,00,00,000. Your donation can help them\\ud83d\\ude4f\\ud83c\\udffc\\nSharing donation links in the comments.\",\"I love it when I share the good news. Ukrainians can do anything when they act together. Parents of Dmytryk, an infant from Odesa with spinal muscular atrophy and needs a $2.6 million dollar shot to cure his disease, managed to collect the whole sum on time.  Now boy has a chance\",\"Matthew Klein, MD, Chief Development Officer at PTC Therapeutics, explains the mechanism of action of risdiplam (Evrysdi), an approved daily therapy for spinal muscular atrophy (SMA) in patients 2 months and older.\\n@ACTforSMA @PTCBio Cure SMA Cure SMA \\nhttps://t.co/BK9cAvNfJf\",\"3yr old Alexander was born with Spinal muscular atrophy with respiratory distress. Newlife provided an Animal Adventure Pod through its Play Therapy Pod Service, which is a free loan of specialist toys.\\nFind out more about our Play Therapy Pods here- https://t.co/8u7G4naIto https://t.co/07T75kpv4p\",\"@KumariRukshmani A 7-month-old girl has been found suffering from a rare disease called spinal muscular atrophy in Bikaner, Rajasthan.There is a dire need for a injection of 16 cr. for the treatment of this girl\\n\\npls help @KumariRukshmani\",\"Spinal muscular atrophy disease threatens the life of the two-and-a-half-year-old Syrian girl Jouli. One treatment injection, the most expensive in the world, with $ 2 million saves her life. \\nhttps://t.co/vO0sGz7VVv\",\"Dear @jamewils, 2 years and 11 months old @FightsSma needs to raise 16 crores in his fight against Spinal Muscular Atrophy. His little friends from across the world have joined hands to help him.\\n\\nCould you give them a shout out?\\n\\nhttps://t.co/wdFnC67BaT\\n\\n#saveayaanshgupta https://t.co/dk1EDxmYbP\",\"@salim_merchant sir @FightsSma is a 3 years old kid in India with a degenerative condition called Spinal Muscular Atrophy. He needs another 2cr  for another shot at life. Could you give him a shout out please :\\n#saveayaanshgupta \\nhttps://t.co/2fByiSQr85 https://t.co/plcyw8pYFJ\",\"@gatesfoundation A 7-month-old girl has been found suffering from a rare disease called spinal muscular atrophy in Bikaner, Rajasthan.There is a dire need for a injection of 16 cr. for the treatment of this girl\\npls help @gatesfoundation @melindagates @KumariRukshmani @SoodFoundation\",\"@SonuSood A 7-month-old girl has been found suffering from a rare disease called spinal muscular atrophy in Bikaner, Rajasthan.There is a dire need for a injection of 16 cr. for the treatment of this girl\\npls help @gatesfoundation @melindagates @KumariRukshmani @SoodFoundation @SonuSood\",\"@SonuSood @SoodFoundation A 7-month-old girl has been found suffering from a rare disease called spinal muscular atrophy in Bikaner, Rajasthan.There is a dire need for a injection of 16 cr. for the treatment of this girl\\npls help @gatesfoundation @melindagates @KumariRukshmani @SoodFoundation @SonuSood\",\"@SonuSood A 7-month-old girl has been found suffering from a rare disease called spinal muscular atrophy in Bikaner, Rajasthan.There is a dire need for a injection of 16 cr. for the treatment of this girl\\npls help @gatesfoundation @melindagates @KumariRukshmani @SoodFoundation @SachinPilot\",\"A 7-month-old girl has been found suffering from a rare disease called spinal muscular atrophy in Bikaner, Rajasthan.There is a dire need for a injection of 16 cr. for the treatment of this girl\\npls help @gatesfoundation @melindagates @KumariRukshmani @SoodFoundation @SachinPilot https://t.co/nUqd5TT4Hr\",\"@Shivani0496 @SonuSood @dilkhush_khoda @DilkhushBhedoli @KamLesh_Mina1 @PKNAREDA25 @Singharayana @SonaMeena17 @queen_priya1 A 7-month-old girl has been found suffering from a rare disease called spinal muscular atrophy in Bikaner, Rajasthan.There is a dire need for a injection of 16 cr. for the treatment of this girl\\npls help @gatesfoundation @melindagates @KumariRukshmani @SoodFoundation @SachinPilot\",\"@raimasen,mam @FightsSma is a 3 years old kid in India with a degenerative condition called Spinal Muscular Atrophy. He needs another 2cr  for another shot at life. Could you give him a shout out please :\\n#saveayaanshgupta \\nhttps://t.co/2fByiSQr85 https://t.co/QJBNyAClx0 https://t.co/XCGLFKdBTp https://t.co/en9UFyobyN\",\"@abhisar_sharma Noor Fatima, a 7 month old Bikaner infant, has been suffering since birth from spinal muscular atrophy a rare genetic condition that leads to the loss of muscles. Her middle-class parents couldn't afford a Rs 16-crore injection required for her medical treatment. https://t.co/Daaa7t2Ro4\",\"@KingSalman Noor Fatima, a 7 month old Indian infant, has been suffering since birth from spinal muscular atrophy a rare genetic condition that leads to the loss of muscles. Her middle-class parents couldn't afford a $2.1 million injection required for her medical treatment. https://t.co/frISdXwXXh\",\"@IndianEmbRiyadh Noor Fatima, a 7 month old Bikaner infant, has been suffering since birth from spinal muscular atrophy a rare genetic condition that leads to the loss of muscles. Her middle-class parents couldn't afford a Rs 16-crore injection required for her medical treatment. https://t.co/3TuByUNAX0\",\"@SunnyLeone,@FightsSma is a 3 years old kid in India with a degenerative condition called Spinal Muscular Atrophy. He needs another 2cr  for another shot at life. Could you give him a shout out please :\\n#saveayaanshgupta \\nhttps://t.co/2fByiSQr85 https://t.co/twybwijR5V https://t.co/QJBNyAClx0\",\"@atulkasbekar sir,@FightsSma is a 3 years old kid in India with a degenerative condition called Spinal Muscular Atrophy. He needs another 2cr  for another shot at life. Could you give him a shout out please :\\n#saveayaanshgupta \\nhttps://t.co/2fByiSQr85 https://t.co/Ctx3rxGNFw\",\"@bainjal mam,@FightsSma is a 3 years old kid in India with a degenerative condition called Spinal Muscular Atrophy. He needs another 2cr  for another shot at life. Could you give him a shout out please :\\n#saveayaanshgupta \\nhttps://t.co/2fByiSQr85 https://t.co/sNMf4CGJfN\",\"@SanjeevKapoor sir,@FightsSma is a 3 years old kid in India with a degenerative condition called Spinal Muscular Atrophy. He needs another 2cr  for another shot at life. Could you give him a shout out please :\\n#saveayaanshgupta \\nhttps://t.co/2fByiSQr85 https://t.co/COHQxWFCYa https://t.co/UnrkARnTkd https://t.co/dsQJiYtgmB\",\"@ShashiTharoor  sir,@FightsSma is a 3 years old kid in India with a degenerative condition called Spinal Muscular Atrophy. He needs another 2cr  for another shot at life. Could you give him a shout out please :\\n#saveayaanshgupta \\nhttps://t.co/2fByiSQr85 https://t.co/COHQxWFCYa\",\"@ashutosh83B  sir,@FightsSma is a 3 years old kid in India with a degenerative condition called Spinal Muscular Atrophy. He needs another 2cr  for another shot at life. Could you give him a shout out please :\\n#saveayaanshgupta \\nhttps://t.co/2fByiSQr85 https://t.co/COHQxWFCYa https://t.co/OqDG9MxVkl\",\"#SpinalMuscularAtrophy #StemCellCareIndia\\nIt is projected that spinal muscular atrophy affects one in 7000 babies born and that about one in 50 individuals are hereditary carriers of the disease.\\n\\nTo know more about available treatment for #SMA,\\nVisit- https://t.co/zbSgfnPVvA https://t.co/Qo3h1dSt21\",\"Help us reach more supporters by sharing our petition on social media!! https://t.co/Otobrdi7LS via @Change\\nPlease sign and retweet. Thank you. God Bless.\",\"@BringSaudi Bikaner: Nor Fatima, a 7 month old Bikaner infant,has been suffering since birth from spinal muscular atrophy a rare genetic condition that leads to the loss of muscles. Her middle-class parents couldn't afford a Rs 16-crore injection required for her medical treatmnt https://t.co/QDQzdL6Qm2\",\"@PMOIndia Bikaner: Nor Fatima, a 7 month old Bikaner infant, has been suffering since birth from spinal muscular atrophy a rare genetic condition that leads to the loss of muscles. Her middle-class parents couldn't afford a Rs 16-crore injection required for her medical treatment https://t.co/CpHkX4izd6\",\"@ANI Bikaner: Noor Fatima, a 7 month old Bikaner infant, has been suffering since birth from spinal muscular atrophy a rare genetic condition that leads to the loss of muscles. Her middle-class parents couldn't afford a Rs 16-crore injection required for her medical treatment. https://t.co/9kbcPhxs1D\",\"@ketto Bikaner: Noor Fatima, a 7 month old Bikaner infant, has been suffering since birth from spinal muscular atrophy a rare genetic condition that leads to the loss of muscles. Her middle-class parents couldn't afford a Rs 16-crore injection required for her medical treatment. https://t.co/BUsUYkImRX\",\"@ndtv Bikaner: Noor Fatima, a 7 month old Bikaner infant, has been suffering since birth from spinal muscular atrophy a rare genetic condition that leads to the loss of muscles. Her middle-class parents couldn't afford a Rs 16-crore injection required for her medical treatment. https://t.co/Fu10oxZVmE\",\"Help us reach more supporters by sharing our petition on social media!! https://t.co/OKChxit1cj via @Change\",\"Novartis AG: Reduce $2\\u200b.\\u200b1M price of the life-saving drug, Zolgensma, that treats Type 1 Spinal Muscular Atrophy! - Sign the Petition! https://t.co/g0sOCPRKhK via @Change\",\"@SushmitaFCAUT @FightsSma is a 3 years old kid from #india with a degenerative condition called Spinal Muscular Atrophy.He needs another 2Cr to get his life saving drug #ZolGenSMA Could you give him a shout out please :\\n#saveayaanshgupta \\nhttps://t.co/t0BldSDqGK https://t.co/SkKScoxNHI\",\"The Xbox Adaptive Controller is providing patients with spinal muscular atrophy the opportunity to play and connect with one another around the globe. \\n\\n https://t.co/sOs7MBQ0Qn\",\"Dear @TulsikumarTK ,@FightsSma is a 3 years old kid in India with a degenerative condition called Spinal Muscular Atrophy. He needs another 2cr  for another shot at life. Could you give him a shout out please :\\n#saveayaanshgupta \\nhttps://t.co/2fByiSQr85 https://t.co/C4V4Il8uXu https://t.co/WFQIWnH9Nr\",\"Dear @TulsikumarTK ,@FightsSma is a 3 years old kid in India with a degenerative condition called Spinal Muscular Atrophy. He needs another 2cr  for another shot at life. Could you give him a shout out please :\\n#saveayaanshgupta \\nhttps://t.co/2fByiSQr85 https://t.co/C4V4Il8uXu https://t.co/NUjoZpb13a\",\"A child Noor age 6 and a half months has diagnosed with Spinal Muscular Atrophy(SMA), needs 16 crore injection for treatment, her father is a labor, can't manage this big amount please help @RajCMO @ashokgehlot51 @PMOIndia @narendramodi #pleasesavenoor #india #pleasehelp #help\",\"@rickygervais Hello,\\nMuhammed Ali has Sma (Spinal Muscular Atrophy) Type 1 disease.\\nSharing his posts just one time may create butterfly effect and reach out thousands of hearts!\\n\\nEvery baby deserves living.. \\ud83d\\ude4f\\ud83d\\ude4f\\n\\n@muhammedalisma https://t.co/t78SPCwBYU\",\"AmplideX PCR/CE SMA Plus Kit accurately identifies genetic variations associated with #SMA. Read more about it now:\\n\\nhttps://t.co/Dq5urqntnJ\",\"Congratulations! Benjamin Kleinstiver PhD, Massachusetts General Hospital, receives an Innovation Discovery Grant for \\\"Towards a Permanent Genetic Cure for Spinal Muscular Atrophy\\\" at #WMIF2021 @MassGeneralNews @MGH_RI @CGM_MGH\",\"I'm raising money for Cure for Marcel - Fighting Spinal Muscular Atrophy. Click to Donate:  https://t.co/j7GL5pHrH9 #GoFundMe https://t.co/WIROwqGRY4\",\"Today, the Emirates Red Crescent Authority received at DXB Airport, Almijlis, Julie who suffers from muscular spinal atrophy, to conduct the necessary examinations and accompany her during the treatment phase.\\n\\nhttps://t.co/B3uUslR0sW\",\"Dear @tejaswwini @FightsSma is a 2 years and 11 months old kid in India with a degenerative condition called Spinal Muscular Atrophy. He needs another 3cr  for another shot at life. Could you give him a shout out please :\\n\\nhttps://t.co/sik3D8xOT1\\n\\n#saveayaanshgupta https://t.co/KJm1Td1zvB\",\"@mekedarshinde @FightsSma is a 2 years and 11 months old kid in India with a degenerative condition called Spinal Muscular Atrophy. He needs another 3cr  for another shot at life. Could you give him a shout out please :\\n\\nhttps://t.co/sik3D8xOT1\\n\\n#saveayaanshgupta https://t.co/LNxD9G4rI2\",\"@manjrekarmahesh @FightsSma is a 2 years and 11 months old kid in India with a degenerative condition called Spinal Muscular Atrophy. He needs another 3cr  for another shot at life. Could you give him a shout out please :\\n\\nhttps://t.co/sik3D8xOT1\\n\\n#saveayaanshgupta https://t.co/PpcuNlEJux\",\"@sonalikulkarni @FightsSma is a 2 years and 11 months old kid in India with a degenerative condition called Spinal Muscular Atrophy. He needs another 3cr  for another shot at life. Could you give him a shout out please :\\n\\nhttps://t.co/sik3D8xOT1\\n\\n#saveayaanshgupta https://t.co/u60VQmJFnS\",\"Dear @OfficialAmruta @FightsSma is a 2 years and 11 months old kid in India with a degenerative condition called Spinal Muscular Atrophy. He needs another 3cr  for another shot at life. Could you give him a shout out please :\\n\\nhttps://t.co/sik3D8xOT1\\n\\n#saveayaanshgupta https://t.co/J3aHPBSoyp\",\"Woman with rare muscular disease sings to exercise her lungs. Her songs inspire others to chase their dreams https://t.co/h2Zukmlr3n\",\"Spinraza (nusinersen) will be available to people with spinal muscular atrophy type 3 who are unable to walk. Patient organizations advocated the decision. Read more about it here: https://t.co/exJeC9cTDp https://t.co/aF4ErNt48L\",\"Dear, Prime Minister @narendramodi there is a 3 year old kid named Ayaansh Gupta from Hyderabad, who is suffering from Spinal Muscular Atrophy, which can only be treated by a drug named Zolgensma, which costs around 16 crores out of which 11.9 Crores has been raised by crowd fund https://t.co/NPeSf7cSK4\",\"On #InternationalClinicalTrialsDay, we recognize CHKD\\u2019s #ClinicalResearch professionals. Thanks to you, Kaeli Price turned 2 recently after being the first baby in VA to receive a gene therapy drug to treat spinal muscular atrophy. Read her story | https://t.co/6fmvzInjDF. #CHKD https://t.co/cF1d4RLwIF\",\"@elonmusk\\nTranslation: 7 months old suffering from Spinal Muscular Atrophy needs Zolgensma costing around USD 2.2 Million...\\nCan you help Elon, here is your chance to save Human Life and Faith.... https://t.co/3RHsAj1jbI\",\"#EMBLIIT2021 Keynote 1 by Adrian R Krainer @CSHL\\non Antisense Modulators of RNA #Splicing in therapeutic applications for Spinal Muscular Atrophy #SMA and others https://t.co/CgRUy7wnHH\",\"NICE approves life-changing gene therapy for treating spinal muscular atrophy https://t.co/qygBY16fZp https://t.co/VKiQh4C7XD\",\"Join us for our Roche-sponsored educational symposium, \\u2018Meaningful outcomes across all SMA types\\u2019, where our expert faculty will discuss the concept of meaningful outcomes across a range of phenotypes in spinal muscular atrophy (SMA) in the era of disease-modifying therapies. https://t.co/EDnqLGscUi\",\"Dear @JhulanG10 @FightsSma is a 2 years and 11 months old kid in India with a degenerative condition called Spinal Muscular Atrophy. He needs another 3cr  for another shot at life. Could you give him a shout out please :\\n\\nhttps://t.co/sik3D8xOT1\\n\\n#saveayaanshgupta https://t.co/Dk4z0F9VQG\",\"Dear @TheShafaliVerma @FightsSma is a 2 years and 11 months old kid in India with a degenerative condition called Spinal Muscular Atrophy. He needs another 3cr  for another shot at life. Could you give him a shout out please :\\n\\nhttps://t.co/sik3D8xOT1\\n\\n#saveayaanshgupta https://t.co/TRnJUVQHIj\",\"Dear @ImHarmanpreet @FightsSma is a 2 years and 11 months old kid in India with a degenerative condition called Spinal Muscular Atrophy. He needs another 3cr  for another shot at life. Could you give him a shout out please :\\n\\nhttps://t.co/sik3D8xOT1\\n\\n#saveayaanshgupta https://t.co/1Demx2iJCP\",\"Dear @M_Raj03 @FightsSma is a 2 years and 11 months old kid in India with a degenerative condition called Spinal Muscular Atrophy. He needs another 3cr  for another shot at life. Could you give him a shout out please :\\n\\nhttps://t.co/sik3D8xOT1\\n\\n#saveayaanshgupta https://t.co/srEsrD7Djg\",\"Dear @mandhana_smriti  @FightsSma is a 2 years and 11 months old kid in India with a degenerative condition called Spinal Muscular Atrophy. He needs another 3cr  for another shot at life. Could you give him a shout out please :\\n\\nhttps://t.co/sik3D8xOT1\\n\\n#saveayaanshgupta https://t.co/MUbprxx72d\",\"@palakmuchhal3 kindly help  my sister 5 month old baby to survive beyond age of two,who suffers from Spinal muscular atrophy that needs 16 crore for treatment.Kindly support our crowd funding link.\\nhttps://t.co/PVpRsLLMgt\\n#ZolgenSMA #savecubby #RareDisease https://t.co/wGOI3BzHLK\",\"@HarshD1985 @anandmahindra @FightsSma @anandmahindra Ayaansh has so much potential just like Naksh. But he may never find out as he may not live beyond 3 years. He is fighting Spinal Muscular Atrophy for which he need's world's most expensive drug by @Novartis Only a week left for the boy and needs Rs 4 crores.\",\"#MDPIMetabolites \\ud83d\\udcd7\\\"Spinal Muscular Atrophy after Nusinersen Therapy: Improved #Physiology in Pediatric Patients with No Significant Change in #Urine, #Serum, and Liquor 1H-NMR Metabolomes in Comparison to an Age-Matched, Healthy Cohort\\\"  is available at \\ud83d\\udd17https://t.co/5Gvj0EsrF6 https://t.co/qOfGf6cPYF\",\"Spanish \\ud83d\\udd2cscientists from @CSIC and @MarsiBionics have designed #ATLAS2030, the first exoskeleton for children. This paediatric technology received the CE mark and will help children with mobility impairments associated with spinal muscular atrophy.\\n@adspelenagarcia @CienciaGob https://t.co/g6BZTJLH0w\",\"@RGVzoomin sir @FightsSma is a 2 years and 11 months old kid in India with a degenerative condition called Spinal Muscular Atrophy. He needs another 3cr  for another shot at life. Could you give him a shout out please :\\n#saveayaanshgupta \\nhttps://t.co/2fByiSQr85 https://t.co/7Jc0odA80c\",\"New Research: Safety, Tolerability, and Effect of Nusinersen Treatment in Ambulatory Adults With 5q-SMA: Objective: To determine the safety and tolerability of nusinersen treatment in ambulatory adults with spinal muscular atrophy (SMA) and\\u2026 https://t.co/OedCxakRkD #Neurology\",\"@deespeak  Our daughter, Srishti Rani is fighting a rare disease, Spinal Muscular Atrophy (SMA) type 1. need Zolgensma drug (USD 2.1 million) to give life to her. She doesn't have much time\\nPlz help us raise funds: https://t.co/9JtfIXAZXw\\n\\nhttps://t.co/3OrK1hDz6D\\n\\nThanks!\",\"@swati_gs mam, @FightsSma is a 2 years and 11 months old kid in India with a degenerative condition called Spinal Muscular Atrophy. He needs another 3cr  for another shot at life. Could you give him a shout out please :\\n#saveayaanshgupta \\nhttps://t.co/2fByiSQr85 https://t.co/s55VRHQOCE\",\"apurvakas: @khalsaaid_india @tatatrusts @nationaltrust @ishafoundation @IshaUSA @HumsafarTrust @SVTMumbai #Ayaansh @FightsSma is a 2.11yr old kid in India with rare Spinal Muscular Atrophy. Needs 3cr more for another shot at life. Could you help with\\u2026 https://t.co/XYVcUcyAq3\",\"Dear @ankitmay28 @FightsSma is a 2 years and 11 months old kid in India with a degenerative condition called Spinal Muscular Atrophy. He needs another 4cr  for another shot at life. Could you give him a shout out please :\\n\\nhttps://t.co/sik3D8xOT1\\n\\n#saveayaanshgupta https://t.co/ppAtDL324Z\",\"@neelkantbakshi sir #Ayaansh @FightsSma is a 2 years and 11 months old kid in India with a degenerative condition called Spinal Muscular Atrophy. He needs another 3cr for another shot at life. Could you give him a shout out please :\\n\\n#saveayaanshgupta https://t.co/UBFv3glXbj https://t.co/wVrPW8AJcx\",\"@khalsaaid_india @tatatrusts @nationaltrust @ishafoundation @IshaUSA @HumsafarTrust @SVTMumbai #Ayaansh @FightsSma is a 2.11yr old kid in India with rare Spinal Muscular Atrophy. Needs 3cr more for another shot at life. Could you help with donation please\\n#saveayaanshgupta https://t.co/jReGWMgWs7\",\"@SVTMumbai #Ayaansh @FightsSma is a 2 yrs &amp; 11 months old kid in India with a degenerative condition called Spinal Muscular Atrophy. He needs another 3cr  for another shot at life. Could you help with donation please :\\n#saveayaanshgupta  \\nhttps://t.co/uutP6hvdCB https://t.co/WfD9rUUZ5J\",\"@SVTMumbai @SVTMumbai #Ayaansh @FightsSma is a 2 yrs &amp; 11 months old kid in India with a degenerative condition called Spinal Muscular Atrophy. He needs another 3cr  for another shot at life. Could you help with donation please :\\n#saveayaanshgupta \\nhttps://t.co/uutP6hvdCB https://t.co/6Nmplriutg\",\"@rajcheerfull sir @FightsSma is a 2 years and 11 months old kid in India with a degenerative condition called Spinal Muscular Atrophy. He needs another 3cr  for another shot at life. Could you give him a shout out please :\\n#saveayaanshgupta \\nhttps://t.co/2fByiSQr85 https://t.co/zjz38vDXRj\",\"Dear @TheRaghav_Juyal  @FightsSma is a 2 years and 11 months old kid in India with a degenerative condition called Spinal Muscular Atrophy. He needs another 3cr  for another shot at life. Could you give him a shout out please :\\n#saveayaanshgupta \\nhttps://t.co/2fByiSQr85 https://t.co/UzCLGDiknU https://t.co/mkJxZOuy4o\",\"Dear @TheRaghav_Juyal  @FightsSma is a 2 years and 11 months old kid in India with a degenerative condition called Spinal Muscular Atrophy. He needs another 3cr  for another shot at life. Could you give him a shout out please :\\n#saveayaanshgupta \\nhttps://t.co/2fByiSQr85 https://t.co/C4V4Il8uXu\",\"@SonuSood @SoodFoundation Please sir save our Cubby spinal muscular atrophy type 1 @sonusood and @SoodFoundation https://t.co/xFIQUiCf4x\",\"Let us hope for a productive life for this small adorable person. #ModernMedicalMiracle?\\n\\nhttps://t.co/gqKsYvP4o5\",\"This 5 month old baby is losing mobility caused by Spinal Muscular Atrophy and he urgently needs Zolgensma, the most expensive medicine in the world which costs $2,1 million USD dollars. If you can please help with any amount or please help sharing. https://t.co/BmDPhYNxGH https://t.co/o42K3511GV\",\"Dear @parrysingh, @FightsSma is a 2 years and 11 months old kid in India with a degenerative condition called Spinal Muscular Atrophy. He needs another 300k USD  for another shot at life. Could you give him a shout out please :\\n\\nhttps://t.co/s0xJcMgaIs\\n\\n#saveayaanshgupta\",\"@JoseAlv11423727 @GregAbbott_TX @SenBryanHughes @ShelbySlawson My friends had a child die of spinal muscular atrophy(SMA). At the end, they refused treatment knowing their daughter would die faster.\\n\\nI should start calling that \\\"killing a baby\\\"\",\"anyway. a coworker shared this fundraiser for a family they know whose kid has spinal muscular atrophy and needs to raise $640k in the next week to be eligible for a single infusion of lifesaving gene therapy. if you can donate, we might get them there https://t.co/4SqEGF7FyV\",\"ICYMI: the AplideX Kit accurately identifies variants linked to SMA.\\n\\nCopy number results for the kit were highly concordant with reference results from other methods.\\n\\nhttps://t.co/Dq5urqF4Mj\",\"I'm raising money for Cure for Marcel - Fighting Spinal Muscular Atrophy. Click to Donate:  https://t.co/2Nc7vHzyKY #GoFundMe\",\"Dear @sumrag  @FightsSma is a 2 years and 11 months old kid in India with a degenerative condition called Spinal Muscular Atrophy. He needs another 4cr  for another shot at life. Could you give him a shout out please :\\n#saveayaanshgupta \\nhttps://t.co/2fByiSQr85 https://t.co/r1RkDKiOQI\",\"Child fights for her life by taking 'most expensive drug in the world' - WTVD-TV https://t.co/kE4hAvu2cv https://t.co/bBO11cqicB\",\"Label\\u2010free quantitative proteomic analysis of extracellular vesicles released from fibroblasts derived from patients with spinal muscular atrophy https://t.co/FLrN5jUbom #WileyProteomics #MassSpecPub https://t.co/l8SsUh8fpk\",\"Dear @gurruchoudhary, @FightsSma is a 2 years and 11 months old kid in India with a degenerative condition called Spinal Muscular Atrophy. He needs another 4cr  for another shot at life. Could you give him a shout out please :\\n#saveayaanshgupta \\nhttps://t.co/2fByiSQr85 https://t.co/n6IiQEICNW\",\"Dear @gurruchoudhary, @FightsSma is a 2 years and 11 months old kid in India with a degenerative condition called Spinal Muscular Atrophy. He needs another 4cr  for another shot at life. Could you give him a shout out please :\\n#saveayaanshgupta \\nhttps://t.co/2fByiSQr85 https://t.co/u8lDiAJai7 https://t.co/SIT9CCQB2G\",\"Dear @nidhiindiatv, @FightsSma is a 2 years and 11 months old kid in India with a degenerative condition called Spinal Muscular Atrophy. He needs another 4cr  for another shot at life. Could you give him a shout out please :\\n#saveayaanshgupta \\nhttps://t.co/2fByiSQr85 https://t.co/1Dr7OU14Mi\",\"@swati_gs  mam,Plz extend a little help to #Ayaansh @FightsSma.3yr old can't evn hold his head due to Spinal Muscular Atrophy.He is being treated at Rainbow Hospital, Hyderabad. Out of 16cr, 12 cr has been raised for #ZolgenSMA plz help to amplify\\ud83d\\ude4f\\nhttps://t.co/2fByiSQr85 https://t.co/aJfRJIzSwq\",\"Dear @fayedsouza ,@FightsSma is a 2 years and 11 months old kid in India with a degenerative condition called Spinal Muscular Atrophy. He needs another 4cr  for another shot at life. Could you give him a shout out please :\\n#saveayaanshgupta \\nhttps://t.co/2fByiSQr85 https://t.co/cHIdK6LOXR\",\"Zolgensma, a form of gene therapy for babies and young children suffering from Spinal Muscular Atrophy, will be available on the NHS. The cost of a single dose is \\u00a31.79 MILLION, making it the most expensive drug in the world. The NHS won\\u2019t charge for it\\ud83d\\udc99  https://t.co/6pRlwh5DGu\",\"@MinistryWCD @MoHFW_INDIA there are children suffering from spinal muscular atrophy (SMA) and in certain cases need the life saving drug - Zolgensma costing \\u20b916 cr. There are donation drives that have been trying to raise the funds but the amount is quite difficult to reach.\",\"@divyenndu plzz spread request message of mirzapur's CM to save life of 5 month old child diagnosed with Spinal muscular atrophy that needs 16 cr. vaccine zolgensma for survival beyond age of two.\\nPlzz spread our crowdfunding link\\nhttps://t.co/zswRhw6xES\\n#ZolGenSMA #RareDisease https://t.co/lKhZalcgkn\",\"Child fights for her life by taking Zolgensma, 'most expensive drug in the world', for spinal muscular atrophy -  - $2 million a dose. https://t.co/pXmUUAL2lz\",\"Brades' Place provides pediatric palliative care for kids with life altering illnesses including Spinal Muscular Atrophy, or SMA. \\n\\n#bradesplace #uniquemedicalcareforuniquekids #sma #spinalmuscularatrophy #diagnosisday\\u2060 #wonderwednesday https://t.co/hGT3k4vyDz\",\"Teamwork leading to an effort to educate PTs about care for those with SMA.  \\n#PLOSONE: Essential competencies for physical therapist managing individuals with spinal muscular atrophy: A  ... https://t.co/1DUh3qcCMU\\u2026 \\n@ColumbiaUnivDPT @NUPTHMS @Stanford_Neuro\",\"@GameOfThrones @FightsSma is a 2 years and 11 months old kid in India with a degenerative condition called Spinal Muscular Atrophy. He needs another 4cr  for another shot at life. Could you give him a shout out please :\\n\\nhttps://t.co/sik3D8xOT1\\n\\n#saveayaanshgupta https://t.co/q61TQpO9zW\",\"\\u201cWhen I look around a room, I don't often see anybody else like me.\\u201d Eleanor Beidatsch talks surviving childhood against terrible odds, having Spinal Muscular Atrophy (SMA) Type 1 and getting a degree. A great story, read it here via @abcnews:\\nhttps://t.co/6jGZYpwCJD\",\"Our \\\"AAV Success Studies | Retinal Dystrophy | Spinal Muscular Atrophy\\\" panelists have taken the stage. #WMIF2021 @MassEyeAndEar @REGENXBIO @spark_tx @NovartisGene https://t.co/u3UeEypekH\",\"Some forms of SMA can cause the respiratory muscles to be weaker than usual. Breathing problems are the leading cause of illness for people living with SMA, making breathing support important. Learn more: https://t.co/NT10z09E1p\",\"@SuzyPelta @FightsSma is a 2 years and 11 months old kid in India with a degenerative condition called Spinal Muscular Atrophy. He needs another 4cr  for another shot at life. Could you give him a shout out please :\\n\\nhttps://t.co/sik3D8PpKz\\n\\n#saveayaanshgupta https://t.co/2HdG9DTYDV\",\"Dear @JeffMauro @FightsSma is a 2 years and 11 months old kid in India with a degenerative condition called Spinal Muscular Atrophy. He needs another 4cr  for another shot at life. Could you give him a shout out please :\\n\\nhttps://t.co/sik3D8xOT1\\n\\n#saveayaanshgupta https://t.co/4jL3DdZC4c\",\"Dear @GDeLaurentiis @FightsSma is a 2 years and 11 months old kid in India with a degenerative condition called Spinal Muscular Atrophy. He needs another 4cr  for another shot at life. Could you give him a shout out please :\\n\\nhttps://t.co/sik3D8xOT1\\n\\n#saveayaanshgupta https://t.co/9YWV9H2ax5\",\"Dear @bflay @FightsSma is a 2 years and 11 months old kid in India with a degenerative condition called Spinal Muscular Atrophy. He needs another 4cr  for another shot at life. Could you give him a shout out please :\\n\\nhttps://t.co/sik3D8xOT1\\n\\n#saveayaanshgupta https://t.co/n25jGr8WUa\",\"@SonuSood @SoodFoundation Hlo sir\\nPlz help noor fatima a 7 months old girl sufferring from spinal muscular atrophy type 1 lives in bikaner rajasthan she wants zolgensma injection \\nFund raise:16 crores\\nPlz help\\n#helpnoorfatimalive\\n#SonuSood\",\"@SonuSood @SoodFoundation @DMMoradabad Help raise fund for Noor fatima,a 7 months old child suffering from Spinal Muscular Atrophy (SMA) type 1 for past few days. Needs ZOLGENSMA INJECTION.\\nFUNDRAISE:16 CR\\n\\nHelp as much as u can.\\nJust share this to everyone.\\nMaybe your one tweet helps her.\\n\\nTweet: #helpnoorfatimalive\",\"@SonuSood @SoodFoundation Help raise fund for Noor fatima,a 7 months old child suffering from Spinal Muscular Atrophy (SMA) type 1 for past few days. Needs ZOLGENSMA INJECTION.\\nFUNDRAISE:16 CR\\n\\nHelp as much as u can.\\nJust share this to everyone.\\nMaybe your one tweet helps her.\\n\\nTweet: #helpnoorfatimalive\",\"@SonuSood @SoodFoundation Help raise fund for Noor fatima,a 7 months old child suffering from Spinal Muscular Atrophy (SMA) type 1 for past few days. Needs ZOLGENSMA INJECTION.\\nFUNDRAISE:16 CR\\n\\nHelp as much as u can.\\nJust share this to everyone.\\nMaybe your one tweet helps her.\\n\\nTweet: #helpnoorfatimalive\",\"@SonuSood @SoodFoundation Help raise fund for Noor fatima,a 7 months old child suffering from Spinal Muscular Atrophy (SMA) type 1 for past few days. Needs ZOLGENSMA INJECTION.\\nFUNDRAISE:16 CR\\n\\nHelp as much as u can.\\nJust share this to everyone.\\nMaybe your one tweet helps her.\\n\\nTweet: #helpnoorfatimalive\",\"Dear @KananGill @FightsSma is a 2 years and 11 months old kid in India with a degenerative condition called Spinal Muscular Atrophy. He needs another 4cr  for another shot at life. Could you give him a shout out please :\\n\\nhttps://t.co/sik3D8xOT1\\n\\n#saveayaanshgupta https://t.co/h08Hq1Xxlt\",\"@SonuSood Help raise fund for Noor fatima,a 7 months old child suffering from Spinal Muscular Atrophy (SMA) type 1 for past few days. Needs ZOLGENSMA INJECTION.\\nFUNDRAISE:16 CR\\n\\nHelp as much as u can.\\nJust share this to everyone.\\nMaybe your one tweet helps her.\\n\\nTweet: #helpnoorfatimalive\",\"Dear @Zakirism @FightsSma is a 2 years and 11 months old kid in India with a degenerative condition called Spinal Muscular Atrophy. He needs another 4cr  for another shot at life. Could you give him a shout out please :\\n\\nhttps://t.co/sik3D8xOT1\\n\\n#saveayaanshgupta https://t.co/RqjcPrC6FS\",\"@SonuSood @drgautambhansa1 @SoodFoundation Help raise fund for Noor fatima,a 7 months old child suffering from Spinal Muscular Atrophy (SMA) type 1 for past few days. Needs ZOLGENSMA INJECTION.\\nFUNDRAISE:16 CR\\n\\nHelp as much as u can.\\nJust share this to everyone.\\nMaybe your one tweet helps her.\\n\\nTweet: #helpnoorfatimalive\",\"Dear @amitandon @FightsSma is a 2 years and 11 months old kid in India with a degenerative condition called Spinal Muscular Atrophy. He needs another 4cr  for another shot at life. Could you give him a shout out please :\\n\\nhttps://t.co/sik3D8xOT1\\n\\n#saveayaanshgupta https://t.co/OtOHqQO4Db\",\"@SonuSood @flyspicejet Help raise fund for Noor fatima,a 7 months old child suffering from Spinal Muscular Atrophy (SMA) type 1 for past few days. Needs ZOLGENSMA INJECTION.\\nFUNDRAISE:16 CR\\n\\nHelp as much as u can.\\nJust share this to everyone.\\nMaybe your one tweet helps her.\\n\\nTweet: #helpnoorfatimalive\",\"Dear @be_a_bassi @FightsSma is a 2 years and 11 months old kid in India with a degenerative condition called Spinal Muscular Atrophy. He needs another 4cr  for another shot at life. Could you give him a shout out please :\\n\\nhttps://t.co/sik3D8xOT1\\n\\n#saveayaanshgupta https://t.co/XnSNseSLiI\",\"@RahulGandhi Help raise fund for Noor fatima,a 7 months old child suffering from Spinal Muscular Atrophy (SMA) type 1 for past few days. Needs ZOLGENSMA INJECTION.\\nFUNDRAISE:16 CR\\n\\nHelp as much as u can.\\nJust share this to everyone.\\nMaybe your one tweet helps her.\\n\\nTweet: #helpnoorfatimalive\",\"@ArorajArvind Help raise fund for Noor fatima,a 7 months old child suffering from Spinal Muscular Atrophy (SMA) type 1 for past few days. Needs ZOLGENSMA INJECTION.\\nFUNDRAISE:16 CR\\n\\nHelp as much as u can.\\nJust share this to everyone.\\nMaybe your one tweet helps her.\\nTweet: #helpnoorfatimalive\",\"Dear @thekiranbedi @FightsSma is a 2 years and 11 months old kid in India with a degenerative condition called Spinal Muscular Atrophy. He needs another 4cr  for another shot at life. Could you give him a shout out please :\\n\\nhttps://t.co/sik3D8xOT1\\n\\n#saveayaanshgupta https://t.co/9hjTwPCeDK\",\"Dear @WildlifeofDay @FightsSma is a 2 years and 11 months old kid in India with a degenerative condition called Spinal Muscular Atrophy. He needs another 4cr  for another shot at life. Could you give him a shout out please :\\n\\nhttps://t.co/sik3D8xOT1\\n\\n#saveayaanshgupta https://t.co/D5Wz1cJvDi\",\"Recently published results from a multisite evaluation study of the AmplideX PCR/CE SMA Plus Kit showed that the screening test accurately identifies genetic variations associated with spinal muscular atrophy.\\n\\nhttps://t.co/Dq5urqntnJ\",\"Help raise fund for Noor fatima,a 7 months old child suffering from Spinal Muscular Atrophy (SMA) type 1 for past few days. Needs ZOLGENSMA INJECTION.\\nFUNDRAISE:16 CR\\n\\nHelp as much as u can.\\nJust share this to everyone.\\nMaybe your one tweet helps her.\\n\\nTweet: #helpnoorfatimalive\",\"New UK care pathway for babies with Spinal Muscular Atrophy provides education and information for healthcare professionals to confidently detect, diagnose and treat infants and children with #SMA. \\nhttps://t.co/MR5qdiulcR\\n\\n@TheNeuroAcademy\",\"\\ud83c\\udf10 WebPro presents... Insights into the molecular consequences of phosphorylation of androgen receptor: implications for the pathogenesis of spinal and bulbar muscular atrophy by @laura_tosatto https://t.co/pn13fBrwzn\",\"@ScoopWhoop #ayaansh @FightsSma is a 2 years and 11 months old kid in India with a degenerative condition called Spinal Muscular Atrophy. He needs another 4cr  for another shot at life. \\n#saveayaanshgupta https://t.co/mnoAltrebT\\n#saveayaanshgupta https://t.co/mnoAltrebT\",\"Dear @NeilNMukesh @FightsSma is a 2 years and 11 months old kid in India with a degenerative condition called Spinal Muscular Atrophy. He needs another 4cr  for another shot at life. Could you give him a shout out please :\\n\\nhttps://t.co/sik3D8xOT1\\n\\n#saveayaanshgupta\",\"Dear @JCreatureTravel @FightsSma is a 2 years and 11 months old kid in India with a degenerative condition called Spinal Muscular Atrophy. He needs another 4cr  for another shot at life. Could you give him a shout out please :\\n\\nhttps://t.co/sik3D8xOT1\\n\\n#saveayaanshgupta https://t.co/XtdJpd1L9G\",\"Dear @blues_traveler @FightsSma is a 2 years and 11 months old kid in India with a degenerative condition called Spinal Muscular Atrophy. He needs another 4cr  for another shot at life. Could you give him a shout out please :\\n\\nhttps://t.co/sik3D8xOT1\\n\\n#saveayaanshgupta https://t.co/CACPMo8OzY\",\"Dear @TravelLeisure @FightsSma is a 2 years and 11 months old kid in India with a degenerative condition called Spinal Muscular Atrophy. He needs another 4cr  for another shot at life. Could you give him a shout out please :\\n\\nhttps://t.co/sik3D8xOT1\\n\\n#saveayaanshgupta https://t.co/XoCUA6cEAg\",\"Stacy Pokorny, a mother of a young girl with spinal muscular atrophy (SMA), gives advice to parents of children who have recently been diagnosed with the disease. \\n@ACTforSMA @CureSMA Cure SMA \\nhttps://t.co/d468cGPBw3\",\"Dear @paponmusic @FightsSma is a 2 years and 11 months old kid in India with a degenerative condition called Spinal Muscular Atrophy. He needs another 4cr  for another shot at life. Could you give him a shout out please :\\n\\nhttps://t.co/sik3D8xOT1\\n\\n#saveayaanshgupta https://t.co/wmSJ5yM8Oi\",\"Dear @SuPriyoBabul @FightsSma is a 2 years and 11 months old kid in India with a degenerative condition called Spinal Muscular Atrophy. He needs another 4cr  for another shot at life. Could you give him a shout out please :\\n\\nhttps://t.co/sik3D8xOT1\\n\\n#saveayaanshgupta https://t.co/ifiW4C6AV2\",\"YHEC staff are co-authors of the following #poster at #ISPORAnnual: \\\"The Use of Vignettes to Derive Health Utilities for Spinal Muscular Atrophy Type I (SMA-I)\\\". https://t.co/8WryjY3sPf #poster #research\",\"@vamsikaka  Sir, Plz extend a little help to @FightsSma.3yr old can't even hold his head due to Spinal Muscular Atrophy.He is being treated at Rainbow Hospital, #Hyderabad. Out of 16Cr, 75% has been raised for #ZolgenSMA help amplify\\ud83d\\ude4f#saveayaanshgupta \\nhttps://t.co/2fByiSQr85 https://t.co/0SPdKHNMhn\",\"how lucky by will leitch deserves five freaking stars \\u2b50\\ufe0f\\u2b50\\ufe0f\\u2b50\\ufe0f\\u2b50\\ufe0f\\u2b50\\ufe0f it is narrated by daniel who believes he witnessed a kidnapping. through this book i learned about spinal muscular atrophy and made me realize everything i take for granted. this is a book and characters i wish i... https://t.co/LuBbEChQ1z\",\"@AnupamPKher @AnupamPKher Sir, Plz extend a little help to @FightsSma.3yr old can't even hold his head due to Spinal Muscular Atrophy.He is being treated at Rainbow Hospital, #Hyderabad. Out of 16Cr, 70% has been raised for #ZolgenSMA help amplify\\ud83d\\ude4f#saveayaanshgupta https://t.co/BzF2nZmOp5 https://t.co/eTPoBvXAVY\",\"@AnupamPKher Sir, Plz extend a little help to @FightsSma.3yr old can't even hold his head due to Spinal Muscular Atrophy.He is being treated at Rainbow Hospital, #Hyderabad. Out of 16Cr, 70% has been raised for #ZolgenSMA help amplify\\ud83d\\ude4f#saveayaanshgupta \\nhttps://t.co/t0BldSDqGK\",\"*Trigger Warning*\\nAppeal. \\n\\nJanish is 14months old now, he is suffering from rare genetic disorder called Spinal Muscular Atrophy\\n\\nHe cannot breath w/o support (he is on artificial respiration support), he cannot swallow milk( Surgery done to feed, Gastrastomy), no limb movemt https://t.co/t2Qv4XEXgg\",\"AmplideX Kit Accurately Identifies Variants Linked to Spinal Muscular Atrophy.\\n\\nhttps://t.co/Dq5urqF4Mj\",\"@IamShajanSamuel  Plz extend a little help to @FightsSma.3yr old can't even hold his head due to Spinal Muscular Atrophy.He is being treated at Rainbow Hospital, #Hyderabad. Out of 16Cr, 70% has been raised for #ZolgenSMA help amplify\\ud83d\\ude4f#saveayaanshgupta \\nhttps://t.co/t0BldSDqGK https://t.co/dLaflAxul6\",\"@PunYaab  Plz extend a little help to @FightsSma.3yr old can't even hold his head due to Spinal Muscular Atrophy.He is being treated at Rainbow Hospital, #Hyderabad. Out of 16Cr, 70% has been raised for #ZolgenSMA plz help to amplify\\ud83d\\ude4f#saveayaanshgupta \\nhttps://t.co/t0BldSDqGK https://t.co/3TwAEGWxpT\",\"Kugelberg-Welander disease is a type of spinal muscular atrophy (SMA) and is also known as juvenile SMA, Kugelberg-Welander syndrome, and SMA type 3. Learn more: https://t.co/UlssAwSJTB\",\"@ThisIsDSP Plz extend a little help to @FightsSma.3yr old can't even hold his head due to Spinal Muscular Atrophy.He is being treated at Rainbow Hospital, #Hyderabad. Out of 16Cr, 70% has been raised for #ZolgenSMA plz help to amplify\\ud83d\\ude4f#saveayaanshgupta \\nhttps://t.co/t0BldSDqGK https://t.co/h1XjOsJYi2\",\"Dear @LennoxLewis , it's a humble request to help 2 years and 11 months old @FightsSma in his battle against Spinal Muscular Atrophy. He needs to raise half a million dollars urgently.\\n\\nPlease give him a shout out :\\n\\nhttps://t.co/wdFnC67BaT\\n\\n#saveayaanshgupta\",\"Welcome to ICNMD 2021! We are excited to invite you to our Roche-sponsored educational symposium on Saturday 22 May, focussing on spinal muscular atrophy (SMA). Please join our expert faculty at 12:00 CET to hear more about \\u2018Meaningful outcomes across all SMA types\\u2019. https://t.co/6zUvhuQbxJ\",\"Help this sweet boy Fight Spinal Muscular Atrophy https://t.co/hB1TKckvxx \\n#milaap #fundraising #Humanity\",\"The child fights for her life by taking Zorgensma, the \\u201cworld\\u2019s most expensive drug\\u201d for spinal muscular\\u00a0atrophy https://t.co/CO3rXrKpag\",\"@TheDailyShow @sharonstone Hi Trevor, 2 years and 11 month old @FightsSma could use some similar momentum. He needs to raise half a million dollars urgently to fight Spinal Muscular Atrophy .\\n\\nCould you help to spread the word?\\n\\nhttps://t.co/RPKcpaRHIF\",\"After their first child received a new, lifesaving treatment for spinal muscular atrophy (SMA), Alex and Aaron Haas of Paducah, Kentucky, were prepared in case their second child had inherited the same genetic disease. #SMA\\n\\nhttps://t.co/Q0FErvtmsD https://t.co/QokcMjF4jr\",\"Child fights for her life by taking 'most expensive drug in the world' - KABC-TV https://t.co/hb9imCj723 https://t.co/JPiX7EkZni\",\"Dear @Tanvim , @FightsSma is a 2 years and 11 months old kid in India with a degenerative condition called Spinal Muscular Atrophy. He needs 500 k USD for another shot at life. Could you give him a shout out please :\\n\\nhttps://t.co/wdFnC67BaT\\n\\n#saveayaanshgupta\",\"Dear @puneetiitm , @FightsSma\\n is a 2 years and 11 months old kid in India with a degenerative condition called Spinal Muscular Atrophy. He needs 500 k USD for another shot at life. Could you give him a shout out please :\\n\\nhttps://t.co/wdFnC67BaT\\n\\n#saveayaanshgupta\",\"Maybe one day 2 years and 11 months old @FightsSma will also change the world #GoogleIO \\n\\nHe just needs a chance in his battle against Spinal Muscular Atrophy\\n\\nMaybe you can lend a hand :\\n\\nhttps://t.co/RPKcpaRHIF\\n\\n#saveayaanshgupta\",\"If you're enjoying #Eurovision , please consider helping 2 years and 11 months old @FightsSma win his battle against Spinal Muscular Atrophy. He urgently needs to raise half a million dollars\\n\\nPlease chip in and share the word:\\nhttps://t.co/RPKcpaRHIF\\n\\n#saveayaanshgupta\",\"Save Dmytro - Fighting Spinal Muscular Atrophy https://t.co/zXnsFRfUes\",\"May Universe protect us all during these difficult times. I\\u2019m here to ask help for my cousin.Please donate for this 1 year old kid:Ayansh Madan, who is struggling with SMA (Spinal Muscular Atrophy) and requires the world\\u2019s most expensive treatment (Zolgensma) in the next 6 months\",\"TONIGHT: Most infants diagnosed with Spinal Muscular Atrophy Type 1, a genetic disease that affects the central nervous system, do not live past two years of age but SMA testing is still not required in all 50 states. Parents of children who had SMA are trying to change that. https://t.co/Ww0P9mYjb5\",\"Gene therapy, oral therapy or antisense oligonucleotides?  What are the differences in #SMA therapies?  Find out in this #CME activity where you choose what you need to know about spinal muscular atrophy therapies.  \\nhttps://t.co/SWRerX8oKJ https://t.co/tFS3lITM4V\",\"Hello everyone. My name is Yi\\u011fit Aras . I am 2.5 years old I was unfortunately diagnosed with spinal muscular atrophy (SMA) type 1. Now I need your help. I can get the gene therapy . This treatment is very expensive. https://t.co/VmoaKdjJOM\",\"I hope some samaritans will come together for 2 years and 11 months old @FightsSma  #tuesdayvibe\\nHe needs to raise half a million dollars urgently in his battle against Spinal Muscular Atrophy.\\n\\nPlease spread some #Cheer\\n\\nhttps://t.co/RPKcpaRHIF\\n\\n#saveayaanshgupta\",\"Hey @Benioff , 2 years and 11 months old @FightsSma is racing against time to raise half a million dollars in his battle against Spinal Muscular Atrophy.\\n\\nCould you share his cause with the Salesforce community?\\n\\nhttps://t.co/RPKcpaRHIF\\n\\n#tuesdaymotivations #saveayaanshgupta\",\"Little Ayaansh is 2 years old &amp; has Spinal Muscular Atrophy-  genetic disease. He needs treatment with a drug- Zolgensma which costs 16 Crores. His parents cannot afford the sum.\\n\\nClick to donate https://t.co/7rtpU5g9Jm\\n\\n#milaap #URGENT #crowdfunding\\n\\nhttps://t.co/X3q7CffRtM\",\"Sh176m raised, 96m to go for baby Ayah to get lifesaving drug\\n\\nAt 10 months old, Ayah Lundt was diagnosed with spinal muscular atrophy (SMA), a genetic disease found in one in 10,000 children born worldwide.\\nhttps://t.co/SAzZOFMwkw\",\"The AmplideX PCR/CE SMA Plus Kit accurately identifies genetic variations associated with spinal muscular atrophy. Read more about it now:\\n\\nhttps://t.co/Dq5urqntnJ\",\"For the cost of a #Coffee , you can help 2 years and 11 months old @FightsSma in his battle against Spinal Muscular Atrophy.\\n\\nPlease ponder upon it :\\n\\nhttps://t.co/RPKcpaRHIF\\n\\n#saveayaanshgupta\",\"Make it a Good Tuesday for 2 years and 11 months old @FightsSma . Help him win his battle against Spinal Muscular Atrophy.\\n\\nYour good deed for today waits for you here :\\n\\nhttps://t.co/RPKcpaRHIF\\n\\n#saveayaanshgupta\",\"Start the day on a positive note #TuesdayMorning \\n\\nHelp 2 years and 11 months old @FightsSma get over the line in his battle with Spinal Muscular Atrophy.\\n\\nGo ahead, contribute a smile :\\n\\nhttps://t.co/RPKcpaRHIF\\n\\n#saveayaanshgupta\",\"#Greentea Polyphenols, the Potential Candidate for Treatment of Spinal Muscular Atrophy, Scientists Find https://t.co/AuedU3dW10 https://t.co/rRM1Ki86r7\",\"@sevilgcl @asutcliffe @muhammedalisma Hello,\\nMuhammed Ali has Sma (Spinal Muscular Atrophy) Type 1 disease.\\nSharing his posts just one time may create butterfly effect and reach out thousands of hearts!\\n\\nEvery baby deserves living..\\ud83d\\ude4f\\n\\n@muhammedalisma https://t.co/U4xDtikf9s\",\"Dear @DrKumarVishwas @FightsSma is a 2 years and 11 months old kid in India with a degenerative condition called Spinal Muscular Atrophy. He needs Rs 4 cr more for another shot at life. Could you give him a shout out please :\\n\\nhttps://t.co/sik3D8xOT1\\n\\n#saveayaanshgupta https://t.co/9jpl3C9pQl\",\"Dear @anandmahindra @FightsSma is a 2 years and 11 months old kid in India with a degenerative condition called Spinal Muscular Atrophy. He needs Rs 4 cr more for another shot at life. Could you give him a shout out please :\\n\\nhttps://t.co/sik3D8xOT1\\n\\n#saveayaanshgupta\",\"@palakmuchhal3 kindly help my sister 5 month old baby to survive beyond age of two,who suffers from Spinal muscular atrophy that needs 16 crore for treatment.Kindly support our crowd funding link.\\nhttps://t.co/PVpRsLLMgt\\n#ZolgenSMA #savecubby #RareDisease https://t.co/wGOI3BzHLK\",\"Dear @DrGauravGarg4 @FightsSma is a 2 years and 11 months old kid in India with a degenerative condition called Spinal Muscular Atrophy. He needs another 4cr  for another shot at life. Could you give him a shout out please :\\n\\nhttps://t.co/sik3D8xOT1\\n\\n#saveayaanshgupta\",\"Dear @khansirpatna @FightsSma is a 2 years and 11 months old kid in India with a degenerative condition called Spinal Muscular Atrophy. He needs another 4cr  for another shot at life. Could you give him a shout out please :\\n\\nhttps://t.co/sik3D8xOT1\\n\\n#saveayaanshgupta\",\"Dear @ankitmay28 @FightsSma is a 2 years and 11 months old kid in India with a degenerative condition called Spinal Muscular Atrophy. He needs another 4cr  for another shot at life. Could you give him a shout out please :\\n\\nhttps://t.co/sik3D8xOT1\\n\\n#saveayaanshgupta https://t.co/xtoMTyA0Im\",\"Dear @MahipalRathore @FightsSma is a 2 years and 11 months old kid in India with a degenerative condition called Spinal Muscular Atrophy. He needs another 4cr  for another shot at life. Could you give him a shout out please :\\n\\nhttps://t.co/sik3D8xOT1\\n\\n#saveayaanshgupta https://t.co/HTguZYjCgi\",\"Dear @SiddhantAgnih12 @FightsSma is a 2 years and 11 months old kid in India with a degenerative condition called Spinal Muscular Atrophy. He needs another 4cr  for another shot at life. Could you give him a shout out please :\\n\\nhttps://t.co/sik3D8xOT1\\n\\n#saveayaanshgupta https://t.co/IofzpiEuej\",\"Dear @ArmaanMalik22 @FightsSma is a 2 years and 11 months old kid in India with a degenerative condition called Spinal Muscular Atrophy. He needs another 4cr  for another shot at life. Could you give him a shout out please :\\n\\nhttps://t.co/sik3D8xOT1\\n\\n#saveayaanshgupta https://t.co/4bwd9pDuWW\",\"Dear @zaynmalik @FightsSma is a 2 years and 11 months old kid in India with a degenerative condition called Spinal Muscular Atrophy. He needs another 4cr  for another shot at life. Could you give him a shout out please :\\n\\nhttps://t.co/sik3D8xOT1\\n\\n#saveayaanshgupta https://t.co/foJEGwb3WJ\",\"Dear @TeamHimesh @FightsSma is a 2 years and 11 months old kid in India with a degenerative condition called Spinal Muscular Atrophy. He needs another 4cr  for another shot at life. Could you give him a shout out please :\\n\\nhttps://t.co/sik3D8xOT1\\n\\n#saveayaanshgupta https://t.co/TOlcbipPtD\",\"Dear @VishalDadlani  @FightsSma is a 2 years and 11 months old kid in India with a degenerative condition called Spinal Muscular Atrophy. He needs another 4cr  for another shot at life. Could you give him a shout out please :\\n\\nhttps://t.co/sik3D8xOT1\\n\\n#saveayaanshgupta\",\"Dear @singer_shaan @FightsSma is a 2 years and 11 months old kid in India with a degenerative condition called Spinal Muscular Atrophy. He needs another 4cr  for another shot at life. Could you give him a shout out please :\\n\\nhttps://t.co/sik3D8xOT1\\n\\n#saveayaanshgupta\",\"Dear @Kailashkher @FightsSma is a 2 years and 11 months old kid in India with a degenerative condition called Spinal Muscular Atrophy. He needs another 4cr  for another shot at life. Could you give him a shout out please :\\n\\nhttps://t.co/sik3D8xOT1\\n\\n#saveayaanshgupta\",\"@SonuSood Our daughter, Srishti Rani is fighting a rare disease, Spinal Muscular Atrophy (SMA) type 1. need Zolgensma drug (USD 2.1 million) to give life to her. She doesn't have much time\\nPlz help us raise funds: https://t.co/9JtfIXAZXw\\n\\nhttps://t.co/3OrK1hDz6D\\n\\nThanks!\",\"@alifazal9 plzz help my 5 month old child to survive beyond age of two,is suffering from spinal muscular atrophy..needs zolgensma drug worth 16cr rupees for survival.Kindly spread our crowdfunding link\\nhttps://t.co/zswRhw6xES\\n#ZOLGENSMA #RareDisease #savecubby https://t.co/73nV2rFeky\",\"Dear @TheBanat @FightsSma is a 2 years and 11 months old kid in India with a degenerative condition called Spinal Muscular Atrophy. He needs Rs 4 cr more for another shot at life. Could you give him a shout out please :\\n\\nhttps://t.co/sik3D8xOT1\\n\\n#saveayaanshgupta\",\"Dear @sapanv @FightsSma is a 2 years and 11 months old kid in India with a degenerative condition called Spinal Muscular Atrophy. He needs Rs 4 cr more for another shot at life. Could you give him a shout out please :\\n\\nhttps://t.co/sik3D8xOT1\\n\\n#saveayaanshgupta\",\"Dear @awryaditi @FightsSma is a 2 years and 11 months old kid in India with a degenerative condition called Spinal Muscular Atrophy. He needs Rs 4 cr more for another shot at life. Could you give him a shout out please :\\n\\nhttps://t.co/sik3D8xOT1\\n\\n#saveayaanshgupta\",\"Dear @hankypanty @FightsSma is a 2 years and 11 months old kid in India with a degenerative condition called Spinal Muscular Atrophy. He needs Rs 4 Cr more for another shot at life. Could you give him a shout out please :\\n\\nhttps://t.co/sik3D8xOT1\\n\\n#saveayaanshgupta\",\"Dear @PiratedSardar @FightsSma is a 2 years and 11 months old kid in India with a degenerative condition called Spinal Muscular Atrophy. He needs another 4cr  for another shot at life. Could you give him a shout out please :\\n\\nhttps://t.co/sik3D8xOT1\\n\\n#saveayaanshgupta\",\"@HeroManoj1 sir Plz extend a little help to #Ayaansh @FightsSma.3yr old can't evn hold his head due to Spinal Muscular Atrophy.He is being treated at Rainbow Hospital, #Hyderabad. Out of 16Cr ,11cr  has been raised for #ZolgenSMA plz help to amplify \\nhttps://t.co/2fByiSQr85 https://t.co/cIkYvMpQ0a\",\"@swati_gs mam Plz extend a little help to #Ayaansh @FightsSma.3yr old can't evn hold his head due to Spinal Muscular Atrophy.He is being treated at Rainbow Hospital, Hyderabad. Out of 16Cr ,11cr  has been raised for #ZolgenSMA plz help to amplify \\nhttps://t.co/2fByiSQr85 https://t.co/QODt8LjDF0\",\"@devduttmyth sir Plz extend a little help to #Ayaansh @FightsSma.3yr old can't evn hold his head due to Spinal Muscular Atrophy.He is being treated at Rainbow Hospital, Hyderabad. Out of 16Cr ,11cr  has been raised for #ZolgenSMA plz help to amplify \\nhttps://t.co/2fByiSQr85\",\"@rameshlaus sir  Plz extend a little help to #Ayaansh @FightsSma.3yr old can't evn hold his head due to Spinal Muscular Atrophy.He is being treated at Rainbow Hospital, Hyderabad. Out of 16Cr ,11cr  has been raised for #ZolgenSMA plz help to amplify \\nhttps://t.co/2fByiSQr85\",\"JANISH BORN WITHOUT A GENE HELPING HANDS PLEASE JOIN WITH US TO SAVE JANISH\\ud83d\\ude4f\\u2764 who is suffering from rare genetic disease called Spinal muscular atrophy (SMA) treatment cost around 16cores rupees share &amp; support \\ud83d\\ude4f\\u2764please \\ud83d\\ude4f\\ud83d\\ude4f\\ud83d\\ude4f\\n@SonuSood @SunnyLeone https://t.co/v0n3tTsJpk\",\"@sardesairajdeep  Plz extend a little help to #Ayaansh @FightsSma.3yr old can't evn hold his head due to Spinal Muscular Atrophy.He is being treated at Rainbow Hospital, Hyderabad. Out of 16Cr ,11cr  has been raised for #ZolgenSMA plz help to amplify \\nhttps://t.co/2fByiSQr85\",\"Save Dmytro - Fighting Spinal Muscular Atrophy https://t.co/CuCPZSudPK\",\"My life is incredibly stressful living with this terminal disease called Spinal Muscular Atrophy type 1 since birth. I wasn't expected to live past 2 years old. I require 24/7 care and rely on someone to do everything for me.\",\"Did you know that #SpinalMuscularAtrophy types 0-4 account for as many as 95% of #SMA cases? Learn how the different types of SMA are defined: https://t.co/59Mp7qreki\",\"@sargun_mehta Plz extend a little help to #Ayaansh @FightsSma.3yr old can't evn hold his head due to Spinal Muscular Atrophy.He is being treated at Rainbow Hospital, Hyderabad. Out of 16Cr ,11cr  has been raised for #ZolgenSMA plz help to amplify \\nhttps://t.co/2fByiSQr85 https://t.co/Yn7VCzrcmx\",\"@AmaalMallik,Plz extend a little help to #Ayaansh @FightsSma.3yr old can't evn hold his head due to Spinal Muscular Atrophy.He is being treated at Rainbow Hospital, Hyderabad. Out of 16Cr ,11cr  has been raised for #ZolgenSMA plz help to amplify \\n\\nhttps://t.co/2fByiSQr85 https://t.co/IkOhfTgMkh\",\"@SheetalPronamo Plz extend a little help to @FightsSma.3yr old can't even hold his head due to Spinal Muscular Atrophy.He is being treated at Rainbow Hospital #Hyderabad. Out of 16Cr, 60% has been raised for #ZolgenSMA \\n#saveayaanshgupta https://t.co/BzF2nZmOp5 https://t.co/Wp3ddEfFzm https://t.co/CkE3D01qUu\",\"@iRituMalhotra Plz extend a little help to #Ayaansh @FightsSma.3yr old can't evn hold his head due to Spinal Muscular Atrophy.He is being treated at Rainbow Hospital #Hyderabad. Out of 16Cr, 60% has been raised for #ZolgenSMA #Amplify \\ud83d\\ude4f\\n#saveayaanshgupta \\nhttps://t.co/5oT95pgZmS\",\"Dear @VincentRK , @FightsSma is a 2 years and 11 months old kid in India with a degenerative condition called Spinal Muscular Atrophy. He needs 500 k USD for another shot at life. Could you share his cause please :\\n\\nhttps://t.co/ZQKlcEIk6D\\n\\n#saveayaanshgupta\",\"New research is available on our #SMA feed! \\u201cIncreased systemic HSP70B levels in spinal muscular atrophy infants,\\u201d from @Wiley_Health https://t.co/B3jo6LL7Mf\\nFind more research on #Feedkast daily! https://t.co/YenfKqIxTE\",\"Reminder:\\u00a0 Spinal Muscular Atrophy 2021 Update, Wed. May 19 w/ Dr. Monique Taillon @1200 ET - https://t.co/qvwJOxO1Yv https://t.co/DbAZDVR0NK\",\"@BharadwajSpeaks Plz extend a little help to #Ayaansh @FightsSma.3yr old can't evn hold his head due to Spinal Muscular Atrophy.He is being treated at Rainbow Hospital, Hyderabad. Out of 16Cr ,11cr  has been raised for #ZolgenSMA plz help to amplify \\nhttps://t.co/2fByiSQr85 https://t.co/iDjB2mcE6c\",\"@fayedsouza mam,Plz extend a little help to #Ayaansh @FightsSma.3yr old can't evn hold his head due to Spinal Muscular Atrophy.He is being treated at Rainbow Hospital, Hyderabad. Out of 16Cr ,70% has been raised for #ZolgenSMA plz help to amplify \\nhttps://t.co/2fByiSQr85 https://t.co/iMn9ePCCEn\",\"@actor_Nikhil ,Plz extend a little help to #Ayaansh @FightsSma.3yr old can't evn hold his head due to Spinal Muscular Atrophy.He is being treated at Rainbow Hospital, Hyderabad. Out of 16Cr ,70% has been raised for #ZolgenSMA plz help to amplify\\ud83d\\ude4f\\nhttps://t.co/2fByiSQr85 https://t.co/gTisN9JjTp\",\"@MusicThaman @MusicThaman,Plz extend a little help to #Ayaansh @FightsSma.3yr old can't evn hold his head due to Spinal Muscular Atrophy.He is being treated at Rainbow Hospital, Hyderabad. Out of 16Cr ,70% has been raised for #ZolgenSMA plz help to amplify\\ud83d\\ude4f\\nhttps://t.co/2fByiSQr85\",\"Dear @doctorsoumya, @FightsSma is a 2 years and 11 months old kid in India with a degenerative condition called Spinal Muscular Atrophy. He needs 500 k USD for another shot at life. Could you share his cause please :\\n\\nhttps://t.co/wdFnC67BaT\\n\\n#saveayaanshgupta\",\"Dear @netshrink , @FightsSma is a 2 years and 11 months old kid in India with a degenerative condition called Spinal Muscular Atrophy. He needs 500 k USD for another shot at life. Could you give him a shout out please :\\n\\nhttps://t.co/wdFnC67BaT\\n\\n#saveayaanshgupta\",\"Resources for patients with SMA are discussed, including the Child Neurology Foundation\\u2019s telehealth tip sheet, to help families navigate telehealth.\\n\\nhttps://t.co/xLAZYluoky\",\"Awareness screening and referral patterns among pediatricians in the United States related to early clinical features of spinal muscular atrophy (SMA) https://t.co/Ekfxw0yMpx\",\"@bindasbhidu sir,Plz extend a little help to #Ayaansh @FightsSma.3yr old can't evn hold his head due to Spinal Muscular Atrophy.He is being treated at Rainbow Hospital, Hyderabad. Out of 16Cr, 60% has been raised for #ZolgenSMA plz help to amplify\\ud83d\\ude4f\\nhttps://t.co/t0BldSDqGK https://t.co/Liijpc6Xzf https://t.co/dUcvZv0gR1\",\"@GuruOfficial ,  Plz extend a little help to #Ayaansh @FightsSma.3yr old can't evn hold his head due to Spinal Muscular Atrophy.He is being treated at Rainbow Hospital, Hyderabad. Out of 16Cr 60% has been raised for #ZolgenSMA plz help to amplify\\ud83d\\ude4f\\nhttps://t.co/t0BldSDqGK https://t.co/21uOH4OVNr https://t.co/gnaS71b16e\",\"@narendramodi dear pm my niece paridhi patel is suffering from SPINAL MUSCULAR ATROPHY (SMA TYPE 1)her medical expenses is 16cr approx plz sir save the life of girl child.obliged to u sir.\",\"ALS? or SMA? (SMA is what I have)\\nAlthough some say Hawking had ALS most medical experts believe that he actually had a related illness: Spinal Muscular Atrophy (SMA) Both ALS &amp; SMA are diseases where nerve cells that control muscles (\\u201cmotor neurons\\u201d) are damaged. #CureSMA https://t.co/6LOBNpLjfw\",\"On behalf of @AbarcaPrize, we want to congratulate the @CSIC Automation and Robotics Center for developing the first Exoskeletons that ultimately improve the quality of life for children who suffer from spinal muscular atrophy and cerebral palsy. @el_pais  https://t.co/kF5e4r2vHD\",\"@asutcliffe Hello,\\nMuhammed Ali has Sma (Spinal Muscular Atrophy) Type 1 disease.\\nSharing his posts just one time may create butterfly effect and reach out thousands of hearts!\\n\\nEvery baby deserves living...\\ud83d\\ude4f\\n\\n@muhammedalisma\",\"Start your week with a noble deed #MondayMorning\\n3 year old @FightsSma needs to raise 500k USD urgently in his battle against Spinal Muscular Atrophy.\\n\\nPlease come forward to donate:\\nhttps://t.co/RPKcpaRHIF\\n\\n#SaveAyaanshGupta\",\"Thank you so much @shishirmba sir. Details are below. Sorry for multiple chain of tweets.\\nMyself Raman, have been raising funds for my 8 months old daughter Khyati. Khyati has been diagnosed with Spinal Muscular Atrophy (SMA) Type 1 at an age of 4 months. https://t.co/wFjVui5uiL\",\"The exoskeleton, which helps children affected by spinal muscular atrophy and cerebral palsy walk, has been developed by Elena Garc\\u00eda Armada, a researcher at the @CSIC Center for Automation and Robotics (CAR).  https://t.co/FLlYdYYcx8\",\"@Ntripathi1990 @FightsSma @OfficialSidNaaz @jk_rowling 2-year old Ayaansh is battling Spinal Muscular Atrophy for which he needs the world's most expensive drug Zolgensma priced $2.1 million. He has less than a week left. Yet he still has a shortfall of about $700,000. Please help kind ma'am.\",\"What's it like to live - and sing - with spinal muscular atrophy? @drwhiteson is LIVE on The Rehab Show &amp; talking to @tabix119, who relies on singing &amp; music to keep her lungs &amp; her spirit as healthy as possible. Check out her music here! https://t.co/vqR9feZw9t\",\"@DChaurasia2312 plz help to save a hardik sen ....surffering from SPINAL MUSCULAR ATROPHY  disease.... https://t.co/r7zK3AQd08\",\"Stacy Pokorny, a mother of a young girl with spinal muscular atrophy (SMA), gives advice to parents of children who have recently been diagnosed with the disease. \\n@ACTforSMA @CureSMA Cure SMA Cure SMA \\nhttps://t.co/jroqKKS2Kk\",\"The CSIC has presented the European Certificate granted to the first exoskeleton in the world that helps pediatric patients affected by spinal muscular atrophy to be able to walk\\nhttps://t.co/WPqgJNvn2E https://t.co/ctUBbR0AGc\",\"@JimmyNeesh Hi Jimmy, 3 year old @Fightsma has a degenerative condition: Spinal Muscular Atrophy. He urgently needs to raise 500k USD for an injection of ZolgenSMA (1.6 of 2.1 million USD already raised) Could you please give the cause a shoutout?\\n\\nhttps://t.co/wdFnC67BaT\\n\\n#saveayaanshgupta\",\"This little boy suffers SMA(Spinal Muscular Atrophy) . The drug for its cure costs \\u20b9 16 Crores. Please help them reach deficit amount of \\u20b9 6 Crores. No amount is small. \\u20b9 100, \\u20b9 200, \\u20b9 500 .. It could even save him !\\nDonate Here: https://t.co/Lp5NJjGF1G\\n@FightsSma @SonuSood https://t.co/5x9t3ZwUA6\",\"Spinal Muscular Atrophy Treatment Market Research Report by Type (Type 1, Type 2, Type 3, and Type 4), by Treatment (Drug Therapy and Gene Replacement... https://t.co/woUpJhHG16 #lifescience #medicaldevices #biotechnology\",\"Save Dmytro - Fighting Spinal Muscular Atrophy https://t.co/Oau8RPMwjI Heard about this very, very worthy cause on the great @gaslitnation podcast, please donate if you can! Thanks @AndreaChalupa and @sarahkendzior for letting us know! #babydima #babydmytro #Ukraine #\\ud83c\\uddfa\\ud83c\\udde6 #GoFundMe\",\"@Sibi_Sathyaraj ,Plz extend a little help to #Ayaansh @FightsSma.3yr old can't evn hold his head due to Spinal Muscular Atrophy.He is being treated at Rainbow Hospital, Hyderabad. Out of 16Cr, 70% has been raised for #ZolgenSMA plz help to amplify\\ud83d\\ude4f\\nhttps://t.co/2fByiSQr85 https://t.co/gPrIQtGATh\",\"PubMed: Increased systemic HSP70B levels in spinal muscular atrophy infants https://t.co/BqaAA3M1hN\",\"@ipsvijrk Happy birthday to ur lovely daughter.Plz extend a little help to #Ayaansh @FightsSma 3yr old can't even hold his head due to Spinal Muscular Atrophy.time is very less. Out of 16Cr. 11Cr.has been raised for #ZolgenSMA #amplify\\ud83d\\ude4f\\nhttps://t.co/t0BldSDqGK #saveayaanshgupta https://t.co/dXaY3ZlloH https://t.co/alEpYIO3GX\",\"@memorable_90s Plz extend a little help to #Ayaansh @FightsSma 3yr old can't even hold his head due to Spinal Muscular Atrophy.He is being treated at Rainbow Hospital #Hyderabad.Out of 16Cr. 11cr. has been raised for #ZolgenSMA amplify\\ud83d\\ude4f\\nhttps://t.co/t0BldSDqGK #saveayaanshgupta https://t.co/Sw1oy5HfRv\",\"Spinraza, a drug for spinal muscular atrophy, has not been convicted of a crime.\",\"Dear @StephenCurry30, @FightsSma is a 2 years and 11 months old kid in India with a degenerative condition called Spinal Muscular Atrophy. He needs 500 k USD for another shot at life. Could you give him a shout out please :\\n\\nhttps://t.co/wdFnC67BaT\\n\\n#SaveAyaanshGupta #DubNation https://t.co/to6gCl9LsM\",\"Dear @JanetJackson, @FightsSma is a 2 years and 11 months old kid in India with a degenerative condition called Spinal Muscular Atrophy. He needs 500 k USD for another shot at life. Could you give him a shout out please :\\n\\nhttps://t.co/wdFnC67BaT\\n\\n#SaveAyaanshGupta https://t.co/P0YjTtCfIh\",\"Dear @ValaAfshar, @FightsSma is a 2 years and 11 months old kid in India with a degenerative condition called Spinal Muscular Atrophy. He needs 500 k USD for another shot at life. Could you give him a shout out please :\\n\\nhttps://t.co/wdFnC67BaT\\n\\n#SaveAyaanshGupta https://t.co/qb5fKRX5PD\",\"Dear @JofraArcher, @FightsSma is a 2 years and 11 months old kid in India with a degenerative condition called Spinal Muscular Atrophy. He needs 500 k USD for another shot at life. Could you give him a shout out please :\\n\\nhttps://t.co/wdFnC67BaT\\n\\n#saveayaanshgupta https://t.co/wLMys3RYtG\",\"Dear @mindykaling, @FightsSma is a 2 years and 11 months old kid in India with a degenerative condition called Spinal Muscular Atrophy. He needs 500 k USD for another shot at life. Could you give him a shout out please :\\n\\nhttps://t.co/wdFnC67BaT\\n\\n#saveayaanshgupta https://t.co/XRrBNP5ZW6\",\"@Za1d Plz extend a little help to #Ayaansh @FightsSma 3yr old can't even hold his head due to Spinal Muscular Atrophy.He is being treated at Rainbow Hospital #Hyderabad.Out of 16Cr. 60%has been raised for #ZolgenSMA plz help to amplify\\ud83d\\ude4f\\nhttps://t.co/t0BldSDqGK #saveayaanshgupta https://t.co/8xKEC4YrJv https://t.co/sj7w4ekXts\",\"Dear @JofraArcher, @FightsSma is a 2 years and 11 months old kid in India with a degenerative condition called Spinal Muscular Atrophy. He needs 500 k USD for another shot at life. Could you give him a shout out please :\\n\\nhttps://t.co/wdFnC67BaT\\n\\n#SaveAyaanshGupta https://t.co/L3tTDq2Ssh\",\"I recently got to know about Baby Ayaansh Gupta who is suffering from a rare genetic disorder called Spinal Muscular Atrophy (SMA) Type-1. 2 year 11 month old Ayaansh could never achieve any of his growth milestone. He cannot, sit without support or lift his head. Ayaansh can\\u2019t\",\"@imjadeja  ,Plz extend a little help to #Ayaansh @FightsSma.3yr old can't evn hold his head due to Spinal Muscular Atrophy.He is being treated at Rainbow Hospital, Hyderabad. Out of 16Cr, 70% has been raised for #ZolgenSMA plz help to amplify\\ud83d\\ude4f\\nhttps://t.co/2fByiSQr85 https://t.co/GCQHeNgXyf\",\"@indiantweeter ,Plz extend a little help to #Ayaansh @FightsSma.3yr old can't evn hold his head due to Spinal Muscular Atrophy.He is being treated at Rainbow Hospital, Hyderabad. Out of 16Cr, 70% has been raised for #ZolgenSMA plz help to amplify\\ud83d\\ude4f\\nhttps://t.co/2fByiSQr85 https://t.co/IMHejClRqP\",\"@tiscatime  mam,  Plz extend a little help to #Ayaansh @FightsSma.3yr old can't evn hold his head due to Spinal Muscular Atrophy.He is being treated at Rainbow Hospital, Hyderabad. Out of 2.1M USD 70% has been raised for #ZolgenSMA plz help to amplify\\ud83d\\ude4f\\nhttps://t.co/2fByiSQr85 https://t.co/cZRjjBgibL\",\"@kschmeichel1 @LCFC This is my grandson who has spinal muscular atrophy, he wants to be a goal keeper when he\\u2019s big #foxes #FACupFinal #LCFC #leicestercity #goalkeeper #smatype2 #wheelchairwarrior https://t.co/xLGI4LxnNB\",\"@rarediseaseuk @GeneticAll_UK \\n\\nDear Team. Appreciate your quick help and kind generosity in this matter.\\n\\nLittle Ayaansh Gupta (from India) is suffering from Spinal Muscular Atrophy (SMA), since birth.\\n\\nCost of this medicine (ZolgenSMA) is $2.1m.\",\"@FightsSma @timesofindia @IndianExpress @HindustanTimes @htTweets @the_hindu @BBCWorld @CNN @bachikarkaria @sagarikaghose @sardesairajdeep @BDUTT @CNBCTV18News @CNBC @washingtonpost @guardian @AlJazeera_World @DainikBhaskar @LoksattaLive @TimesNow @ndtv @PrannoyRoyNDTV Boy needs world's most expensive drug Zolgensma (Rs 16 crore / $2.1 million) in a week or so for spinal muscular atrophy.\",\"@yuzi_chahal \\nOur daughter, Srishti Rani is fighting a rare disease, Spinal Muscular Atrophy (SMA) type 1. need Zolgensma drug (USD 2.1 million) to give life to her. She doesn't have much time\\nPlz help us raise funds: https://t.co/9JtfIXAZXw\\n\\nhttps://t.co/3OrK1hDz6D\\n\\nThanks!\",\"@vkfofficial\\nOur daughter, Srishti Rani is fighting a rare disease, Spinal Muscular Atrophy (SMA) type 1. need Zolgensma drug (USD 2.1 million) to give life to her. She doesn't have much time\\nPlz help us raise funds: https://t.co/9JtfIXAZXw\\n\\nhttps://t.co/3OrK1hDz6D\\n\\nThanks!\",\"@imVkohli \\nOur daughter, Srishti Rani is fighting a rare disease, Spinal Muscular Atrophy (SMA) type 1. need Zolgensma drug (USD 2.1 million) to give life to her. She doesn't have much time\\nPlz help us raise funds: https://t.co/9JtfIXAZXw\\n\\nhttps://t.co/3OrK1hDz6D\\n\\nThanks!\",\"@FightsSma @Hanumavihari @AKF_Global pls help! This is for the world's most expensive drug priced by pharma at Rs. 16 crore ($2.1 million) and the boy suffering from Spinal Muscular Atrophy needs the drug Zolgensma within a week to save his life.\",\"Paediatric lung disease: Effect of nusinersen on respiratory function in paediatric spinal muscular atrophy types 1\\u20133.\\nhttps://t.co/QNrOIEtJvx https://t.co/BVhDAYdgZe\",\"@palakmuchhal3 kindly help our 5 month old baby to survive beyond age of two,who suffers from Spinal muscular atrophy that needs 16 crore for treatment.Kindly support our crowd funding link.\\nhttps://t.co/PVpRsLLMgt\\n#ZolgenSMA #savecubby #RareDisease https://t.co/wGOI3BzHLK\",\"@Sheldon_Sniper @cryptomanran @Freds_Head I would welcome the opportunity to change the lives of my family and my community. My adult daughter has Spinal Muscular Atrophy and is in a wheelchair.  I\\u2019d love to earn enough to get a travel trailer modified for her and to help make our parks accessible to ALL children\",\"@anandmahindra \\nOur daughter, Srishti Rani is fighting a rare disease, Spinal Muscular Atrophy (SMA) type 1. need Zolgensma drug (USD 2.1 million) to give life to her. She doesn't have much time\\nPlz help us raise funds: https://t.co/9JtfIXAZXw\\n\\nhttps://t.co/3OrK1hDz6D\\n\\nThanks!\",\"@Ruutu1331 \\nOur daughter, Srishti Rani is fighting a rare disease, Spinal Muscular Atrophy (SMA) type 1. need Zolgensma drug (USD 2.1 million) to give life to her. She doesn't have much time\\nPlz help us raise funds: https://t.co/9JtfIXAZXw\\n\\nhttps://t.co/3OrK1hDz6D\\n\\nThanks!\",\"@CureSMA \\n\\nDear Team. Appreciate your quick help and kind generosity in this matter.\\n\\nLittle Ayaansh Gupta (from India) is suffering from Spinal Muscular Atrophy (SMA), since birth.\\n\\nAs your will be aware, cost of this expensive medicine (ZolgenSMA) is $2.1m\",\"@smafoundation @curesmaindia \\n\\nDear Team. Appreciate your quick help and kind generosity in this matter.\\n\\nLittle Ayaansh Gupta (from India) is suffering from Spinal Muscular Atrophy (SMA), since birth.\\n\\nAs your will be aware, cost of this expensive medicine (ZolgenSMA) is $2.1m\",\"@gauravkapur Plz extend little help to @FightsSma this 3yr old can't even hold his head due to Spinal Muscular Atrophy.He is being treated at Rainbow Hospital #Hyderabad. Out of \\u20b916Cr, \\u20b911cr has been raised for #Zolgensma \\nhttps://t.co/IrbnbDcDQn #saveayaanshgupta #sos #Urgent https://t.co/5x5bloBhNv\",\"@alifazal9 Ali bhai.. kindly help my 5 month child too to make him survive beyond age of two. Needs rs. 16cr.for zolgensma drug for treatment of spinal muscular atrophy.\\nKindly spread our crowd funding link\\n https://t.co/zswRhw6xES\\n#ZolGenSMA #RareDisease #savecubby https://t.co/ZkAXEPENl6\",\"Muscle weakness (hypotonia) and low muscle tone are the primary symptoms of all forms of SMA.  Learn more about this symptom: https://t.co/irzRQAz4kO\",\"May Universe protect us all during these difficult times. I\\u2019m here to ask help for my cousin.Please donate for this 1 year old kid : Ayansh Madan, who is struggling with SMA (Spinal Muscular Atrophy) and requires the world\\u2019s most expensive treatent (Zolgensma) in the next 6 month\",\"@ayanshmadan \\nI\\u2019m here to ask help on behalf of my cousin Ayansh, who\\u2019s currently undergoing treatment at AIIMS. He\\u2019s just 1 year old and has been diagnosed with Spinal Muscular Atrophy (SMA) &amp; needs a total of 16 crores for the treatment Zolgensma (1/4)\",\"@irdirc \\n\\nDear Team. Appreciate your quick help and kind generosity in this matter.\\n\\nLittle Ayaansh Gupta (from India) is suffering from Spinal Muscular Atrophy (SMA), since birth.\\n\\nCost of the medicine (ZolgenSMA) is $2.1m.\",\"I'm raising money for Cure for Marcel - Fighting Spinal Muscular Atrophy. Click to Donate:  ?rcid=r01-162116224888-ea1aa00613a94778&amp;pc=tw_co_campmgmt_w&amp;utm_medium=social&amp;utm_source=twitter&amp;utm_campaign=p_lico+share-sheet #GoFundMe\",\"@rarediseasesint \\n\\nDear Team. Appreciate your quick help and kind generosity in this matter.\\n\\nLittle Ayaansh Gupta (from India) is suffering from Spinal Muscular Atrophy (SMA), since birth.\\n\\nCost of the medicine (ZolgenSMA) is $2.1m.\",\"@RareDiseases \\n\\nDear Team. Appreciate your quick help and kind generosity in this matter.\\n\\nLittle Ayaansh Gupta (from India) is suffering from Spinal Muscular Atrophy (SMA), since birth.\\n\\nCost of the medicine (ZolgenSMA) is $2.1m.\",\"@RedCross @redcrosscanada @RedCrossAU @BritishRedCross \\n\\nDear All. Appreciate your quick help and kind generosity in this matter.\\n\\nLittle Ayaansh Gupta (from India) is suffering from Spinal Muscular Atrophy (SMA), since birth.\\n\\nCost of the medicine (ZolgenSMA) is $2.1m.\",\"@anandmahindra Sir, 2 years and 11 months old @FightsSma would also like to go to school &amp; play. He is struggling with Spinal Muscular Atrophy and has only a few days left to raise 5 crores out of a total of 16 crores for his treatment\\n\\nCould you help the child, please?\\nhttps://t.co/wdFnC67BaT\",\"@samjawed65 little @FightsSma  needs to raise \\u20b95Cr before this month ends. He is fighting Spinal Muscular Atrophy and the medicine is of \\u20b916Cr. Please donate&amp; make an appeal. So that we're able to reach more donors. https://t.co/Sy1l4SEFO3 https://t.co/Q9tvYxGqDd\",\"I recently got to know about Baby Ayaansh Gupta who is suffering from a rare genetic disorder called Spinal Muscular Atrophy (SMA) Type-1. \\n2 year 11 month old Ayaansh could never achieve any of his growth milestone. He cannot, sit without support or lift his head.\",\"Actual Result: SUCCESS\\n\\nhttps://t.co/Wfm54AODdk\",\"@vijaita little @FightsSma  needs to raise \\u20b95Cr before this month ends. He is fighting Spinal Muscular Atrophy and the medicine is of \\u20b916Cr. Please donate&amp; make an appeal. So that we're able to reach more donors. https://t.co/Sy1l4SEFO3 https://t.co/nGJSdrpLoc\",\"@vijaita little @FightsSma  needs to raise \\u20b95Cr before this month ends. He is fighting Spinal Muscular Atrophy and the medicine is of \\u20b916Cr. Please donate&amp; make an appeal. So that we're able to reach more donors. https://t.co/Sy1l4SEFO3 https://t.co/JPUY5A4I2m\",\"@MathewLiz little @FightsSma  needs to raise \\u20b95Cr before this month ends. He is fighting Spinal Muscular Atrophy and the medicine is of \\u20b916Cr. Please donate&amp; make an appeal. So that we're able to reach more donors. https://t.co/Sy1l4SEFO3 https://t.co/VSudErIHpH\",\"@zainabsikander little @FightsSma  needs to raise \\u20b95Cr before this month ends. He is fighting Spinal Muscular Atrophy and the medicine is of \\u20b916Cr. Please donate&amp; make an appeal. So that we're able to reach more donors. https://t.co/Sy1l4SEFO3 https://t.co/N2KFI78ylE\",\"@ChhotaRecharge  little @FightsSma  boy needs to raise \\u20b95Cr before this month ends. He is fighting Spinal Muscular Atrophy and the medicine is of \\u20b916Cr. Please donate&amp; make an appeal. So that we're able to reach more donors. https://t.co/Sy1l4SEFO3 https://t.co/wt4i159zUv\",\"@soniafaleiro mam,plz Do not let #Ayaansh get separated from his #family Plz help @FightsSma who is battling his life against spinal muscular atrophy.He has very less time and he needs more help. Raised 11 cr out of 16cr Plz Amplify \\n#saveayaanshgupta \\nhttps://t.co/2fByiSQr85 https://t.co/MObIaIw5uP\",\"@amitmalviya  sir ,plz Do not let #Ayaansh get separated from his #family Plz help @FightsSma who is battling his life against spinal muscular atrophy.He has very less time and he needs more help. Raised 11 cr out of 16cr Plz Amplify \\n#saveayaanshgupta \\nhttps://t.co/2fByiSQr85 https://t.co/sPMDwhasPC\",\"@devduttmyth sir ,plz Do not let #Ayaansh get separated from his #family Plz help @FightsSma who is battling his life against spinal muscular atrophy.He has very less time and he needs more help. Raised 11 cr out of 16cr Plz Amplify \\n#saveayaanshgupta \\nhttps://t.co/2fByiSQr85 https://t.co/yPVwXfZdwG\",\"@actor_Nikhil sir ,plz Do not let #Ayaansh get separated from his #family Plz help @FightsSma who is battling his life against spinal muscular atrophy.He has very less time and he needs more help. Raised 11 cr out of 16cr Plz Amplify \\n#saveayaanshgupta \\nhttps://t.co/2fByiSQr85 https://t.co/hoiO6b1Z8o\",\"@thexybeatht I lost my second child (I was 34) to Spinal Muscular Atrophy, Type I. She lived only 4 months and was the sweetest and happiest baby right up to the end. https://t.co/YRXXED6Lsw\",\"@CharuPragya Plz extend a little help to #Ayaansh @FightsSma 3yr old can't even hold his head due to Spinal Muscular Atrophy. Out of \\u20b916Cr, \\u20b911cr has been raised for medicine. 2 weeks left and needs 5 cr more for #Zolgensma\\n#Help #saveayaanshgupta https://t.co/BzF2nZmOp5 https://t.co/094QHHaviZ https://t.co/YPQlPcesZb\",\"For the first time, GEMIN5 gene mutations have been linked to #SMA. This is the first time these mutations have been linked to a #geneticdisorder. Learn more: https://t.co/xCZ5MerWxf #genetics #spinalmuscularatrophy\",\"The Cost of the Spinal Muscular Atrophy Test is 14000 Rs at DNA Labs India\\nLink: https://t.co/WfzCHopSxi...\\nhttps://t.co/CGN4MKKZLX\",\"2 years and 11 months old @FightsSma needs every little help in his battle against Spinal Muscular Atrophy. #SaturdayVibes \\n\\nHis condition is worsening and needs to arrange 500k USD urgently :\\n\\nhttps://t.co/RPKcpaRHIF\\n\\n#saveayaanshgupta\",\"Congrats to the foxes fans on the win #FACupFinal \\n\\nAs a celebratory gesture, could you donate a small amount to 2 years and 11 month old @FightsSma ? He is struggling with Spinal Muscular Atrophy and needs to raise 500 k USD urgently :\\n\\nhttps://t.co/RPKcpaRHIF\\n\\n#saveayaanshgupta\",\"@OfficialSidNaaz @ Plz extend a little help to @FightsSma this 3yr old can't even hold his head due to Spinal Muscular Atrophy.He is being treated at Rainbow Hospital #Hyderabad. Out of \\u20b916Cr, \\u20b911cr has been raised for #Zolgensma \\nhttps://t.co/t0BldSDqGK #saveayaanshgupta https://t.co/IzbcwFOVYW\",\"@AdityaRajKaul sir,plz Do not let #Ayaansh get separated from his #family Plz help @FightsSma who is battling his life against spinal muscular atrophy.He has very less time and he needs more help. Raised 11 cr out of 16cr Plz Amplify \\n#saveayaanshgupta \\nhttps://t.co/2fByiSQr85 https://t.co/TqfGk6yLtJ\",\"@tanuj_garg sir,plz Do not let #Ayaansh get separated from his #family Plz help @FightsSma who is battling his life against spinal muscular atrophy.He has very less time and he needs more help. Raised 11 cr out of 16cr Plz Amplify \\n#saveayaanshgupta \\nhttps://t.co/2fByiSQr85 https://t.co/ALG9TUCiib\",\"@anubhavsinha  , 2 years and 11 months old @FightsSma is struggling to raise 5 crores in his battle against Spinal Muscular Atrophy. Fundraising is very difficult in this #pandemic. Please share :\\n#saveayaanshgupta \\nhttps://t.co/2fByiSQr85 https://t.co/NPlxUmFSfj\",\"@tiscatime @ChiefSecyUP @Uppolice @RaveenaPatel @AsthaGorakh @tiscatime mam , 2 years and 11 months old @FightsSma is struggling to raise 5 crores in his battle against Spinal Muscular Atrophy. Fundraising is very difficult in this #pandemic. Please share :\\n#saveayaanshgupta \\nhttps://t.co/2fByiSQr85 https://t.co/NPlxUmFSfj\",\"@smitaparikh2  mam,plz Do not let #Ayaansh get separated from his #family Plz help @FightsSma who is battling his life against spinal muscular atrophy.He has very less time and he needs more help. Raised 11 cr out of 16cr Plz Amplify \\n#saveayaanshgupta \\nhttps://t.co/2fByiSQr85 https://t.co/4LiNEY88yO\",\"@amul_mohan  sir ,plz Do not let #Ayaansh get separated from his #family Plz help @FightsSma who is battling his life against spinal muscular atrophy.He has very less time and he needs more help. Raised 11 cr out of 16cr Plz Amplify \\n#saveayaanshgupta \\nhttps://t.co/2fByiSQr85 https://t.co/e4jaMNgeNg\",\"@RajatSharmaLive sir ,plz Do not let #Ayaansh get separated from his #family Plz help @FightsSma who is battling his life against spinal muscular atrophy.He has very less time and he needs more help. Raised 11 cr out of 16cr Plz Amplify \\n#saveayaanshgupta \\nhttps://t.co/2fByiSQr85 https://t.co/mrl39cZNby\",\"@LambaAlka  mam , plz Do not let #Ayaansh get separated from his #family Plz help @FightsSma who is battling his life against spinal muscular atrophy.He has very less time and he needs more help. Raised 11 cr out of 16cr Plz Amplify \\n#saveayaanshgupta \\nhttps://t.co/2fByiSQr85 https://t.co/7Hl01bQ3mx\",\"Book 60: How Lucky by Will Leitch. I had so much fun having a mini-book club with @MrsBarnett_Tchr while reading this book! While a mystery is involved, this really gives you a detailed account of what it is like for someone with spinal muscular atrophy. I learned so much! https://t.co/Fl154y7gpi\",\"Help Gunes fight TYPE 1 Spinal Muscular Atrophy @guneseumutol \\u2600\\ufe0f https://t.co/yctInS4iJr\"],\"x\":{\"__ndarray__\":\"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\",\"dtype\":\"float32\",\"order\":\"little\",\"shape\":[393]},\"y\":{\"__ndarray__\":\"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\",\"dtype\":\"float32\",\"order\":\"little\",\"shape\":[393]}},\"selected\":{\"id\":\"1047\"},\"selection_policy\":{\"id\":\"1048\"}},\"id\":\"1003\",\"type\":\"ColumnDataSource\"}],\"root_ids\":[\"1039\"]},\"title\":\"Bokeh Application\",\"version\":\"2.3.1\"}};\n",
       "  var render_items = [{\"docid\":\"d8a6b5db-d615-4323-8a53-caf6f7b0cf70\",\"root_ids\":[\"1039\"],\"roots\":{\"1039\":\"e14aeba6-0960-4fd7-9d3f-e8812822dadd\"}}];\n",
       "  root.Bokeh.embed.embed_items_notebook(docs_json, render_items);\n",
       "\n",
       "  }\n",
       "  if (root.Bokeh !== undefined) {\n",
       "    embed_document(root);\n",
       "  } else {\n",
       "    var attempts = 0;\n",
       "    var timer = setInterval(function(root) {\n",
       "      if (root.Bokeh !== undefined) {\n",
       "        clearInterval(timer);\n",
       "        embed_document(root);\n",
       "      } else {\n",
       "        attempts++;\n",
       "        if (attempts > 100) {\n",
       "          clearInterval(timer);\n",
       "          console.log(\"Bokeh: ERROR: Unable to run BokehJS code because BokehJS library is missing\");\n",
       "        }\n",
       "      }\n",
       "    }, 10, root)\n",
       "  }\n",
       "})(window);"
      ],
      "application/vnd.bokehjs_exec.v0+json": ""
     },
     "metadata": {
      "application/vnd.bokehjs_exec.v0+json": {
       "id": "1039"
      }
     },
     "output_type": "display_data"
    }
   ],
   "source": [
    "source = ColumnDataSource(\n",
    "        data=dict(\n",
    "            x = embedding.x,\n",
    "            y = embedding.y,\n",
    "            colors = [all_palettes['Set1'][8][i] for i in embedding.hue],\n",
    "            title = df.tweets,\n",
    "            day = df.time,\n",
    "            alpha = [0.9] * embedding.shape[0],\n",
    "            size = [7] * embedding.shape[0]\n",
    "        )\n",
    "    )\n",
    "hover_tsne = HoverTool(names=[\"df\"], tooltips=\"\"\"\n",
    "    <div style=\"margin: 10\">\n",
    "        <div style=\"margin: 0 auto; width:300px;\">\n",
    "            <span style=\"font-size: 12px; font-weight: bold;\">Title:</span>\n",
    "            <span style=\"font-size: 12px\">@title</span>\n",
    "            <span style=\"font-size: 12px; font-weight: bold;\">Day:</span>\n",
    "            <span style=\"font-size: 12px\">@time</span>\n",
    "        </div>\n",
    "    </div>\n",
    "    \"\"\")\n",
    "tools_tsne = [hover_tsne, 'pan', 'wheel_zoom', 'reset']\n",
    "plot_tsne = figure(plot_width=700, plot_height=700, tools=tools_tsne, title='Papers')\n",
    "plot_tsne.circle('x', 'y', size='size', fill_color='colors', \n",
    "                 alpha='alpha', line_alpha=0, line_width=0.01, source=source, name=\"df\")\n",
    "\n",
    "callback = CustomJS(args=dict(source=source), code=\n",
    "    \"\"\"\n",
    "    var data = source.data;\n",
    "    var f = cb_obj.value\n",
    "    x = data['x']\n",
    "    y = data['y']\n",
    "    colors = data['colors']\n",
    "    alpha = data['alpha']\n",
    "    title = data['title']\n",
    "    time = data['time']\n",
    "    size = data['size']\n",
    "    for (i = 0; i < x.length; i++) {\n",
    "        if (time[i] <= f) {\n",
    "            alpha[i] = 0.9\n",
    "            size[i] = 7\n",
    "        } else {\n",
    "            alpha[i] = 0.05\n",
    "            size[i] = 4\n",
    "        }\n",
    "    }\n",
    "    source.change.emit();\n",
    "    \"\"\")\n",
    "\n",
    "slider = Slider(start=df.time.min(), end=df.time.max(), value=2016, step=1, title=\"Day of tweets\")\n",
    "slider.js_on_change('value', callback)\n",
    "\n",
    "layout = column(slider, plot_tsne)\n",
    "show(layout)"
   ]
  },
  {
   "cell_type": "code",
   "execution_count": null,
   "metadata": {},
   "outputs": [],
   "source": []
  }
 ],
 "metadata": {
  "kernelspec": {
   "display_name": "Python 3",
   "language": "python",
   "name": "python3"
  },
  "language_info": {
   "codemirror_mode": {
    "name": "ipython",
    "version": 3
   },
   "file_extension": ".py",
   "mimetype": "text/x-python",
   "name": "python",
   "nbconvert_exporter": "python",
   "pygments_lexer": "ipython3",
   "version": "3.7.3"
  }
 },
 "nbformat": 4,
 "nbformat_minor": 4
}
