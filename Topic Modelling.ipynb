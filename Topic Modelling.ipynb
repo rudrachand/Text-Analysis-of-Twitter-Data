{
 "cells": [
  {
   "cell_type": "code",
   "execution_count": 1,
   "metadata": {},
   "outputs": [
    {
     "name": "stderr",
     "output_type": "stream",
     "text": [
      "[nltk_data] Downloading package vader_lexicon to\n",
      "[nltk_data]     C:\\Users\\Toshiba\\AppData\\Roaming\\nltk_data...\n",
      "[nltk_data]   Package vader_lexicon is already up-to-date!\n"
     ]
    }
   ],
   "source": [
    "#importing libraries\n",
    "import pandas as pd\n",
    "import numpy as np\n",
    "import nltk\n",
    "nltk.download('vader_lexicon')\n",
    "# Gensim\n",
    "import gensim\n",
    "import gensim.corpora as corpora\n",
    "from gensim.utils import simple_preprocess\n",
    "from gensim.models import CoherenceModel\n",
    "import re\n",
    "# spacy for lemmatization\n",
    "import spacy\n",
    "# Plotting tools\n",
    "import pyLDAvis\n",
    "import pyLDAvis.gensim  # don't skip this\n",
    "import matplotlib.pyplot as plt\n",
    "%matplotlib inline\n",
    "import warnings\n",
    "warnings.filterwarnings('ignore')\n",
    "# Enable logging for gensim - optional\n",
    "import logging\n",
    "logging.basicConfig(format='%(asctime)s : %(levelname)s : %(message)s', level=logging.ERROR)"
   ]
  },
  {
   "cell_type": "code",
   "execution_count": 2,
   "metadata": {},
   "outputs": [],
   "source": [
    "from nltk.sentiment.vader import SentimentIntensityAnalyzer\n",
    "sia = SentimentIntensityAnalyzer()"
   ]
  },
  {
   "cell_type": "code",
   "execution_count": 3,
   "metadata": {},
   "outputs": [],
   "source": [
    "#read the data from twitter\n",
    "df = pd.read_csv('Tweets.csv')\n",
    "df = df[['tweets','likes','time']]"
   ]
  },
  {
   "cell_type": "code",
   "execution_count": 4,
   "metadata": {},
   "outputs": [],
   "source": [
    "def text_cleaner(text,num):\n",
    "    newString = text.lower()\n",
    "    newString = re.sub(r'\\([^)]*\\)', '', newString)\n",
    "    newString = re.sub(r\"[0-9]\", \"\", newString)\n",
    "    newString = re.sub(',',' ', newString)\n",
    "    newString = re.sub('-',' ', newString)\n",
    "    newString = re.sub('_',' ', newString)\n",
    "    newString = re.sub('&','and', newString)\n",
    "    newString = re.sub('[()]', '', newString)\n",
    "    newString = re.sub(';',' ', newString)\n",
    "    newString = re.sub(r\"'s\\b\",\"\",newString)\n",
    "    newString = re.sub(\"[^a-zA-Z]\", \" \", newString)\n",
    "    newString = re.sub(r\"Ä¢\", \"\", newString)\n",
    "    newString = re.sub(r\"¬∑\", \"\", newString)\n",
    "    newString = re.sub(r\"\\'\", \"\", newString)\n",
    "    newString = re.sub(r\"\\\"\", \"\", newString)\n",
    "    newString = re.sub(r\"\\n\", \"\", newString)\n",
    "    newString = re.sub(r\"\\r\", \"\", newString)\n",
    "    return newString.strip().lower()"
   ]
  },
  {
   "cell_type": "code",
   "execution_count": 5,
   "metadata": {},
   "outputs": [],
   "source": [
    "X = []\n",
    "for t in df['tweets']:\n",
    "    X.append(text_cleaner(t,0))"
   ]
  },
  {
   "cell_type": "code",
   "execution_count": 6,
   "metadata": {},
   "outputs": [
    {
     "data": {
      "text/plain": [
       "0    trumanlab discussion of adenovirus vector gene...\n",
       "1    children with spinal muscular atrophy may expe...\n",
       "2    ari anderson defies odds  diagnosed with spina...\n",
       "3    i m raising money for cure for marcel   fighti...\n",
       "4    scientific understanding of  sma improved grea...\n",
       "Name: tweets, dtype: object"
      ]
     },
     "execution_count": 6,
     "metadata": {},
     "output_type": "execute_result"
    }
   ],
   "source": [
    "#Soting list in the column back again\n",
    "df['tweets'] = pd.DataFrame(X)\n",
    "df['tweets'].head()"
   ]
  },
  {
   "cell_type": "code",
   "execution_count": 7,
   "metadata": {},
   "outputs": [
    {
     "name": "stdout",
     "output_type": "stream",
     "text": [
      "[['trumanlab', 'discussion', 'of', 'adenovirus', 'vector', 'gene', 'therapy', 'used', 'in', 'iirc', 'duchenne', 'muscular', 'dystrophy', 'spinal', 'muscular', 'atrophy', 'and', 'rpe', 'retinal', 'disease', 'easy', 'topic', 'to', 'make', 'interesting', 'while', 'teaching', 'basic', 'science', 'and', 'real', 'world', 'impact', 'can', 'even', 'tie', 'in', 'some', 'healthcare', 'and', 'ethics', 'discussions'], ['children', 'with', 'spinal', 'muscular', 'atrophy', 'may', 'experience', 'long', 'lasting', 'benefits', 'from', 'genetherapy', 'with', 'onasemnogene', 'abeparvovec', 'according', 'to', 'new', 'data', 'https', 'co', 'sjyclpqf', 'https', 'co', 'dibqjbltk'], ['ari', 'anderson', 'defies', 'odds', 'diagnosed', 'with', 'spinal', 'muscular', 'atrophy', 'at', 'birth', 'he', 'was', 'given', 'just', 'percent', 'chance', 'of', 'surviving', 'past', 'the', 'age', 'of', 'two', 'https', 'co', 'ohcnlmwb'], ['raising', 'money', 'for', 'cure', 'for', 'marcel', 'fighting', 'spinal', 'muscular', 'atrophy', 'click', 'to', 'donate', 'rcid', 'fdcddcbandamp', 'pc', 'tw', 'co', 'campmgmt', 'wandamp', 'utm', 'medium', 'socialandamp', 'utm', 'source', 'twitterandamp', 'utm', 'campaign', 'lico', 'share', 'sheet', 'gofundme', 'usatf']]\n"
     ]
    }
   ],
   "source": [
    "#Tokenise\n",
    "def sent_to_words(sentences):\n",
    "    for sentence in sentences:\n",
    "        yield(gensim.utils.simple_preprocess(str(sentence), deacc=True))  # deacc=True removes punctuations\n",
    "\n",
    "data_words = list(sent_to_words(df.tweets))\n",
    "\n",
    "print(data_words[:4])"
   ]
  },
  {
   "cell_type": "code",
   "execution_count": 8,
   "metadata": {},
   "outputs": [],
   "source": [
    "import re, nltk, spacy, gensim\n",
    "def lemmatization(texts, allowed_postags=['NOUN', 'ADJ', 'VERB', 'ADV']):\n",
    "    texts_out = []\n",
    "    for sent in texts:\n",
    "        doc = nlp(\" \".join(sent))\n",
    "        texts_out.append(\" \".join([token.lemma_ if token.lemma_ not in ['-PRON-'] else '' for token in doc if token.pos_ in allowed_postags]))\n",
    "    return texts_out"
   ]
  },
  {
   "cell_type": "code",
   "execution_count": 9,
   "metadata": {},
   "outputs": [
    {
     "name": "stdout",
     "output_type": "stream",
     "text": [
      "['trumanlab discussion adenovirus vector gene therapy use iirc duchenne muscular dystrophy spinal muscular atrophy rpe retinal disease easy topic make interesting teach basic science real world impact can even tie healthcare ethic discussion', 'child spinal muscular atrophy may experience long last benefit genetherapy onasemnogene abeparvovec accord new data https co sjyclpqf https co dibqjbltk']\n"
     ]
    }
   ],
   "source": [
    "# Initialize spacy 'en' model, keeping only tagger component (for efficiency)\n",
    "# Run in terminal: python3 -m spacy download en\n",
    "nlp = spacy.load('en_core_web_sm', disable=['parser', 'ner'])\n",
    "\n",
    "# Do lemmatization keeping only Noun, Adj, Verb, Adverb\n",
    "data_lemmatized = lemmatization(data_words, allowed_postags=['NOUN', 'ADJ', 'VERB', 'ADV'])\n",
    "\n",
    "print(data_lemmatized[:2])"
   ]
  },
  {
   "cell_type": "code",
   "execution_count": 10,
   "metadata": {},
   "outputs": [],
   "source": [
    "# Sklearn\n",
    "from sklearn.decomposition import LatentDirichletAllocation, TruncatedSVD\n",
    "from sklearn.feature_extraction.text import CountVectorizer, TfidfVectorizer\n",
    "from sklearn.model_selection import GridSearchCV\n",
    "from sklearn.feature_extraction import text\n",
    "from pprint import pprint"
   ]
  },
  {
   "cell_type": "code",
   "execution_count": 11,
   "metadata": {},
   "outputs": [],
   "source": [
    "add_stop_words = ['https', 'get', 'many', 'have', 'hold', 'sir','need','help','plz','make',\n",
    "                  'available','pls','spinal','muscular','atrophy','vjyxqgt','fightssma','sma','asr','ayaansh']\n",
    "stop_words = text.ENGLISH_STOP_WORDS.union(add_stop_words)\n",
    "vectorizer = CountVectorizer(analyzer='word',\n",
    "                             token_pattern='[a-zA-Z0-9]{3,}',\n",
    "                             stop_words=stop_words# num chars > 3\n",
    "                            )"
   ]
  },
  {
   "cell_type": "code",
   "execution_count": 12,
   "metadata": {},
   "outputs": [],
   "source": [
    "data_vectorized = vectorizer.fit_transform(data_lemmatized)"
   ]
  },
  {
   "cell_type": "code",
   "execution_count": 13,
   "metadata": {},
   "outputs": [],
   "source": [
    "word_list = vectorizer.get_feature_names()\n",
    "count_list = data_vectorized.toarray().sum(axis=0)"
   ]
  },
  {
   "cell_type": "code",
   "execution_count": 14,
   "metadata": {},
   "outputs": [
    {
     "name": "stdout",
     "output_type": "stream",
     "text": [
      "{'aajtak': 2, 'aap': 1, 'aaron': 1, 'aav': 1, 'abarcaprize': 1, 'abcnew': 1, 'abeparvovec': 3, 'abhisar': 1, 'ability': 1, 'able': 1, 'abmihfljv': 1, 'accessibledan': 1, 'accompany': 1, 'accord': 3, 'account': 1, 'accurately': 6, 'achieve': 1, 'act': 1, 'actforsma': 3, 'action': 1, 'activity': 1, 'actor': 2, 'actually': 1, 'adaptive': 1, 'adenovirus': 1, 'adhicutte': 1, 'admit': 1, 'adorable': 2, 'adrian': 1, 'adspelenagarcia': 1, 'adult': 2, 'adventure': 1, 'advice': 2, 'advisor': 1, 'advocate': 2, 'aferntl': 1, 'affect': 4, 'afford': 12, 'afsfgdehg': 1, 'age': 11, 'ahead': 1, 'aimim': 1, 'airport': 1, 'aivlokmb': 1, 'ajaydevgn': 1, 'ajaymaken': 1, 'ajaypratap': 2, 'ajfrjizswq': 1, 'akin': 1, 'alabama': 5, 'alepyiogx': 1, 'alex': 1, 'alexander': 1, 'ali': 3, 'alifazal': 2, 'alimehdi': 1, 'allow': 1, 'alluarjun': 1, 'almijlis': 1, 'altering': 1, 'amaalmallik': 1, 'amberly': 1, 'ambulatory': 2, 'amifpumie': 1, 'amitandon': 1, 'amp': 1, 'amplidex': 5, 'amplify': 27, 'analysis': 1, 'anandmahindra': 6, 'andamp': 11, 'anderson': 1, 'andreachalupa': 1, 'androgen': 1, 'andymukherjee': 1, 'ani': 1, 'animal': 1, 'anjani': 1, 'ankitmay': 2, 'antisense': 2, 'anupampkher': 4, 'anusuyakhasba': 1, 'anybody': 1, 'aplidex': 1, 'appeal': 1, 'application': 1, 'approve': 2, 'approx': 1, 'apurvakas': 2, 'ara': 1, 'ari': 1, 'ariella': 1, 'arkhel': 1, 'arm': 2, 'armaanmalik': 1, 'armada': 1, 'arorajarvind': 1, 'arrange': 10, 'article': 1, 'ashokgehlot': 2, 'ashutoshb': 1, 'ask': 1, 'asmcxtcx': 1, 'associate': 4, 'asutcliffe': 2, 'atlas': 1, 'attorney': 1, 'atulkasbekar': 1, 'author': 1, 'authority': 1, 'automation': 2, 'avygcexqg': 1, 'awareness': 1, 'awryaditi': 1, 'ayah': 2, 'ayansh': 1, 'ayush': 1, 'baby': 16, 'babydima': 1, 'babydmytro': 1, 'bad': 1, 'bainjal': 1, 'barker': 1, 'basic': 1, 'bassi': 1, 'battle': 16, 'bbocqicb': 1, 'bear': 9, 'begin': 1, 'behalf': 1, 'beidatsch': 1, 'believe': 3, 'belong': 1, 'benefit': 3, 'benioff': 1, 'benjamin': 1, 'bflay': 1, 'bharadwajspeak': 1, 'bhi': 1, 'bhumipednekar': 7, 'big': 1, 'bikaner': 19, 'bindasbhidu': 1, 'biotechnology': 1, 'birth': 13, 'birthday': 1, 'bjollmf': 1, 'bless': 1, 'blue': 1, 'bmdphynxgh': 1, 'book': 2, 'bose': 1, 'boy': 4, 'bqaaamhn': 1, 'brade': 1, 'bradesplace': 1, 'breath': 1, 'breathing': 2, 'bring': 1, 'bringsaudi': 1, 'bulbar': 2, 'busuykimrx': 1, 'butterfly': 3, 'buuslrsw': 1, 'buy': 1, 'bwdpduww': 1, 'bzfnzmop': 2, 'cacpmoozy': 1, 'campaign': 1, 'campmgmt': 1, 'candidate': 1, 'care': 4, 'carrier': 1, 'case': 5, 'catch': 1, 'cause': 6, 'cdnchange': 1, 'cell': 2, 'cellular': 1, 'center': 2, 'central': 1, 'cerebral': 2, 'certain': 1, 'certificate': 1, 'cet': 1, 'cgm': 1, 'cgruywnhh': 1, 'chahte': 1, 'chain': 1, 'champ': 2, 'chance': 5, 'chandra': 1, 'change': 13, 'changefrance': 1, 'character': 1, 'charge': 1, 'chase': 1, 'check': 3, 'cheer': 1, 'chgbgzks': 1, 'chidkloxr': 1, 'chief': 1, 'child': 44, 'childhood': 1, 'chip': 1, 'chkd': 1, 'choose': 1, 'chopdar': 1, 'cienciagob': 1, 'cikyvmpqa': 1, 'ckedquu': 1, 'clarencehouse': 1, 'class': 10, 'clenbuterol': 1, 'clgirryok': 1, 'click': 4, 'clinical': 1, 'clock': 9, 'close': 4, 'cme': 1, 'cntitqiwv': 1, 'coffee': 1, 'cohort': 1, 'cohqxwfcya': 3, 'collaborate': 1, 'collect': 1, 'college': 1, 'columbiaunivdpt': 1, 'come': 3, 'comment': 2, 'communication': 1, 'community': 1, 'comparison': 1, 'competency': 1, 'concept': 1, 'concordant': 1, 'condition': 107, 'conduct': 1, 'confidently': 1, 'congratulate': 1, 'congratulation': 1, 'connect': 1, 'consequence': 1, 'consider': 1, 'constant': 1, 'consumer': 1, 'contact': 2, 'contribute': 2, 'control': 1, 'controller': 1, 'convict': 1, 'copy': 1, 'core': 1, 'corxrkpag': 1, 'cost': 18, 'costly': 1, 'couldn': 10, 'cousin': 1, 'coworker': 1, 'cphkxizd': 1, 'create': 3, 'crescent': 2, 'crime': 1, 'crore': 35, 'crowd': 4, 'crowdfunde': 5, 'cshl': 1, 'csic': 4, 'ctubbragc': 1, 'ctxrxgnfw': 1, 'cubby': 5, 'cucpzsudpk': 1, 'cure': 27, 'curesma': 3, 'current': 1, 'cviluxu': 7, 'daaatro': 1, 'daily': 2, 'damage': 1, 'daniel': 1, 'data': 3, 'dattrajeev': 1, 'daughter': 6, 'day': 34, 'dbazdvrnk': 1, 'dbpkdjd': 1, 'dccomic': 1, 'dcgpbw': 1, 'dchaurasia': 1, 'dear': 67, 'decision': 1, 'deed': 2, 'deespeak': 1, 'deficit': 1, 'define': 1, 'defy': 1, 'degeneration': 1, 'degenerative': 95, 'degree': 1, 'delay': 1, 'delete': 1, 'demonstrate': 1, 'demxijcp': 1, 'department': 1, 'derive': 2, 'deserve': 4, 'design': 1, 'detect': 1, 'determine': 1, 'devduttmyth': 1, 'develop': 2, 'development': 1, 'diagnose': 12, 'diagnosisday': 1, 'dibqjbltk': 1, 'didn': 2, 'die': 3, 'difference': 2, 'different': 1, 'difficult': 2, 'disable': 1, 'disabledworld': 1, 'discover': 1, 'discovery': 1, 'discuss': 2, 'discussion': 2, 'disease': 34, 'disorder': 4, 'distress': 1, 'divyenndu': 1, 'dkedxmybp': 1, 'dkqwhjkgfe': 7, 'dkzfvqg': 1, 'dlaflaxul': 1, 'dmmoradabad': 1, 'dmytro': 3, 'dmytryk': 1, 'dna': 1, 'doctorsoumya': 1, 'doesn': 3, 'dollar': 7, 'don': 2, 'donadoraorg': 1, 'donate': 14, 'donation': 6, 'dose': 2, 'dqurqfmj': 2, 'dqurqntnj': 4, 'dream': 1, 'drfyxxot': 1, 'drgauravgarg': 1, 'drgautambhansa': 1, 'drive': 1, 'drkumarvishwa': 1, 'drkumarvishwas': 1, 'droumi': 1, 'drug': 27, 'drwhiteson': 1, 'dubnation': 1, 'duchenne': 3, 'ducvzvgr': 1, 'dwzcjvdi': 1, 'dxayzlloh': 1, 'dxb': 1, 'dynamic': 2, 'dystrophy': 4, 'early': 2, 'earth': 1, 'easy': 1, 'ednqlgscui': 1, 'educate': 1, 'education': 1, 'educational': 2, 'effect': 4, 'effectiveness': 2, 'effort': 2, 'eleanor': 1, 'elena': 1, 'eligible': 1, 'elon': 1, 'elonmusk': 1, 'embliit': 1, 'emirate': 2, 'emiratesrc': 1, 'end': 1, 'english': 1, 'enjoy': 1, 'enjzhxtm': 1, 'enufyobyn': 1, 'era': 1, 'erc': 2, 'erdqjbi': 1, 'especially': 1, 'essential': 1, 'ethic': 1, 'etpobvxavy': 1, 'european': 1, 'eurovision': 1, 'evaluation': 1, 'evn': 17, 'examination': 1, 'excited': 1, 'exercise': 1, 'exjecctdp': 1, 'exoskeleton': 5, 'expect': 1, 'expense': 1, 'expensive': 16, 'experience': 3, 'expert': 3, 'explain': 1, 'extend': 32, 'extensively': 1, 'extracellular': 1, 'faculty': 2, 'faith': 1, 'family': 3, 'faster': 1, 'father': 3, 'fatima': 13, 'fayedsouza': 2, 'fbyisqr': 39, 'fdcddcbandamp': 1, 'feasibility': 2, 'feature': 2, 'feed': 1, 'feedkast': 1, 'fellow': 1, 'fibroblast': 1, 'field': 1, 'fight': 27, 'fighter': 8, 'fightsma': 1, 'finjpustr': 1, 'fkcrzwqkhh': 1, 'fllydyycx': 1, 'flrnjubom': 1, 'flyspicejet': 1, 'fmvzinjdf': 1, 'focusse': 1, 'fold': 9, 'follow': 1, 'follower': 1, 'form': 2, 'forward': 2, 'foundation': 1, 'fpjjnvxtc': 1, 'freaking': 1, 'free': 2, 'friend': 2, 'frisdxwxxh': 1, 'fsgcj': 1, 'ftom': 1, 'fun': 1, 'fund': 16, 'funding': 3, 'fundraise': 11, 'fundraiser': 1, 'fuoxzvme': 1, 'fyzdpkxae': 1, 'gameofthrone': 1, 'garc': 1, 'garu': 1, 'gaslitnation': 1, 'gather': 1, 'gbztjlhw': 1, 'gdelaurentii': 1, 'gene': 13, 'general': 1, 'genetherapy': 1, 'genetic': 24, 'ggpohrwx': 1, 'girl': 6, 'globe': 1, 'gnasbe': 1, 'gofundme': 4, 'good': 4, 'googleio': 1, 'government': 2, 'govinddotasra': 1, 'gpriqtgath': 1, 'grant': 3, 'great': 2, 'greatly': 1, 'greentea': 1, 'gregabbott': 1, 'growth': 1, 'gsocprkhk': 1, 'gtisnjjtp': 1, 'gupta': 3, 'gurruchoudhary': 2, 'guruofficial': 1, 'gvjesrf': 1, 'gzhoddid': 1, 'haas': 1, 'half': 3, 'hand': 12, 'hankypanty': 1, 'happy': 1, 'hardik': 1, 'harshd': 1, 'havewukcv': 1, 'hawk': 1, 'hbimcj': 1, 'hbtkckvxx': 1, 'hdgdtydv': 1, 'head': 28, 'health': 2, 'healthcare': 2, 'healthy': 2, 'hear': 3, 'heart': 3, 'helal': 1, 'hercai': 1, 'hereditary': 1, 'heromanoj': 1, 'hgtkvydz': 1, 'hhqxxlt': 1, 'highly': 1, 'history': 1, 'hjtwpcedk': 1, 'hmare': 1, 'hmesge': 4, 'hmptysea': 1, 'honorable': 2, 'hope': 2, 'hospital': 27, 'host': 1, 'hspb': 2, 'htguzyjcgi': 1, 'hum': 1, 'human': 1, 'humanity': 1, 'humble': 1, 'humsafartrust': 2, 'hxjosjyi': 1, 'hyderabad': 28, 'hzukmlrn': 1, 'iamkohli': 1, 'iamshajansamuel': 1, 'ibrahim': 1, 'icnmd': 1, 'icymi': 1, 'identify': 6, 'idjbmcec': 1, 'ifiwcav': 1, 'iirc': 1, 'ikohftgmkh': 1, 'ikstphchc': 1, 'illness': 3, 'imbpkcxud': 1, 'imharmanpreet': 1, 'imnepccen': 1, 'impact': 1, 'impairment': 1, 'implication': 1, 'important': 1, 'improve': 3, 'imzygbgv': 1, 'include': 3, 'increase': 2, 'incredibly': 1, 'india': 107, 'indian': 1, 'individual': 2, 'infant': 16, 'inform': 1, 'information': 1, 'infusion': 1, 'inherit': 1, 'injection': 25, 'innovation': 1, 'insight': 1, 'inspire': 1, 'interesting': 1, 'invaluable': 1, 'invite': 1, 'iofzpieuej': 1, 'ipsvijrk': 2, 'iritumalhotra': 1, 'isasblcldx': 1, 'ishafoundation': 2, 'ishausa': 2, 'isliye': 1, 'isporannual': 1, 'issue': 2, 'jabalpur': 1, 'jahpbsoyp': 1, 'jamewil': 1, 'janetjackson': 1, 'janish': 3, 'jcodac': 1, 'jcreaturetravel': 1, 'jdsevv': 1, 'jeffmauro': 1, 'jglphrh': 1, 'jgzypwcjd': 1, 'jhulang': 1, 'jimmy': 1, 'jimmyneesh': 1, 'jkpbijany': 1, 'jlddzcc': 1, 'job': 2, 'jofraarcher': 2, 'join': 4, 'josealv': 1, 'jouli': 3, 'joybhattacharj': 3, 'jpixekzni': 1, 'jplcpql': 1, 'jregwmgws': 1, 'jroqkkskk': 1, 'jtfixazxw': 2, 'julie': 2, 'just': 17, 'juvenile': 1, 'juyal': 2, 'kabc': 1, 'kaeli': 1, 'kailashkher': 1, 'kanangill': 1, 'kar': 1, 'karne': 1, 'karthi': 1, 'karthiksubbaraj': 1, 'kashtakala': 1, 'kbcphxsd': 1, 'kehavucv': 1, 'kensingtonroyal': 1, 'kentucky': 1, 'ketto': 1, 'keynote': 1, 'khalsaaid': 2, 'khaneijaz': 1, 'khansirpatna': 1, 'khyati': 2, 'kid': 102, 'kidnapping': 1, 'kill': 1, 'kind': 1, 'kindly': 8, 'kingsalman': 1, 'kit': 7, 'kjmtdzvb': 1, 'klein': 1, 'kleinstiver': 1, 'know': 11, 'koi': 1, 'kqvquzhm': 1, 'krainer': 1, 'lab': 1, 'label': 1, 'labor': 1, 'latewithlilly': 2, 'laura': 1, 'lawmaker': 5, 'lead': 13, 'learn': 6, 'leave': 4, 'leitch': 1, 'lend': 1, 'lennoxlewis': 1, 'let': 3, 'level': 2, 'lhwmuc': 1, 'lico': 1, 'life': 139, 'lifesave': 2, 'lifesaving': 1, 'lifescience': 1, 'lift': 1, 'liijpcxzf': 1, 'like': 1, 'lil': 5, 'limb': 1, 'limit': 1, 'line': 1, 'link': 13, 'liquor': 1, 'listen': 1, 'little': 41, 'live': 10, 'lkhzalcgkn': 1, 'lnxdgri': 1, 'loan': 1, 'lobnpljfw': 1, 'long': 3, 'look': 1, 'lose': 1, 'loss': 11, 'love': 1, 'lovely': 1, 'lpnjjgfg': 1, 'lprhkf': 1, 'lshtaci': 1, 'lssuhfpk': 1, 'lthggwh': 1, 'lttdqssh': 1, 'lubbechqz': 1, 'luca': 1, 'luck': 1, 'lucky': 1, 'lundt': 1, 'lung': 2, 'madam': 2, 'madan': 1, 'magazine': 1, 'mahipalrathore': 1, 'mam': 11, 'man': 1, 'manage': 3, 'manager': 1, 'mandhana': 1, 'manjrekarmahesh': 1, 'manojtiwarimp': 1, 'mar': 1, 'marcel': 3, 'mark': 1, 'market': 2, 'marketing': 3, 'marknorm': 2, 'marsibionic': 1, 'massachusetts': 1, 'masseyeandear': 1, 'massgeneralnew': 1, 'massspecpub': 1, 'match': 1, 'maybe': 13, 'mdpimetabolite': 1, 'meaningful': 3, 'mechanism': 2, 'mediate': 1, 'medical': 13, 'medicaldevice': 1, 'medication': 1, 'medicine': 16, 'medium': 3, 'mehta': 1, 'mekedarshinde': 1, 'member': 1, 'memorable': 1, 'mentality': 1, 'merchant': 1, 'message': 1, 'metabolome': 1, 'method': 1, 'mgh': 2, 'middle': 10, 'milaap': 2, 'milestone': 1, 'milk': 1, 'million': 4, 'mindykale': 3, 'minister': 1, 'ministrywcd': 1, 'miran': 1, 'mirzapur': 1, 'mkjxzouyo': 1, 'mnoaltrebt': 2, 'mobility': 2, 'model': 1, 'modify': 1, 'modulator': 1, 'mohangoelbjp': 1, 'mohfw': 1, 'mohitkapoorbjp': 1, 'molecular': 2, 'momentum': 1, 'mondaymorne': 1, 'money': 5, 'monique': 1, 'month': 122, 'mother': 2, 'motor': 1, 'movemt': 1, 'mpqreki': 1, 'mrqdiulcr': 1, 'mubprxxd': 1, 'muhamme': 3, 'muhammedalisma': 4, 'multiple': 1, 'multisite': 1, 'mumzwoglwg': 4, 'muscle': 13, 'music': 2, 'musicthaman': 2, 'mutate': 1, 'myakanaresh': 1, 'nahi': 1, 'nak': 1, 'naksh': 1, 'nameisnani': 1, 'narendramodi': 3, 'narrate': 1, 'national': 1, 'nationaltrust': 2, 'navigate': 1, 'ncvhzyky': 1, 'ncwlkr': 1, 'ndtv': 1, 'necessary': 1, 'neelkantbakshi': 1, 'neilnmukesh': 1, 'nerve': 1, 'nervous': 1, 'netaji': 1, 'netshrink': 1, 'neuro': 1, 'neurology': 2, 'neuron': 1, 'new': 12, 'newlife': 1, 'news': 2, 'nhs': 2, 'nice': 1, 'nidhiindiatv': 1, 'niece': 1, 'niiqeicnw': 1, 'nikhil': 2, 'nikkhiladvani': 2, 'njgrwua': 1, 'nmplriutg': 1, 'nmr': 1, 'noble': 1, 'noor': 21, 'noorfatima': 1, 'note': 1, 'novartis': 4, 'novartisgene': 1, 'novel': 2, 'npesfcsk': 1, 'ntripathi': 1, 'ntzep': 1, 'nujozpba': 2, 'number': 1, 'nupthms': 1, 'nusinersen': 3, 'nvrfeky': 1, 'nwwvh': 1, 'oaurpmwji': 1, 'objective': 1, 'oblige': 1, 'odd': 3, 'odesa': 1, 'odqttfdmg': 1, 'oedcxakrkd': 1, 'officer': 1, 'officialamruta': 1, 'officialsidnaaz': 1, 'offl': 1, 'ogodeobgl': 1, 'ohcnlmwb': 1, 'ohwourrfm': 1, 'okchxitcj': 1, 'okgv': 1, 'old': 192, 'onasemnogene': 3, 'ooxvhyq': 1, 'opportunity': 1, 'oqdgmxvkl': 1, 'oral': 1, 'organization': 1, 'orkhdzd': 2, 'otobrdil': 1, 'otohqqodb': 1, 'outcome': 3, 'outward': 1, 'ozlryl': 1, 'paducah': 1, 'paediatric': 1, 'pais': 1, 'palakmuchhal': 2, 'palliative': 1, 'palsy': 2, 'panelist': 1, 'paponmusic': 1, 'parent': 27, 'paridhi': 1, 'parrysingh': 1, 'past': 12, 'patel': 1, 'pathogenesis': 1, 'pathway': 1, 'patient': 10, 'pattern': 1, 'pcr': 4, 'pediatric': 3, 'pediatrician': 1, 'people': 2, 'percent': 1, 'permanent': 1, 'person': 3, 'petition': 9, 'peumcomj': 1, 'phase': 1, 'phd': 1, 'phenotype': 1, 'phosphorylation': 1, 'physical': 1, 'physiology': 1, 'piratedsardar': 1, 'place': 1, 'play': 3, 'plcywpyfj': 1, 'pleasedonate': 1, 'pleasehelp': 1, 'pleasesavenoor': 1, 'pleaseshare': 1, 'plfxmgyzu': 1, 'plosone': 1, 'plzz': 3, 'pmoindia': 2, 'pnfbrwzn': 1, 'pod': 3, 'podcast': 1, 'pokorny': 2, 'policy': 1, 'polyphenol': 1, 'ponder': 1, 'positive': 1, 'possible': 1, 'post': 3, 'poster': 2, 'potassium': 1, 'potential': 2, 'ppatdlz': 1, 'ppcunlejux': 1, 'prepare': 1, 'present': 2, 'price': 5, 'prime': 1, 'prin': 1, 'priyankajshukla': 1, 'prlwhdgu': 1, 'problem': 1, 'productive': 1, 'professional': 2, 'project': 1, 'protect': 1, 'proteomic': 1, 'provide': 4, 'ptc': 1, 'ptcbio': 1, 'publish': 1, 'pubme': 2, 'puneetiitm': 1, 'punyaab': 1, 'pvprsllmgt': 2, 'pxmuuallz': 1, 'pyjttcfih': 1, 'qbfkrxpd': 1, 'qdqzdlqm': 1, 'qfervtmsd': 1, 'qjbnyaclx': 3, 'qodtljdf': 1, 'qofgfcpyf': 1, 'qohdst': 1, 'qokcmjfjr': 1, 'qtqpozw': 1, 'quality': 1, 'quantitative': 1, 'quite': 1, 'qukpmnyaku': 2, 'qvhayxoe': 1, 'qvwjoxoyv': 1, 'qygbyfzp': 1, 'race': 1, 'rahulgandhi': 2, 'raimasen': 1, 'rainbow': 26, 'raise': 69, 'raj': 1, 'rajasthan': 1, 'rajcheerfull': 1, 'rajcmo': 2, 'rajgovofficial': 1, 'raman': 1, 'rameshlaus': 1, 'randeephooda': 1, 'range': 1, 'rani': 3, 'rapjuxbqb': 4, 'rare': 45, 'raredisease': 6, 'ravidubey': 2, 'ravikishann': 2, 'rcid': 1, 'reach': 7, 'read': 6, 'real': 1, 'realize': 1, 'reborn': 1, 'receive': 6, 'recently': 6, 'receptor': 1, 'recognize': 1, 'red': 2, 'reduce': 3, 'reference': 1, 'referral': 1, 'refuse': 1, 'regenxbio': 1, 'rehab': 1, 'relate': 2, 'release': 1, 'rely': 2, 'reminder': 1, 'replacement': 1, 'report': 1, 'request': 12, 'require': 15, 'research': 7, 'researcher': 2, 'researchgate': 1, 'resource': 1, 'respectability': 1, 'respiratory': 2, 'result': 3, 'retinal': 2, 'retirement': 1, 'retweet': 1, 'rgvzoomin': 2, 'rhsajjbi': 1, 'rickygervais': 1, 'risdiplam': 1, 'rna': 1, 'robotic': 2, 'roche': 2, 'role': 1, 'room': 1, 'rowle': 1, 'rowling': 1, 'rpe': 1, 'rpkcparhif': 9, 'rqjcprcfs': 1, 'rrkdkioqi': 1, 'rrmkir': 1, 'rscrore': 5, 'rtpugjm': 1, 'run': 1, 'runjhunsharma': 1, 'rupalgu': 1, 'rupee': 2, 'rykcwannr': 1, 'rzkaqd': 1, 'sab': 1, 'safety': 2, 'sakti': 1, 'salesforce': 1, 'salim': 1, 'samaritan': 2, 'sandeepnailwal': 1, 'sanjeevkapoor': 1, 'sapanv': 1, 'sarahkendzior': 1, 'sardesairajdeep': 1, 'sargun': 1, 'sathyaraj': 1, 'saturday': 1, 'save': 51, 'savecubby': 5, 'say': 1, 'sazzofmwkw': 1, 'schizophrenia': 1, 'science': 1, 'scientific': 1, 'scientist': 2, 'scoopwhoop': 1, 'screening': 7, 'second': 1, 'segment': 1, 'sehwagfoundatn': 1, 'sen': 1, 'senbryanhughe': 1, 'senior': 1, 'sensitive': 1, 'serum': 1, 'service': 1, 'sevenbucksprod': 1, 'sevilgcl': 1, 'shaan': 1, 'share': 39, 'sharma': 1, 'sharonstone': 1, 'shashitharoor': 1, 'sheet': 2, 'sheetalpronamo': 1, 'shelbyslawson': 1, 'shishirmba': 1, 'shm': 1, 'shoot': 1, 'shortfall': 1, 'shot': 95, 'shout': 93, 'sibi': 1, 'siddhantagnih': 1, 'sign': 8, 'signez': 1, 'significant': 1, 'sikdppkz': 1, 'sikdxot': 45, 'similar': 1, 'sing': 2, 'singe': 1, 'singer': 1, 'single': 2, 'sister': 2, 'sit': 2, 'sitccqbg': 1, 'sjwekxt': 1, 'sjyclpqf': 1, 'skkscoxnhi': 1, 'slgsdhhjd': 1, 'small': 3, 'smgsqrrvgj': 1, 'smile': 1, 'smn': 1, 'smriti': 1, 'snmfcgjfn': 1, 'social': 2, 'socialandamp': 1, 'sonalgoelia': 2, 'sonalikulkarni': 1, 'song': 1, 'sonusood': 17, 'soodfoundation': 11, 'sorry': 1, 'sosmbqqn': 1, 'source': 1, 'spanish': 1, 'spark': 1, 'spdkhnmhn': 1, 'speak': 1, 'specialist': 2, 'spike': 1, 'spinalresearch': 1, 'spinraza': 4, 'spirit': 1, 'splice': 1, 'sponsor': 2, 'spread': 6, 'sqegffyv': 1, 'sresrddjg': 1, 'srishti': 3, 'stacy': 2, 'staff': 1, 'stage': 1, 'stanford': 1, 'star': 1, 'start': 4, 'state': 2, 'stephencurry': 1, 'story': 2, 'stressful': 1, 'struggle': 1, 'study': 2, 'stufflisting': 1, 'subhash': 2, 'success': 1, 'successfully': 1, 'suddenly': 1, 'suffer': 40, 'suffering': 1, 'sufferre': 1, 'suhasinih': 1, 'suit': 2, 'sujoy': 1, 'sum': 2, 'sumrag': 1, 'sunnyleone': 2, 'support': 14, 'supporter': 2, 'supriyobabul': 1, 'surffere': 1, 'survival': 2, 'survive': 6, 'sushmitafcaut': 1, 'suzypelta': 1, 'svrhqoce': 1, 'svtmumbai': 5, 'swallow': 1, 'swati': 3, 'sweet': 1, 'swivyayk': 1, 'swoyhfrv': 1, 'swrerxokj': 1, 'sxjcmgais': 1, 'symposium': 2, 'symptom': 1, 'syndrome': 1, 'syrian': 2, 'systemic': 2, 'taapsee': 1, 'tabix': 1, 'taillon': 1, 'tajinderbagga': 1, 'talk': 2, 'tanvim': 1, 'tarak': 1, 'target': 1, 'tatatrust': 2, 'tbldsdqgk': 22, 'teach': 1, 'team': 1, 'teamhimesh': 1, 'teamwork': 1, 'technology': 1, 'tejaswwini': 1, 'telehealth': 2, 'tell': 1, 'terminal': 1, 'terrible': 1, 'test': 2, 'testing': 1, 'tfslitmv': 1, 'thank': 8, 'thebanat': 1, 'thedailyshow': 1, 'thekiranbedi': 2, 'theneuroacademy': 1, 'theraghav': 2, 'therapeutic': 2, 'therapist': 1, 'therapy': 19, 'therock': 2, 'theshafaliverma': 1, 'thing': 1, 'think': 2, 'thisisdsp': 1, 'thousand': 3, 'thread': 1, 'threaten': 2, 'tick': 9, 'tie': 1, 'time': 15, 'tip': 1, 'tition': 1, 'tkpvp': 1, 'tnsrdtlv': 1, 'today': 2, 'togcllsm': 1, 'tolcbipptd': 1, 'tolerability': 2, 'tonight': 1, 'topic': 1, 'tosatto': 1, 'toy': 1, 'tqvxexgg': 1, 'training': 1, 'translation': 2, 'traveler': 1, 'travelleisure': 1, 'treat': 34, 'treatment': 34, 'treatmnt': 1, 'trevor': 1, 'trigger': 1, 'trivedi': 1, 'trnjuvqhij': 1, 'trumanlab': 1, 'try': 3, 'tspcwbyu': 1, 'tubyunax': 1, 'tuesday': 1, 'tuesdaymorne': 1, 'tuesdayvibe': 1, 'turn': 1, 'twaegwxpt': 1, 'tweet': 21, 'twitt': 1, 'twitterandamp': 1, 'twybwijrv': 1, 'type': 41, 'uaedonation': 1, 'uaojqkylq': 1, 'uba': 1, 'ubfvglxbj': 1, 'ufrdxcil': 1, 'ugh': 1, 'ugnaito': 1, 'ukraine': 1, 'ukrainian': 1, 'ulde': 1, 'uldiajai': 1, 'ulmhojkzyr': 1, 'ulssawsjtb': 1, 'ultimately': 1, 'unable': 1, 'underlie': 1, 'understanding': 1, 'unfortunately': 2, 'united': 1, 'universe': 1, 'unrkarntkd': 1, 'uohovnr': 1, 'update': 1, 'urgent': 2, 'urgently': 7, 'urine': 1, 'usa': 1, 'usatf': 1, 'usd': 16, 'use': 3, 'usual': 1, 'utility': 1, 'utm': 3, 'uueeypekh': 1, 'uutphvdcb': 4, 'uvqmjfn': 1, 'uxdtikfs': 1, 'uyaqqcqb': 1, 'uzclgdiknu': 1, 'vaccine': 3, 'valaafshar': 1, 'vamsikaka': 1, 'variant': 3, 'variation': 3, 'vbdnspsw': 1, 'vector': 1, 'vesicle': 1, 'vidyutjammwal': 1, 'vignette': 1, 'vincentrk': 1, 'viral': 1, 'vishaldadlani': 3, 'vishalhshah': 1, 'visit': 1, 'vkiqhcxd': 1, 'vmoakdjjom': 1, 'vnttsjpk': 1, 'vosgzvvv': 2, 'vpmzlfbken': 1, 'vqrfezwt': 1, 'vyweygwh': 1, 'waglenikhil': 1, 'wait': 2, 'walk': 3, 'want': 3, 'warning': 1, 'wasn': 1, 'waste': 1, 'watch': 1, 'wbcdsulv': 1, 'wcotityg': 1, 'wdfncbat': 13, 'wdqphvuer': 1, 'weak': 1, 'wear': 1, 'webpro': 1, 'week': 8, 'welander': 2, 'welcome': 1, 'weston': 1, 'wfdruuzj': 1, 'wfjvuiuil': 1, 'wfqiwnhnr': 1, 'wfuzzzyt': 1, 'wfzchopsxi': 1, 'wgoibzhlk': 2, 'wheelchair': 1, 'wildlifeofday': 1, 'wiley': 1, 'wileyproteomic': 1, 'win': 4, 'wirowqgry': 1, 'wish': 1, 'witness': 1, 'wmif': 2, 'wmsjymoi': 1, 'woman': 1, 'wonderwednesday': 1, 'word': 2, 'world': 20, 'worldwide': 1, 'worry': 1, 'worth': 2, 'worthy': 1, 'woupjhhg': 1, 'wpddeffzm': 1, 'wpqgjnvne': 1, 'wryjyspf': 1, 'wteiuyfq': 1, 'wtvd': 1, 'wvrpwajcx': 1, 'xaruhjsa': 1, 'xbox': 1, 'xcglfkdbtp': 1, 'xfiquicfx': 1, 'xkecyrjv': 1, 'xlazyluoky': 1, 'xnsnseslii': 1, 'xocuaceag': 1, 'xpavtymo': 1, 'xqcffrtm': 1, 'xrgfyzz': 1, 'xrrbnpzw': 1, 'xtdjpdlg': 1, 'xtomtyaim': 1, 'xtzwua': 1, 'xvloxidmu': 1, 'xyvcucyaq': 1, 'year': 129, 'yenfkqixte': 1, 'yfykbfe': 1, 'yhec': 1, 'yiemrdae': 3, 'ykgirsil': 1, 'ynvczrcmx': 1, 'young': 4, 'youtube': 1, 'yrs': 2, 'yumjeatxs': 1, 'ywvhax': 1, 'zakirism': 1, 'zaynmalik': 1, 'zbsgfnpvva': 1, 'zjzvdxrj': 1, 'zolgensma': 74, 'zorgensma': 1, 'zuvhuqbxj': 1, 'zxnsfrfue': 1}\n"
     ]
    }
   ],
   "source": [
    "print(dict(zip(word_list,count_list)))"
   ]
  },
  {
   "cell_type": "code",
   "execution_count": 15,
   "metadata": {},
   "outputs": [
    {
     "name": "stdout",
     "output_type": "stream",
     "text": [
      "LatentDirichletAllocation(learning_method='online', n_components=5, n_jobs=-1,\n",
      "                          random_state=RandomState(MT19937) at 0x25549E80468)\n"
     ]
    }
   ],
   "source": [
    "# Plotting tools\n",
    "import pyLDAvis\n",
    "import pyLDAvis.sklearn\n",
    "import matplotlib.pyplot as plt\n",
    "%matplotlib inline\n",
    "# Build LDA Model\n",
    "fixed_seed = 100\n",
    "lda_model = LatentDirichletAllocation(n_components=5,               # Number of topics\n",
    "                                      max_iter=10,               # Max learning iterations\n",
    "                                      learning_method='online',\n",
    "                                      random_state=np.random.RandomState(fixed_seed),          # Random state\n",
    "                                      batch_size=128,            # n docs in each learning iter\n",
    "                                      evaluate_every = -1,       # compute perplexity every n iters, default: Don't\n",
    "                                      n_jobs = -1,               # Use all available CPUs\n",
    "                                     )\n",
    "lda_output = lda_model.fit_transform(data_vectorized)\n",
    "\n",
    "print(lda_model)  # Model attributes"
   ]
  },
  {
   "cell_type": "code",
   "execution_count": 16,
   "metadata": {},
   "outputs": [
    {
     "data": {
      "text/html": [
       "<style  type=\"text/css\" >\n",
       "#T_fb614_row0_col0,#T_fb614_row0_col1,#T_fb614_row0_col3,#T_fb614_row0_col4,#T_fb614_row1_col0,#T_fb614_row1_col1,#T_fb614_row1_col2,#T_fb614_row1_col4,#T_fb614_row2_col0,#T_fb614_row2_col1,#T_fb614_row2_col3,#T_fb614_row2_col4,#T_fb614_row3_col0,#T_fb614_row3_col2,#T_fb614_row3_col3,#T_fb614_row4_col0,#T_fb614_row4_col1,#T_fb614_row4_col3,#T_fb614_row4_col4{\n",
       "            color:  black;\n",
       "            font-weight:  400;\n",
       "        }#T_fb614_row0_col2,#T_fb614_row0_col5,#T_fb614_row1_col3,#T_fb614_row1_col5,#T_fb614_row2_col2,#T_fb614_row2_col5,#T_fb614_row3_col1,#T_fb614_row3_col4,#T_fb614_row3_col5,#T_fb614_row4_col2,#T_fb614_row4_col5{\n",
       "            color:  green;\n",
       "            font-weight:  700;\n",
       "        }</style><table id=\"T_fb614_\" ><thead>    <tr>        <th class=\"blank level0\" ></th>        <th class=\"col_heading level0 col0\" >Topic0</th>        <th class=\"col_heading level0 col1\" >Topic1</th>        <th class=\"col_heading level0 col2\" >Topic2</th>        <th class=\"col_heading level0 col3\" >Topic3</th>        <th class=\"col_heading level0 col4\" >Topic4</th>        <th class=\"col_heading level0 col5\" >dominant_topic</th>    </tr></thead><tbody>\n",
       "                <tr>\n",
       "                        <th id=\"T_fb614_level0_row0\" class=\"row_heading level0 row0\" >Doc0</th>\n",
       "                        <td id=\"T_fb614_row0_col0\" class=\"data row0 col0\" >0.010000</td>\n",
       "                        <td id=\"T_fb614_row0_col1\" class=\"data row0 col1\" >0.010000</td>\n",
       "                        <td id=\"T_fb614_row0_col2\" class=\"data row0 col2\" >0.970000</td>\n",
       "                        <td id=\"T_fb614_row0_col3\" class=\"data row0 col3\" >0.010000</td>\n",
       "                        <td id=\"T_fb614_row0_col4\" class=\"data row0 col4\" >0.010000</td>\n",
       "                        <td id=\"T_fb614_row0_col5\" class=\"data row0 col5\" >2</td>\n",
       "            </tr>\n",
       "            <tr>\n",
       "                        <th id=\"T_fb614_level0_row1\" class=\"row_heading level0 row1\" >Doc1</th>\n",
       "                        <td id=\"T_fb614_row1_col0\" class=\"data row1 col0\" >0.020000</td>\n",
       "                        <td id=\"T_fb614_row1_col1\" class=\"data row1 col1\" >0.020000</td>\n",
       "                        <td id=\"T_fb614_row1_col2\" class=\"data row1 col2\" >0.020000</td>\n",
       "                        <td id=\"T_fb614_row1_col3\" class=\"data row1 col3\" >0.940000</td>\n",
       "                        <td id=\"T_fb614_row1_col4\" class=\"data row1 col4\" >0.020000</td>\n",
       "                        <td id=\"T_fb614_row1_col5\" class=\"data row1 col5\" >3</td>\n",
       "            </tr>\n",
       "            <tr>\n",
       "                        <th id=\"T_fb614_level0_row2\" class=\"row_heading level0 row2\" >Doc2</th>\n",
       "                        <td id=\"T_fb614_row2_col0\" class=\"data row2 col0\" >0.020000</td>\n",
       "                        <td id=\"T_fb614_row2_col1\" class=\"data row2 col1\" >0.100000</td>\n",
       "                        <td id=\"T_fb614_row2_col2\" class=\"data row2 col2\" >0.860000</td>\n",
       "                        <td id=\"T_fb614_row2_col3\" class=\"data row2 col3\" >0.020000</td>\n",
       "                        <td id=\"T_fb614_row2_col4\" class=\"data row2 col4\" >0.020000</td>\n",
       "                        <td id=\"T_fb614_row2_col5\" class=\"data row2 col5\" >2</td>\n",
       "            </tr>\n",
       "            <tr>\n",
       "                        <th id=\"T_fb614_level0_row3\" class=\"row_heading level0 row3\" >Doc3</th>\n",
       "                        <td id=\"T_fb614_row3_col0\" class=\"data row3 col0\" >0.010000</td>\n",
       "                        <td id=\"T_fb614_row3_col1\" class=\"data row3 col1\" >0.230000</td>\n",
       "                        <td id=\"T_fb614_row3_col2\" class=\"data row3 col2\" >0.010000</td>\n",
       "                        <td id=\"T_fb614_row3_col3\" class=\"data row3 col3\" >0.010000</td>\n",
       "                        <td id=\"T_fb614_row3_col4\" class=\"data row3 col4\" >0.740000</td>\n",
       "                        <td id=\"T_fb614_row3_col5\" class=\"data row3 col5\" >4</td>\n",
       "            </tr>\n",
       "            <tr>\n",
       "                        <th id=\"T_fb614_level0_row4\" class=\"row_heading level0 row4\" >Doc4</th>\n",
       "                        <td id=\"T_fb614_row4_col0\" class=\"data row4 col0\" >0.010000</td>\n",
       "                        <td id=\"T_fb614_row4_col1\" class=\"data row4 col1\" >0.010000</td>\n",
       "                        <td id=\"T_fb614_row4_col2\" class=\"data row4 col2\" >0.950000</td>\n",
       "                        <td id=\"T_fb614_row4_col3\" class=\"data row4 col3\" >0.010000</td>\n",
       "                        <td id=\"T_fb614_row4_col4\" class=\"data row4 col4\" >0.010000</td>\n",
       "                        <td id=\"T_fb614_row4_col5\" class=\"data row4 col5\" >2</td>\n",
       "            </tr>\n",
       "    </tbody></table>"
      ],
      "text/plain": [
       "<pandas.io.formats.style.Styler at 0x25549ef9a58>"
      ]
     },
     "execution_count": 16,
     "metadata": {},
     "output_type": "execute_result"
    }
   ],
   "source": [
    "# column names\n",
    "topicnames = [\"Topic\" + str(i) for i in range(lda_model.n_components)]\n",
    "\n",
    "# index names\n",
    "docnames = [\"Doc\" + str(i) for i in range(len(df.tweets))]\n",
    "\n",
    "# Make the pandas dataframe\n",
    "df_document_topic = pd.DataFrame(np.round(lda_output, 2), columns=topicnames, index=docnames)\n",
    "\n",
    "# Get dominant topic for each document\n",
    "dominant_topic = np.argmax(df_document_topic.values, axis=1)\n",
    "df_document_topic['dominant_topic'] = dominant_topic\n",
    "\n",
    "# Styling\n",
    "def color_green(val):\n",
    "    color = 'green' if val > .1 else 'black'\n",
    "    return 'color: {col}'.format(col=color)\n",
    "\n",
    "def make_bold(val):\n",
    "    weight = 700 if val > .1 else 400\n",
    "    return 'font-weight: {weight}'.format(weight=weight)\n",
    "\n",
    "# Apply Style\n",
    "df_document_topics = df_document_topic.head().style.applymap(color_green).applymap(make_bold)\n",
    "df_document_topics"
   ]
  },
  {
   "cell_type": "code",
   "execution_count": 17,
   "metadata": {},
   "outputs": [],
   "source": [
    "df_document_topic=df_document_topic.loc[:,['dominant_topic']]\n",
    "df_document_topic1= df_document_topic.reset_index()"
   ]
  },
  {
   "cell_type": "code",
   "execution_count": 18,
   "metadata": {},
   "outputs": [],
   "source": [
    "#df_document_topic1.head(10)"
   ]
  },
  {
   "cell_type": "code",
   "execution_count": 19,
   "metadata": {},
   "outputs": [
    {
     "data": {
      "text/html": [
       "<div>\n",
       "<style scoped>\n",
       "    .dataframe tbody tr th:only-of-type {\n",
       "        vertical-align: middle;\n",
       "    }\n",
       "\n",
       "    .dataframe tbody tr th {\n",
       "        vertical-align: top;\n",
       "    }\n",
       "\n",
       "    .dataframe thead th {\n",
       "        text-align: right;\n",
       "    }\n",
       "</style>\n",
       "<table border=\"1\" class=\"dataframe\">\n",
       "  <thead>\n",
       "    <tr style=\"text-align: right;\">\n",
       "      <th></th>\n",
       "      <th>Topic Num</th>\n",
       "      <th>Num Documents</th>\n",
       "    </tr>\n",
       "  </thead>\n",
       "  <tbody>\n",
       "    <tr>\n",
       "      <th>0</th>\n",
       "      <td>1</td>\n",
       "      <td>117</td>\n",
       "    </tr>\n",
       "    <tr>\n",
       "      <th>1</th>\n",
       "      <td>0</td>\n",
       "      <td>105</td>\n",
       "    </tr>\n",
       "    <tr>\n",
       "      <th>2</th>\n",
       "      <td>2</td>\n",
       "      <td>49</td>\n",
       "    </tr>\n",
       "    <tr>\n",
       "      <th>3</th>\n",
       "      <td>3</td>\n",
       "      <td>34</td>\n",
       "    </tr>\n",
       "    <tr>\n",
       "      <th>4</th>\n",
       "      <td>4</td>\n",
       "      <td>31</td>\n",
       "    </tr>\n",
       "  </tbody>\n",
       "</table>\n",
       "</div>"
      ],
      "text/plain": [
       "   Topic Num  Num Documents\n",
       "0          1            117\n",
       "1          0            105\n",
       "2          2             49\n",
       "3          3             34\n",
       "4          4             31"
      ]
     },
     "execution_count": 19,
     "metadata": {},
     "output_type": "execute_result"
    }
   ],
   "source": [
    "df_topic_distribution = df_document_topic1['dominant_topic'].value_counts().reset_index(name=\"Num Documents\")\n",
    "df_topic_distribution.columns = ['Topic Num', 'Num Documents']\n",
    "df_topic_distribution"
   ]
  },
  {
   "cell_type": "code",
   "execution_count": 20,
   "metadata": {},
   "outputs": [
    {
     "data": {
      "text/html": [
       "\n",
       "<link rel=\"stylesheet\" type=\"text/css\" href=\"https://cdn.rawgit.com/bmabey/pyLDAvis/files/ldavis.v1.0.0.css\">\n",
       "\n",
       "\n",
       "<div id=\"ldavis_el9483225653369983209090630367\"></div>\n",
       "<script type=\"text/javascript\">\n",
       "\n",
       "var ldavis_el9483225653369983209090630367_data = {\"mdsDat\": {\"x\": [150.22215270996094, 51.16336441040039, -73.1445541381836, -66.4101333618164, 54.41732406616211], \"y\": [-72.2695541381836, -159.968017578125, 21.523815155029297, -110.60643768310547, 12.44344425201416], \"topics\": [1, 2, 3, 4, 5], \"cluster\": [1, 1, 1, 1, 1], \"Freq\": [34.204771320083786, 29.241395404040166, 17.616224916451554, 10.034513886932697, 8.90309447249178]}, \"tinfo\": {\"Term\": [\"kid\", \"india\", \"degenerative\", \"shot\", \"shout\", \"condition\", \"dear\", \"year\", \"life\", \"zolgensma\", \"raise\", \"sikdxot\", \"month\", \"little\", \"old\", \"extend\", \"head\", \"hyderabad\", \"suffer\", \"amplify\", \"rainbow\", \"child\", \"noor\", \"hospital\", \"genetic\", \"treat\", \"injection\", \"type\", \"bikaner\", \"treatment\", \"raise\", \"zolgensma\", \"little\", \"head\", \"hyderabad\", \"rainbow\", \"amplify\", \"extend\", \"evn\", \"tbldsdqgk\", \"day\", \"fight\", \"hospital\", \"hand\", \"request\", \"treat\", \"kindly\", \"arrange\", \"soodfoundation\", \"drug\", \"clock\", \"tick\", \"fold\", \"raredisease\", \"fighter\", \"urgently\", \"spread\", \"dollar\", \"savecubby\", \"medicine\", \"save\", \"cost\", \"fund\", \"sonusood\", \"donate\", \"share\", \"cure\", \"crore\", \"rare\", \"old\", \"fbyisqr\", \"type\", \"month\", \"life\", \"suffer\", \"year\", \"kid\", \"degenerative\", \"shot\", \"shout\", \"dear\", \"sikdxot\", \"india\", \"wdfncbat\", \"condition\", \"cviluxu\", \"svtmumbai\", \"lil\", \"year\", \"usd\", \"vishaldadlani\", \"life\", \"jofraarcher\", \"mindykale\", \"hmesge\", \"million\", \"qjbnyaclx\", \"yiemrdae\", \"cohqxwfcya\", \"ankitmay\", \"dkqwhjkgfe\", \"ishausa\", \"yrs\", \"humsafartrust\", \"ishafoundation\", \"mnoaltrebt\", \"month\", \"mam\", \"old\", \"fbyisqr\", \"cause\", \"battle\", \"expensive\", \"donation\", \"world\", \"share\", \"noor\", \"bikaner\", \"birth\", \"medical\", \"require\", \"muscle\", \"lead\", \"loss\", \"class\", \"couldn\", \"middle\", \"infant\", \"fatima\", \"genetic\", \"lawmaker\", \"alabama\", \"injection\", \"dystrophy\", \"afford\", \"die\", \"person\", \"duchenne\", \"janish\", \"sit\", \"maybe\", \"breathing\", \"retinal\", \"wmif\", \"healthcare\", \"arm\", \"bear\", \"past\", \"disorder\", \"new\", \"suffer\", \"child\", \"treatment\", \"parent\", \"change\", \"screening\", \"rare\", \"crore\", \"month\", \"disease\", \"tweet\", \"old\", \"condition\", \"exoskeleton\", \"csic\", \"expert\", \"music\", \"telehealth\", \"relate\", \"develop\", \"automation\", \"robotic\", \"cerebral\", \"palsy\", \"center\", \"outcome\", \"meaningful\", \"result\", \"variant\", \"reduce\", \"talk\", \"present\", \"health\", \"healthy\", \"discuss\", \"great\", \"early\", \"educational\", \"faculty\", \"welander\", \"story\", \"symposium\", \"sponsor\", \"kit\", \"walk\", \"abeparvovec\", \"long\", \"benefit\", \"experience\", \"accurately\", \"identify\", \"price\", \"andamp\", \"type\", \"patient\", \"child\", \"research\", \"affect\", \"learn\", \"know\", \"new\", \"therapy\", \"live\", \"disease\", \"muhammedalisma\", \"deserve\", \"heart\", \"create\", \"muhamme\", \"butterfly\", \"post\", \"thousand\", \"ali\", \"actforsma\", \"asutcliffe\", \"utm\", \"pod\", \"medium\", \"jouli\", \"stacy\", \"pokorny\", \"advice\", \"mother\", \"book\", \"effect\", \"julie\", \"emirate\", \"crescent\", \"antisense\", \"advocate\", \"approve\", \"free\", \"therapeutic\", \"red\", \"reach\", \"therapy\", \"read\", \"girl\", \"disease\", \"young\", \"cure\", \"time\", \"gene\", \"patient\", \"type\", \"treatment\", \"share\", \"live\", \"baby\", \"diagnose\", \"just\", \"save\"], \"Freq\": [81.0, 84.0, 77.0, 77.0, 74.0, 85.0, 59.0, 103.0, 108.0, 64.0, 61.0, 40.0, 100.0, 39.0, 158.0, 33.0, 31.0, 29.0, 31.0, 29.0, 28.0, 32.0, 15.0, 29.0, 17.0, 33.0, 18.0, 30.0, 13.0, 25.0, 60.317615493211804, 63.85894447284625, 39.062332612374306, 30.42840696130441, 29.34598866889011, 27.973793223957546, 28.618310970267697, 32.345830158956154, 20.004050037958834, 17.783042381946345, 23.59784083016112, 20.157576737152365, 28.18213218967759, 8.731879527623942, 8.235776125309966, 30.91532243822752, 7.295994399798057, 6.8067912019306425, 7.754373364292942, 20.29506969215123, 6.147864650990715, 6.150477486737221, 6.152075912739339, 5.397433417778357, 5.487400119880405, 6.113637471478467, 4.932413444151194, 5.113219266980085, 4.68352825457718, 10.051733001414517, 30.5993523461484, 12.034892456732722, 11.262074270034017, 11.478621057830459, 10.040801118690748, 22.02490615264893, 14.146111418631827, 17.662831075641154, 19.579210223376098, 59.72516955664194, 16.317402623966725, 13.20869633585579, 19.555534112590767, 19.579970917530936, 12.581399764890719, 16.020764350141633, 81.0176985455448, 76.88525001617745, 76.45136025806329, 73.86363064788989, 58.83150566746408, 39.365646464521106, 82.67411075116922, 13.265817724725979, 77.13324852033418, 4.56296340459829, 3.55134133600778, 3.2628187648195484, 84.33415253366293, 13.7582185003867, 2.5986618908234975, 86.1617575545931, 2.502010185174899, 2.568603948638846, 2.5672638554420133, 2.569068501584558, 2.054760491899668, 2.0613565779118908, 2.057747641711678, 2.017223065823472, 3.938737095127858, 1.5304467095610552, 1.5308096839419407, 1.526238160035416, 1.5285548632655204, 1.5258156291331915, 66.28245129678625, 5.69097958408871, 85.84123508100434, 16.314991236226636, 3.464233106416302, 4.626363478207502, 4.098203810398242, 2.567082813655369, 2.8113902895416447, 2.6682376644075396, 14.454596064020919, 12.696041331187546, 9.288232707578903, 9.812772905167888, 10.605421225760379, 9.322056322960893, 8.820844032170655, 7.424997326845219, 6.7694957874511825, 6.771738647049076, 6.7647205545218405, 11.464567416465952, 8.66828224848476, 15.298691889661322, 3.4774878036159054, 3.4768864870699674, 15.022939643953858, 2.8705041222296277, 7.0502429506684985, 2.2478648125566947, 2.207033124056841, 2.1567550880405513, 3.0294207606079695, 2.031270797847981, 7.189541481216398, 1.5945120903676882, 1.5536963269807118, 1.55747830632494, 1.552611955235564, 1.5000237133985859, 4.988604691149917, 6.303314768516888, 2.7894804780111064, 5.52301082483757, 18.13901506003107, 16.12640504471883, 12.936571312599547, 9.981670828262216, 4.8773357617422715, 3.553393992292722, 11.02983506215281, 7.815228196733123, 14.532728023540532, 7.336364546016658, 6.010927421796502, 12.279357595583969, 7.882156396036554, 3.9270002002407733, 3.427715541215277, 2.1240256289300765, 1.9865578772915211, 1.9730274532184542, 1.9642797038693816, 1.9716984051731352, 1.969053676829715, 1.9664162885505372, 1.9651456348705632, 1.9623159724745676, 1.9620534860786047, 1.7483717046339173, 1.7454101836973008, 1.7382597462305178, 1.7079536028682623, 1.6232892707784057, 1.6001846006223621, 1.5974165051745433, 1.5920796027200677, 1.597183057946378, 1.595311581433794, 1.5923419125414047, 1.533000821259299, 1.211324016733876, 1.212547944083903, 1.2105821992503762, 1.2114433998736986, 1.2129364727132959, 1.2113827819332723, 2.779709080496049, 1.984873626919305, 1.4713366434798567, 1.4722741722765342, 1.472037293570683, 1.4699201800600565, 2.2436882052600993, 2.2408653368276217, 2.1601372707968967, 4.044748051567267, 7.515487077244985, 3.000346344234205, 6.291997113869179, 2.557055329762446, 1.9860045670511672, 2.0953536460049724, 2.4874448552258692, 2.4268223474866315, 2.588792671991406, 1.9834722995251464, 1.9069130540817294, 3.4367284649436827, 3.0472476621620617, 2.504427585314425, 2.5052718417488866, 2.4983432106556274, 2.49982846740963, 2.5041524132883564, 2.5020110064614194, 2.4989147299579493, 2.1053353306779097, 1.9975896431509887, 1.6451909123092023, 1.6477569747522063, 1.6468875695562903, 1.6338094653582778, 1.5999093587371647, 1.5892455606367415, 1.5881485507568245, 1.5741201108226657, 1.225239422688096, 2.5018475226919983, 1.186103926597426, 1.183924071971933, 1.1856332026971617, 1.2114585608741661, 1.186647003259646, 1.1819356225429385, 1.1826519078528088, 1.1808772741781333, 1.1836424225708848, 3.513272015761304, 5.967980611784127, 2.2304754812896115, 2.5219804630172264, 6.2190623557626505, 1.7757607722065483, 3.8918982760090035, 3.0040007733342096, 2.6039506876429215, 2.243271894940459, 4.320798435301481, 3.84539474604938, 3.8335124727516567, 2.5047317904275603, 2.550556748474999, 2.3306871451796267, 2.480459172925262, 1.9111340239153134], \"Total\": [81.0, 84.0, 77.0, 77.0, 74.0, 85.0, 59.0, 103.0, 108.0, 64.0, 61.0, 40.0, 100.0, 39.0, 158.0, 33.0, 31.0, 29.0, 31.0, 29.0, 28.0, 32.0, 15.0, 29.0, 17.0, 33.0, 18.0, 30.0, 13.0, 25.0, 61.114612282082135, 64.81664519822495, 39.732853163329814, 31.082996104987977, 29.996813798975065, 28.62675609207689, 29.288168252343013, 33.151528295582814, 20.646298121465662, 18.443570869355845, 24.484606464842514, 20.942130517369776, 29.282459065739946, 9.393791939863991, 8.893442836768871, 33.504639807798, 7.9392823123730745, 7.449609453132798, 8.516934760924395, 22.34103994069823, 6.788681034755158, 6.792313786599112, 6.796242568291484, 6.032020690222302, 6.133076696696567, 6.8510664354664215, 5.56870868544786, 5.77333512859697, 5.329524016115748, 11.47356935257795, 37.267496454329105, 14.179177713170752, 13.272063939566607, 13.624256322545929, 11.911425037443731, 28.90132241957056, 19.356115711704575, 25.963988845966785, 32.44492079416217, 158.84071252742422, 33.16719568565295, 30.407049531826015, 100.68258791862098, 108.14819323481001, 31.818198709009184, 103.63618275297685, 81.7651178883412, 77.61017142327042, 77.17572169504918, 74.64741122367599, 59.5614783791499, 40.02869291110164, 84.91711524931961, 13.950960023272563, 85.500800102694, 5.275068873814922, 4.209032603486084, 3.9679699980660925, 103.63618275297685, 17.15133682267112, 3.2532250321951586, 108.14819323481001, 3.1573052250528826, 3.2509077876898282, 3.3388695991943282, 3.350932494323582, 2.703492041559438, 2.7146462465315744, 2.713706151608105, 2.6738697324031304, 5.259104656018815, 2.1762774145587667, 2.1815444542917444, 2.177131645944817, 2.181134254131118, 2.177587391650913, 100.68258791862098, 8.26893745536581, 158.84071252742422, 33.16719568565295, 6.423261887473699, 13.764467200840881, 12.012939767964296, 4.875897460501386, 14.880551089805566, 28.90132241957056, 15.213923596424317, 13.386084533381915, 9.949820899674602, 10.515519542179963, 11.36591902216645, 9.993666824455453, 9.479017010768874, 8.067696610562987, 7.407612120109109, 7.410733161312809, 7.409871338598073, 12.579624402676844, 9.946793231950657, 17.772725367962863, 4.1186354330006, 4.12110260218335, 18.1042066757644, 3.510883853143687, 8.790274931367358, 2.902315922972819, 2.8546306181289562, 2.797477460921717, 3.9863733332738107, 2.7084335631416283, 10.015121251878911, 2.2489033631191475, 2.1976749842011167, 2.205188351928387, 2.2018541284892925, 2.1391454238028564, 7.2082711989049555, 9.660711649683254, 4.082412095648403, 8.692623043902005, 31.818198709009184, 32.499769953437216, 25.38224331189227, 19.18652009266849, 8.618092847788022, 5.589942805234751, 32.44492079416217, 25.963988845966785, 100.68258791862098, 25.75805555832143, 16.299129771251458, 158.84071252742422, 85.500800102694, 4.62755807218116, 4.131716670272209, 2.828917322984981, 2.681274327726581, 2.6773864800179945, 2.6674145557624325, 2.6813710373651363, 2.6810743625566245, 2.6790845997719024, 2.684000514647499, 2.683522662463929, 2.68565120430783, 2.436888372038771, 2.4357637557318332, 2.4325372519264725, 2.3943100619395867, 2.3193035679540213, 2.287667073807103, 2.2851318010801993, 2.281186214831099, 2.2899310810758218, 2.2881404733955617, 2.293649233553158, 2.265903760759031, 1.8930971553119285, 1.9021763351606467, 1.899451275354612, 1.9020534435267629, 1.9055604535800492, 1.9037393243712284, 4.51246439570394, 3.2185511621874126, 2.3553090846517657, 2.363073764910391, 2.3629456913229916, 2.3611104285325286, 3.9732270369473444, 3.9720775204175376, 4.024526294452484, 9.72531666186973, 30.407049531826015, 7.112807075829153, 32.499769953437216, 6.224281448368905, 4.045393270168879, 4.683341526778604, 8.881074355309298, 8.692623043902005, 11.82332590131972, 9.609057091467491, 25.75805555832143, 4.134989992746598, 3.736516248707395, 3.1872179740596494, 3.193809912165201, 3.191274728290902, 3.194347986418538, 3.2016236000203255, 3.1994207288040037, 3.1977796992937306, 2.8058674398033165, 2.6864359737624808, 2.3294656692928, 2.333970650615973, 2.339638980648413, 2.342995050708375, 2.3004406567138393, 2.308533631951767, 2.309462096946842, 2.3190153791077295, 1.91034711493536, 3.913650301686583, 1.8684688389563515, 1.8680967283936096, 1.870969191582266, 1.9134867995154305, 1.8768617882660872, 1.87092784227938, 1.8731945253204751, 1.8730928589464992, 1.8792502276356635, 6.135712276816125, 11.82332590131972, 3.9896740077264385, 5.279974697860588, 25.75805555832143, 3.5966066482589563, 19.356115711704575, 12.193225701332612, 9.587207650423291, 7.112807075829153, 30.407049531826015, 25.38224331189227, 28.90132241957056, 9.609057091467491, 13.080487980102076, 9.484330485293853, 13.078490694743932, 37.267496454329105], \"Category\": [\"Default\", \"Default\", \"Default\", \"Default\", \"Default\", \"Default\", \"Default\", \"Default\", \"Default\", \"Default\", \"Default\", \"Default\", \"Default\", \"Default\", \"Default\", \"Default\", \"Default\", \"Default\", \"Default\", \"Default\", \"Default\", \"Default\", \"Default\", \"Default\", \"Default\", \"Default\", \"Default\", \"Default\", \"Default\", \"Default\", \"Topic1\", \"Topic1\", \"Topic1\", \"Topic1\", \"Topic1\", \"Topic1\", \"Topic1\", \"Topic1\", \"Topic1\", \"Topic1\", \"Topic1\", \"Topic1\", \"Topic1\", \"Topic1\", \"Topic1\", \"Topic1\", \"Topic1\", \"Topic1\", \"Topic1\", \"Topic1\", \"Topic1\", \"Topic1\", \"Topic1\", \"Topic1\", \"Topic1\", \"Topic1\", \"Topic1\", \"Topic1\", \"Topic1\", \"Topic1\", \"Topic1\", \"Topic1\", \"Topic1\", \"Topic1\", \"Topic1\", \"Topic1\", \"Topic1\", \"Topic1\", \"Topic1\", \"Topic1\", \"Topic1\", \"Topic1\", \"Topic1\", \"Topic1\", \"Topic1\", \"Topic1\", \"Topic2\", \"Topic2\", \"Topic2\", \"Topic2\", \"Topic2\", \"Topic2\", \"Topic2\", \"Topic2\", \"Topic2\", \"Topic2\", \"Topic2\", \"Topic2\", \"Topic2\", \"Topic2\", \"Topic2\", \"Topic2\", \"Topic2\", \"Topic2\", \"Topic2\", \"Topic2\", \"Topic2\", \"Topic2\", \"Topic2\", \"Topic2\", \"Topic2\", \"Topic2\", \"Topic2\", \"Topic2\", \"Topic2\", \"Topic2\", \"Topic2\", \"Topic2\", \"Topic2\", \"Topic2\", \"Topic2\", \"Topic2\", \"Topic2\", \"Topic2\", \"Topic2\", \"Topic2\", \"Topic3\", \"Topic3\", \"Topic3\", \"Topic3\", \"Topic3\", \"Topic3\", \"Topic3\", \"Topic3\", \"Topic3\", \"Topic3\", \"Topic3\", \"Topic3\", \"Topic3\", \"Topic3\", \"Topic3\", \"Topic3\", \"Topic3\", \"Topic3\", \"Topic3\", \"Topic3\", \"Topic3\", \"Topic3\", \"Topic3\", \"Topic3\", \"Topic3\", \"Topic3\", \"Topic3\", \"Topic3\", \"Topic3\", \"Topic3\", \"Topic3\", \"Topic3\", \"Topic3\", \"Topic3\", \"Topic3\", \"Topic3\", \"Topic3\", \"Topic3\", \"Topic3\", \"Topic3\", \"Topic3\", \"Topic3\", \"Topic3\", \"Topic3\", \"Topic3\", \"Topic3\", \"Topic3\", \"Topic4\", \"Topic4\", \"Topic4\", \"Topic4\", \"Topic4\", \"Topic4\", \"Topic4\", \"Topic4\", \"Topic4\", \"Topic4\", \"Topic4\", \"Topic4\", \"Topic4\", \"Topic4\", \"Topic4\", \"Topic4\", \"Topic4\", \"Topic4\", \"Topic4\", \"Topic4\", \"Topic4\", \"Topic4\", \"Topic4\", \"Topic4\", \"Topic4\", \"Topic4\", \"Topic4\", \"Topic4\", \"Topic4\", \"Topic4\", \"Topic4\", \"Topic4\", \"Topic4\", \"Topic4\", \"Topic4\", \"Topic4\", \"Topic4\", \"Topic4\", \"Topic4\", \"Topic4\", \"Topic4\", \"Topic4\", \"Topic4\", \"Topic4\", \"Topic4\", \"Topic4\", \"Topic4\", \"Topic4\", \"Topic4\", \"Topic4\", \"Topic4\", \"Topic5\", \"Topic5\", \"Topic5\", \"Topic5\", \"Topic5\", \"Topic5\", \"Topic5\", \"Topic5\", \"Topic5\", \"Topic5\", \"Topic5\", \"Topic5\", \"Topic5\", \"Topic5\", \"Topic5\", \"Topic5\", \"Topic5\", \"Topic5\", \"Topic5\", \"Topic5\", \"Topic5\", \"Topic5\", \"Topic5\", \"Topic5\", \"Topic5\", \"Topic5\", \"Topic5\", \"Topic5\", \"Topic5\", \"Topic5\", \"Topic5\", \"Topic5\", \"Topic5\", \"Topic5\", \"Topic5\", \"Topic5\", \"Topic5\", \"Topic5\", \"Topic5\", \"Topic5\", \"Topic5\", \"Topic5\", \"Topic5\", \"Topic5\", \"Topic5\", \"Topic5\", \"Topic5\", \"Topic5\"], \"logprob\": [30.0, 29.0, 28.0, 27.0, 26.0, 25.0, 24.0, 23.0, 22.0, 21.0, 20.0, 19.0, 18.0, 17.0, 16.0, 15.0, 14.0, 13.0, 12.0, 11.0, 10.0, 9.0, 8.0, 7.0, 6.0, 5.0, 4.0, 3.0, 2.0, 1.0, -3.341, -3.2839, -3.7754, -4.0252, -4.0614, -4.1093, -4.0865, -3.9641, -4.4446, -4.5623, -4.2794, -4.437, -4.1019, -5.2736, -5.3321, -4.0093, -5.4533, -5.5227, -5.3923, -4.4302, -5.6245, -5.6241, -5.6238, -5.7547, -5.7381, -5.6301, -5.8448, -5.8088, -5.8965, -5.1328, -4.0196, -4.9528, -5.0191, -5.0001, -5.1339, -4.3484, -4.7911, -4.5691, -4.4661, -3.3508, -4.6483, -4.8597, -4.4673, -4.4661, -4.9084, -4.6667, -2.8891, -2.9415, -2.9471, -2.9816, -3.2091, -3.6109, -2.8689, -4.6986, -2.9383, -5.7658, -6.0165, -6.1012, -2.849, -4.6622, -6.3288, -2.8276, -6.3667, -6.3404, -6.341, -6.3403, -6.5636, -6.5604, -6.5622, -6.5821, -5.9129, -6.8582, -6.858, -6.861, -6.8595, -6.8613, -3.0899, -5.5449, -2.8313, -4.4917, -6.0413, -5.752, -5.8733, -6.341, -6.2501, -6.3024, -4.106, -4.2357, -4.5483, -4.4934, -4.4157, -4.5447, -4.5999, -4.7722, -4.8646, -4.8643, -4.8653, -4.3378, -4.6174, -4.0493, -5.5307, -5.5309, -4.0675, -5.7225, -4.824, -5.9671, -5.9854, -6.0084, -5.6687, -6.0684, -4.8044, -6.3105, -6.3364, -6.334, -6.3371, -6.3716, -5.1699, -4.936, -5.7512, -5.0681, -3.879, -3.9966, -4.217, -4.4763, -5.1924, -5.5091, -4.3764, -4.721, -4.1006, -4.7842, -4.9835, -4.2691, -4.7124, -4.8464, -4.9824, -5.4609, -5.5278, -5.5347, -5.5391, -5.5354, -5.5367, -5.538, -5.5387, -5.5401, -5.5403, -5.6556, -5.6573, -5.6614, -5.679, -5.7298, -5.7441, -5.7459, -5.7492, -5.746, -5.7472, -5.749, -5.787, -6.0225, -6.0215, -6.0231, -6.0224, -6.0212, -6.0225, -5.1919, -5.5287, -5.8281, -5.8274, -5.8276, -5.829, -5.4061, -5.4074, -5.4441, -4.8168, -4.1973, -5.1155, -4.375, -5.2754, -5.5281, -5.4745, -5.303, -5.3277, -5.2631, -5.5294, -5.5688, -4.8601, -4.9804, -5.1766, -5.1762, -5.179, -5.1784, -5.1767, -5.1775, -5.1788, -5.3501, -5.4027, -5.5968, -5.5952, -5.5957, -5.6037, -5.6247, -5.6314, -5.632, -5.6409, -5.8915, -5.1776, -5.9239, -5.9258, -5.9243, -5.9028, -5.9235, -5.9275, -5.9269, -5.9284, -5.926, -4.8381, -4.3082, -5.2924, -5.1696, -4.267, -5.5204, -4.7357, -4.9947, -5.1376, -5.2867, -4.6312, -4.7477, -4.7508, -5.1764, -5.1583, -5.2485, -5.1862, -5.4469], \"loglift\": [30.0, 29.0, 28.0, 27.0, 26.0, 25.0, 24.0, 23.0, 22.0, 21.0, 20.0, 19.0, 18.0, 17.0, 16.0, 15.0, 14.0, 13.0, 12.0, 11.0, 10.0, 9.0, 8.0, 7.0, 6.0, 5.0, 4.0, 3.0, 2.0, 1.0, 1.0597, 1.0579, 1.0558, 1.0515, 1.0509, 1.0497, 1.0497, 1.0482, 1.0412, 1.0363, 1.0359, 1.0346, 1.0345, 0.9997, 0.996, 0.9924, 0.9883, 0.9826, 0.979, 0.9768, 0.9737, 0.9735, 0.9732, 0.9616, 0.9616, 0.9589, 0.9515, 0.9514, 0.9436, 0.9405, 0.8757, 0.9088, 0.9086, 0.9014, 0.902, 0.8011, 0.7592, 0.6876, 0.5677, 0.0947, 0.3635, 0.239, -0.5659, -0.6362, 0.145, -0.7942, 1.2204, 1.2202, 1.2202, 1.219, 1.2173, 1.2129, 1.2028, 1.1792, 1.1266, 1.0846, 1.0597, 1.0339, 1.0235, 1.0091, 1.0049, 1.0023, 0.997, 0.994, 0.9668, 0.9639, 0.9552, 0.9543, 0.9529, 0.9478, 0.9405, 0.8775, 0.8753, 0.8744, 0.8741, 0.8739, 0.8115, 0.856, 0.6142, 0.5201, 0.6122, 0.1393, 0.1541, 0.5881, -0.4368, -1.1529, 1.6852, 1.6834, 1.6675, 1.6672, 1.6671, 1.6668, 1.6644, 1.6533, 1.6463, 1.6462, 1.6453, 1.6435, 1.5988, 1.5865, 1.5671, 1.5664, 1.5498, 1.535, 1.5158, 1.4808, 1.4791, 1.4762, 1.4618, 1.4486, 1.4049, 1.3925, 1.3896, 1.3886, 1.387, 1.3814, 1.3683, 1.3094, 1.3555, 1.2828, 1.1744, 1.0356, 1.0624, 1.0829, 1.1671, 1.2833, 0.6574, 0.5357, -0.1992, 0.4804, 0.7388, -0.8236, -0.6476, 2.135, 2.1123, 2.0126, 1.9993, 1.9939, 1.9932, 1.9917, 1.9905, 1.9899, 1.9874, 1.9861, 1.9852, 1.9671, 1.9659, 1.9631, 1.9613, 1.9423, 1.9417, 1.9411, 1.9395, 1.9389, 1.9385, 1.9342, 1.9084, 1.8526, 1.8489, 1.8487, 1.848, 1.8474, 1.8471, 1.8146, 1.8158, 1.8286, 1.826, 1.8259, 1.8252, 1.7277, 1.7267, 1.6769, 1.4218, 0.9014, 1.436, 0.6572, 1.4095, 1.5877, 1.4949, 1.0265, 1.0232, 0.7803, 0.7213, -0.3041, 2.2338, 2.2149, 2.1777, 2.176, 2.174, 2.1736, 2.1731, 2.1729, 2.1722, 2.1315, 2.1225, 2.071, 2.0706, 2.0677, 2.0583, 2.0556, 2.0454, 2.0443, 2.0313, 1.9746, 1.9713, 1.9643, 1.9627, 1.9626, 1.9617, 1.9603, 1.9595, 1.9589, 1.9574, 1.9565, 1.8612, 1.7351, 1.8373, 1.6799, 0.9976, 1.713, 0.8147, 1.0178, 1.1154, 1.2648, 0.4675, 0.5316, 0.3987, 1.0742, 0.784, 1.0153, 0.7562, -0.5517]}, \"token.table\": {\"Topic\": [4, 4, 5, 5, 5, 5, 1, 3, 4, 1, 3, 3, 5, 1, 1, 2, 4, 2, 5, 5, 3, 1, 5, 4, 1, 3, 4, 5, 1, 2, 1, 3, 5, 4, 3, 3, 5, 3, 5, 1, 2, 3, 4, 4, 3, 4, 5, 1, 3, 4, 3, 1, 2, 2, 3, 1, 2, 3, 5, 5, 1, 3, 4, 1, 3, 5, 2, 1, 2, 2, 5, 4, 1, 3, 5, 3, 4, 1, 3, 4, 5, 1, 3, 1, 2, 1, 1, 2, 1, 2, 1, 4, 3, 3, 4, 4, 1, 5, 5, 1, 4, 1, 2, 5, 4, 4, 1, 4, 1, 3, 1, 2, 1, 1, 1, 5, 1, 3, 1, 2, 3, 4, 5, 1, 3, 5, 3, 5, 4, 1, 1, 4, 3, 4, 5, 2, 1, 3, 2, 1, 4, 5, 2, 3, 1, 3, 1, 2, 3, 5, 2, 2, 3, 2, 5, 5, 1, 3, 5, 2, 1, 4, 5, 1, 3, 4, 5, 3, 3, 3, 4, 5, 1, 2, 3, 4, 2, 1, 1, 3, 4, 5, 4, 3, 1, 2, 4, 1, 3, 4, 3, 1, 3, 5, 3, 2, 2, 2, 1, 2, 3, 5, 5, 5, 3, 4, 3, 4, 3, 1, 2, 3, 5, 4, 4, 1, 3, 4, 1, 3, 5, 1, 3, 4, 5, 3, 5, 5, 5, 4, 2, 4, 2, 1, 1, 1, 2, 3, 1, 1, 5, 4, 5, 5, 4, 4, 1, 3, 1, 4, 5, 4, 3, 4, 1, 2, 3, 4, 5, 1, 3, 4, 1, 2, 5, 2, 2, 2, 3, 1, 3, 5, 1, 4, 1, 5, 4, 1, 3, 5, 2, 4, 4, 1, 4, 5, 1, 2, 3, 4, 5, 5, 1, 1, 2, 5, 1, 4, 5, 1, 3, 5, 1, 3, 1, 3, 4, 5, 1, 1, 2, 5, 4, 2, 4, 5, 2, 4, 3, 1, 2, 3, 4, 5, 1, 2, 3, 2, 3, 5, 2, 1], \"Freq\": [0.42457272657607514, 0.5033691710546229, 0.25168458552731143, 0.7127920484155853, 0.8660025218184106, 0.5328042833264969, 0.2471947554207144, 0.2471947554207144, 0.4943895108414288, 0.11376208455455517, 0.7963345918818862, 0.7279605216357893, 0.6254339535777668, 0.990160932911195, 0.41129766146154306, 0.20564883073077153, 0.41129766146154306, 0.7479795951774013, 0.5226061660071232, 0.5344941570711165, 0.9349527983209803, 0.9396465739631864, 0.7444807989221889, 0.7459696112616719, 0.5351482307577775, 0.15289949450222212, 0.07644974725111106, 0.2293492417533332, 0.6538574918068883, 0.363254162114938, 0.13872951952084087, 0.6936475976042044, 0.13872951952084087, 0.4232005854692789, 0.971157769666021, 0.9045388947950144, 0.523465077200819, 0.8893223394117178, 0.6261058621363211, 0.3113682790826718, 0.4670524186240077, 0.1556841395413359, 0.7446983423580716, 0.7451563399803105, 0.5801747658454776, 0.232069906338191, 0.232069906338191, 0.2769250370970133, 0.492311177061357, 0.18461669139800888, 0.944973884498814, 0.8838241138864167, 0.7369994716689674, 0.9005763677944091, 0.0935663758747438, 0.8463114182463093, 0.14105190304105156, 0.9445759073532681, 0.9393170171377513, 0.534482344497777, 0.6932678991192872, 0.3081190662752388, 0.726090446033017, 0.72328561207837, 0.051663258005597866, 0.20665303202239146, 0.9478549227707064, 0.9802077086459052, 0.9905731289009366, 0.9921379967073818, 0.8028869139904893, 0.7458870749813539, 0.31631120453380646, 0.421748272711742, 0.210874136355871, 0.6891048573207758, 0.8740722098377264, 0.3882280623767576, 0.2717596436637303, 0.07764561247535152, 0.23293683742605456, 0.2449532228914219, 0.7348596686742658, 0.19014643468932374, 0.760585738757295, 0.8660505390088268, 0.8395301123555629, 0.08395301123555629, 0.4101808982247016, 0.6152713473370525, 0.8952134749809204, 0.04476067374904602, 0.7149297994133033, 0.8544856866494642, 0.8826500201094336, 0.528234907117183, 0.2555159308865821, 0.7665477926597463, 0.5353041867697651, 0.9686966584681002, 0.8643867754023957, 0.5827049943817553, 0.3329742825038602, 0.08324357062596505, 0.42352953420375067, 0.7069842528623868, 0.9652646995542511, 0.5257136163012699, 0.10053491378385583, 0.9048142240547025, 0.48240436579692747, 0.48240436579692747, 0.9550126709129065, 0.815251503815879, 0.8828407667486105, 0.5338473855665978, 0.8288085447815586, 0.15069246268755612, 0.2086113155076699, 0.10430565775383495, 0.2086113155076699, 0.10430565775383495, 0.31291697326150486, 0.05626599068495152, 0.8439898602742728, 0.05626599068495152, 0.3787896939753115, 0.5681845409629672, 0.8719729114384864, 0.9580795548395239, 0.9651579242448193, 0.8767368428745663, 0.9083253854660271, 0.873388730572795, 0.9412597520522938, 0.8985076867703675, 0.9562038467172177, 0.034150137382757774, 0.9186399011402241, 0.9667693440491628, 0.5035148457499802, 0.2517574228749901, 0.9774236884556089, 0.02355237803507491, 0.07949362937952328, 0.8744299231747561, 0.055235781269481, 0.055235781269481, 0.8285367190422149, 0.055235781269481, 0.9169541013864481, 0.919000485241673, 0.7525637337976694, 0.9501773779092746, 0.8536082905490241, 0.5351975795103749, 0.6116913783648668, 0.1529228445912167, 0.1529228445912167, 0.9906424902439932, 0.8816917858042108, 0.6648251901679554, 0.22160839672265178, 0.2251979794318867, 0.3377969691478301, 0.2251979794318867, 0.11259898971594336, 0.7283965888222287, 0.9494655394937391, 0.4270455162332956, 0.4270455162332956, 0.2135227581166478, 0.1849314297519169, 0.7952051479332426, 0.009246571487595844, 0.01849314297519169, 0.7560541036001126, 0.9815554860780504, 0.10406848356515284, 0.4162739342606114, 0.2081369671303057, 0.3122054506954585, 0.42317764889490045, 0.8676578133633511, 0.24186904433557865, 0.725607133006736, 0.12093452216778933, 0.19969803157648092, 0.6989431105176832, 0.8210976927846985, 0.9509753616916307, 0.8715683579106218, 0.08715683579106218, 0.8548327398125822, 0.9446857685013975, 0.895273182936972, 0.9228191618845857, 0.9184476396530395, 0.1986440795121939, 0.6555254623902399, 0.14898305963414543, 0.8624349877185917, 0.6267088139638504, 0.7255156615281916, 0.9005703470097827, 0.7459139780358748, 0.6902404452254585, 0.23008014840848617, 0.9202096954982986, 0.37773691042616586, 0.541422904944171, 0.07554738208523316, 0.00629561517376943, 0.8207187587861245, 0.7452890292208901, 0.4169594049030778, 0.5211992561288473, 0.05211992561288473, 0.20702408606363631, 0.6210722581909089, 0.10351204303181816, 0.14059146963204092, 0.14059146963204092, 0.4217744088961227, 0.28118293926408183, 0.7006160402325129, 0.8569088045182434, 0.8663508178172328, 0.9370245771492172, 0.8752230392376426, 0.24847644836571872, 0.49695289673143744, 0.7397839421218909, 0.9781059338312399, 0.9817619348227637, 0.6164293057420134, 0.06164293057420133, 0.33903611815810736, 0.8289096236199635, 0.3259605258149128, 0.6519210516298256, 0.25064704486215944, 0.5012940897243189, 0.5321271139384814, 0.8623278244530552, 0.7497897151679657, 0.8995391488799996, 0.9678055930670618, 0.3213222307812104, 0.48198334617181565, 0.1606611153906052, 0.822186792171869, 0.9100526758405205, 0.7465236447442832, 0.8318240544542655, 0.026833034014653725, 0.08049910204396117, 0.026833034014653725, 0.05366606802930745, 0.9381700851484461, 0.7155708277111825, 0.35778541385559126, 0.7612108429025614, 0.10380147857762201, 0.13840197143682934, 0.9847656533787283, 0.9913270773485223, 0.9743011116204511, 0.7384342105405437, 0.8073835180124136, 0.07339850163749215, 0.07339850163749215, 0.9393050697891822, 0.5252820001132679, 0.8978742258624501, 0.869398649412232, 0.5257475826472116, 0.4085712116795319, 0.5657139854024288, 0.031428554744579375, 0.9503371384405636, 0.52477999221765, 0.874253086429936, 0.9759498378867163, 0.7469971238468934, 0.5338763613473169, 0.08457857022180028, 0.08457857022180028, 0.08457857022180028, 0.25373571066540085, 0.5074714213308017, 0.9376697390847528, 0.883351415807334, 0.574089266569958, 0.16402550473427369, 0.24603825710141056, 0.9252449863014178, 0.02984661246133606, 0.02984661246133606, 0.31518096732812356, 0.5121690719082007, 0.15759048366406178, 0.6135296878019884, 0.368117812681193, 0.4275324373840792, 0.16443555284003045, 0.2630968845440487, 0.13154844227202436, 0.8757760644298174, 0.17491347939914023, 0.8162629038626544, 0.8585659906321683, 0.8353137013423553, 0.922161845648811, 0.6213976100478537, 0.3106988050239268, 0.9318355137075728, 0.5264678346715201, 0.9069520062769448, 0.5376144977238562, 0.20160543664644606, 0.13440362443096404, 0.13440362443096404, 0.06720181221548202, 0.15438623437276702, 0.8105277304570269, 0.02894741894489382, 0.7367442452420246, 0.2780398575095999, 0.5560797150191998, 0.9167816846754635, 0.9874006870345194], \"Term\": [\"abeparvovec\", \"accurately\", \"accurately\", \"actforsma\", \"advice\", \"advocate\", \"affect\", \"affect\", \"affect\", \"afford\", \"afford\", \"alabama\", \"ali\", \"amplify\", \"andamp\", \"andamp\", \"andamp\", \"ankitmay\", \"antisense\", \"approve\", \"arm\", \"arrange\", \"asutcliffe\", \"automation\", \"baby\", \"baby\", \"baby\", \"baby\", \"battle\", \"battle\", \"bear\", \"bear\", \"bear\", \"benefit\", \"bikaner\", \"birth\", \"book\", \"breathing\", \"butterfly\", \"cause\", \"cause\", \"cause\", \"center\", \"cerebral\", \"change\", \"change\", \"change\", \"child\", \"child\", \"child\", \"class\", \"clock\", \"cohqxwfcya\", \"condition\", \"condition\", \"cost\", \"cost\", \"couldn\", \"create\", \"crescent\", \"crore\", \"crore\", \"csic\", \"cure\", \"cure\", \"cure\", \"cviluxu\", \"day\", \"dear\", \"degenerative\", \"deserve\", \"develop\", \"diagnose\", \"diagnose\", \"diagnose\", \"die\", \"discuss\", \"disease\", \"disease\", \"disease\", \"disease\", \"disorder\", \"disorder\", \"dkqwhjkgfe\", \"dkqwhjkgfe\", \"dollar\", \"donate\", \"donate\", \"donation\", \"donation\", \"drug\", \"drug\", \"duchenne\", \"dystrophy\", \"early\", \"educational\", \"effect\", \"effect\", \"emirate\", \"evn\", \"exoskeleton\", \"expensive\", \"expensive\", \"expensive\", \"experience\", \"expert\", \"extend\", \"faculty\", \"fatima\", \"fatima\", \"fbyisqr\", \"fbyisqr\", \"fight\", \"fighter\", \"fold\", \"free\", \"fund\", \"fund\", \"gene\", \"gene\", \"gene\", \"gene\", \"gene\", \"genetic\", \"genetic\", \"genetic\", \"girl\", \"girl\", \"great\", \"hand\", \"head\", \"health\", \"healthcare\", \"healthy\", \"heart\", \"hmesge\", \"hospital\", \"hospital\", \"humsafartrust\", \"hyderabad\", \"identify\", \"identify\", \"india\", \"india\", \"infant\", \"infant\", \"injection\", \"injection\", \"injection\", \"injection\", \"ishafoundation\", \"ishausa\", \"janish\", \"jofraarcher\", \"jouli\", \"julie\", \"just\", \"just\", \"just\", \"kid\", \"kindly\", \"kit\", \"kit\", \"know\", \"know\", \"know\", \"know\", \"lawmaker\", \"lead\", \"learn\", \"learn\", \"learn\", \"life\", \"life\", \"life\", \"life\", \"lil\", \"little\", \"live\", \"live\", \"live\", \"live\", \"long\", \"loss\", \"mam\", \"mam\", \"mam\", \"maybe\", \"maybe\", \"meaningful\", \"medical\", \"medicine\", \"medicine\", \"medium\", \"middle\", \"million\", \"mindykale\", \"mnoaltrebt\", \"month\", \"month\", \"month\", \"mother\", \"muhamme\", \"muhammedalisma\", \"muscle\", \"music\", \"new\", \"new\", \"noor\", \"old\", \"old\", \"old\", \"old\", \"outcome\", \"palsy\", \"parent\", \"parent\", \"parent\", \"past\", \"past\", \"past\", \"patient\", \"patient\", \"patient\", \"patient\", \"person\", \"pod\", \"pokorny\", \"post\", \"present\", \"price\", \"price\", \"qjbnyaclx\", \"rainbow\", \"raise\", \"rare\", \"rare\", \"rare\", \"raredisease\", \"reach\", \"reach\", \"read\", \"read\", \"red\", \"reduce\", \"relate\", \"request\", \"require\", \"research\", \"research\", \"research\", \"result\", \"retinal\", \"robotic\", \"save\", \"save\", \"save\", \"save\", \"save\", \"savecubby\", \"screening\", \"screening\", \"share\", \"share\", \"share\", \"shot\", \"shout\", \"sikdxot\", \"sit\", \"sonusood\", \"sonusood\", \"sonusood\", \"soodfoundation\", \"sponsor\", \"spread\", \"stacy\", \"story\", \"suffer\", \"suffer\", \"suffer\", \"svtmumbai\", \"symposium\", \"talk\", \"tbldsdqgk\", \"telehealth\", \"therapeutic\", \"therapy\", \"therapy\", \"therapy\", \"therapy\", \"therapy\", \"thousand\", \"tick\", \"time\", \"time\", \"time\", \"treat\", \"treat\", \"treat\", \"treatment\", \"treatment\", \"treatment\", \"tweet\", \"tweet\", \"type\", \"type\", \"type\", \"type\", \"urgently\", \"usd\", \"usd\", \"utm\", \"variant\", \"vishaldadlani\", \"walk\", \"walk\", \"wdfncbat\", \"welander\", \"wmif\", \"world\", \"world\", \"world\", \"world\", \"world\", \"year\", \"year\", \"year\", \"yiemrdae\", \"young\", \"young\", \"yrs\", \"zolgensma\"]}, \"R\": 30, \"lambda.step\": 0.01, \"plot.opts\": {\"xlab\": \"PC1\", \"ylab\": \"PC2\"}, \"topic.order\": [2, 1, 3, 4, 5]};\n",
       "\n",
       "function LDAvis_load_lib(url, callback){\n",
       "  var s = document.createElement('script');\n",
       "  s.src = url;\n",
       "  s.async = true;\n",
       "  s.onreadystatechange = s.onload = callback;\n",
       "  s.onerror = function(){console.warn(\"failed to load library \" + url);};\n",
       "  document.getElementsByTagName(\"head\")[0].appendChild(s);\n",
       "}\n",
       "\n",
       "if(typeof(LDAvis) !== \"undefined\"){\n",
       "   // already loaded: just create the visualization\n",
       "   !function(LDAvis){\n",
       "       new LDAvis(\"#\" + \"ldavis_el9483225653369983209090630367\", ldavis_el9483225653369983209090630367_data);\n",
       "   }(LDAvis);\n",
       "}else if(typeof define === \"function\" && define.amd){\n",
       "   // require.js is available: use it to load d3/LDAvis\n",
       "   require.config({paths: {d3: \"https://cdnjs.cloudflare.com/ajax/libs/d3/3.5.5/d3.min\"}});\n",
       "   require([\"d3\"], function(d3){\n",
       "      window.d3 = d3;\n",
       "      LDAvis_load_lib(\"https://cdn.rawgit.com/bmabey/pyLDAvis/files/ldavis.v1.0.0.js\", function(){\n",
       "        new LDAvis(\"#\" + \"ldavis_el9483225653369983209090630367\", ldavis_el9483225653369983209090630367_data);\n",
       "      });\n",
       "    });\n",
       "}else{\n",
       "    // require.js not available: dynamically load d3 & LDAvis\n",
       "    LDAvis_load_lib(\"https://cdnjs.cloudflare.com/ajax/libs/d3/3.5.5/d3.min.js\", function(){\n",
       "         LDAvis_load_lib(\"https://cdn.rawgit.com/bmabey/pyLDAvis/files/ldavis.v1.0.0.js\", function(){\n",
       "                 new LDAvis(\"#\" + \"ldavis_el9483225653369983209090630367\", ldavis_el9483225653369983209090630367_data);\n",
       "            })\n",
       "         });\n",
       "}\n",
       "</script>"
      ],
      "text/plain": [
       "PreparedData(topic_coordinates=                x           y  topics  cluster       Freq\n",
       "topic                                                    \n",
       "1      150.222153  -72.269554       1        1  34.204771\n",
       "0       51.163364 -159.968018       2        1  29.241395\n",
       "2      -73.144554   21.523815       3        1  17.616225\n",
       "3      -66.410133 -110.606438       4        1  10.034514\n",
       "4       54.417324   12.443444       5        1   8.903094, topic_info=              Term       Freq      Total Category  logprob  loglift\n",
       "636            kid  81.000000  81.000000  Default  30.0000  30.0000\n",
       "562          india  84.000000  84.000000  Default  29.0000  29.0000\n",
       "297   degenerative  77.000000  77.000000  Default  28.0000  28.0000\n",
       "1092          shot  77.000000  77.000000  Default  27.0000  27.0000\n",
       "1093         shout  74.000000  74.000000  Default  26.0000  26.0000\n",
       "...            ...        ...        ...      ...      ...      ...\n",
       "681           live   2.504732   9.609057   Topic5  -5.1764   1.0742\n",
       "117           baby   2.550557  13.080488   Topic5  -5.1583   0.7840\n",
       "312       diagnose   2.330687   9.484330   Topic5  -5.2485   1.0153\n",
       "614           just   2.480459  13.078491   Topic5  -5.1862   0.7562\n",
       "1059          save   1.911134  37.267496   Topic5  -5.4469  -0.5517\n",
       "\n",
       "[262 rows x 6 columns], token_table=      Topic      Freq         Term\n",
       "term                              \n",
       "6         4  0.424573  abeparvovec\n",
       "15        4  0.503369   accurately\n",
       "15        5  0.251685   accurately\n",
       "18        5  0.712792    actforsma\n",
       "32        5  0.866003       advice\n",
       "...     ...       ...          ...\n",
       "1405      2  0.736744     yiemrdae\n",
       "1408      3  0.278040        young\n",
       "1408      5  0.556080        young\n",
       "1410      2  0.916782          yrs\n",
       "1417      1  0.987401    zolgensma\n",
       "\n",
       "[332 rows x 3 columns], R=30, lambda_step=0.01, plot_opts={'xlab': 'PC1', 'ylab': 'PC2'}, topic_order=[2, 1, 3, 4, 5])"
      ]
     },
     "execution_count": 20,
     "metadata": {},
     "output_type": "execute_result"
    }
   ],
   "source": [
    "# # Visulaiise the topic keywords\n",
    "pyLDAvis.enable_notebook()\n",
    "panel = pyLDAvis.sklearn.prepare(lda_model, data_vectorized, vectorizer, mds='tsne')\n",
    "panel"
   ]
  },
  {
   "cell_type": "code",
   "execution_count": 21,
   "metadata": {},
   "outputs": [],
   "source": [
    "pyLDAvis.save_html(panel, 'lda.html')"
   ]
  },
  {
   "cell_type": "code",
   "execution_count": 22,
   "metadata": {},
   "outputs": [
    {
     "data": {
      "text/html": [
       "<div>\n",
       "<style scoped>\n",
       "    .dataframe tbody tr th:only-of-type {\n",
       "        vertical-align: middle;\n",
       "    }\n",
       "\n",
       "    .dataframe tbody tr th {\n",
       "        vertical-align: top;\n",
       "    }\n",
       "\n",
       "    .dataframe thead th {\n",
       "        text-align: right;\n",
       "    }\n",
       "</style>\n",
       "<table border=\"1\" class=\"dataframe\">\n",
       "  <thead>\n",
       "    <tr style=\"text-align: right;\">\n",
       "      <th></th>\n",
       "      <th>Word 0</th>\n",
       "      <th>Word 1</th>\n",
       "      <th>Word 2</th>\n",
       "      <th>Word 3</th>\n",
       "      <th>Word 4</th>\n",
       "      <th>Word 5</th>\n",
       "      <th>Word 6</th>\n",
       "      <th>Word 7</th>\n",
       "      <th>Word 8</th>\n",
       "      <th>Word 9</th>\n",
       "      <th>Word 10</th>\n",
       "      <th>Word 11</th>\n",
       "      <th>Word 12</th>\n",
       "      <th>Word 13</th>\n",
       "      <th>Word 14</th>\n",
       "      <th>Word 15</th>\n",
       "      <th>Word 16</th>\n",
       "      <th>Word 17</th>\n",
       "      <th>Word 18</th>\n",
       "      <th>Word 19</th>\n",
       "    </tr>\n",
       "  </thead>\n",
       "  <tbody>\n",
       "    <tr>\n",
       "      <th>Topic 0</th>\n",
       "      <td>life</td>\n",
       "      <td>old</td>\n",
       "      <td>year</td>\n",
       "      <td>india</td>\n",
       "      <td>kid</td>\n",
       "      <td>condition</td>\n",
       "      <td>degenerative</td>\n",
       "      <td>shot</td>\n",
       "      <td>shout</td>\n",
       "      <td>month</td>\n",
       "      <td>dear</td>\n",
       "      <td>sikdxot</td>\n",
       "      <td>fbyisqr</td>\n",
       "      <td>usd</td>\n",
       "      <td>wdfncbat</td>\n",
       "      <td>mam</td>\n",
       "      <td>battle</td>\n",
       "      <td>cviluxu</td>\n",
       "      <td>expensive</td>\n",
       "      <td>dkqwhjkgfe</td>\n",
       "    </tr>\n",
       "    <tr>\n",
       "      <th>Topic 1</th>\n",
       "      <td>zolgensma</td>\n",
       "      <td>raise</td>\n",
       "      <td>old</td>\n",
       "      <td>little</td>\n",
       "      <td>extend</td>\n",
       "      <td>treat</td>\n",
       "      <td>save</td>\n",
       "      <td>head</td>\n",
       "      <td>hyderabad</td>\n",
       "      <td>amplify</td>\n",
       "      <td>hospital</td>\n",
       "      <td>rainbow</td>\n",
       "      <td>day</td>\n",
       "      <td>share</td>\n",
       "      <td>drug</td>\n",
       "      <td>fight</td>\n",
       "      <td>evn</td>\n",
       "      <td>life</td>\n",
       "      <td>rare</td>\n",
       "      <td>month</td>\n",
       "    </tr>\n",
       "    <tr>\n",
       "      <th>Topic 2</th>\n",
       "      <td>suffer</td>\n",
       "      <td>child</td>\n",
       "      <td>genetic</td>\n",
       "      <td>injection</td>\n",
       "      <td>month</td>\n",
       "      <td>noor</td>\n",
       "      <td>treatment</td>\n",
       "      <td>bikaner</td>\n",
       "      <td>old</td>\n",
       "      <td>infant</td>\n",
       "      <td>rare</td>\n",
       "      <td>require</td>\n",
       "      <td>parent</td>\n",
       "      <td>medical</td>\n",
       "      <td>muscle</td>\n",
       "      <td>birth</td>\n",
       "      <td>lead</td>\n",
       "      <td>fatima</td>\n",
       "      <td>condition</td>\n",
       "      <td>crore</td>\n",
       "    </tr>\n",
       "    <tr>\n",
       "      <th>Topic 3</th>\n",
       "      <td>type</td>\n",
       "      <td>child</td>\n",
       "      <td>andamp</td>\n",
       "      <td>exoskeleton</td>\n",
       "      <td>csic</td>\n",
       "      <td>patient</td>\n",
       "      <td>kit</td>\n",
       "      <td>therapy</td>\n",
       "      <td>research</td>\n",
       "      <td>know</td>\n",
       "      <td>new</td>\n",
       "      <td>accurately</td>\n",
       "      <td>identify</td>\n",
       "      <td>price</td>\n",
       "      <td>expert</td>\n",
       "      <td>learn</td>\n",
       "      <td>music</td>\n",
       "      <td>affect</td>\n",
       "      <td>walk</td>\n",
       "      <td>live</td>\n",
       "    </tr>\n",
       "    <tr>\n",
       "      <th>Topic 4</th>\n",
       "      <td>disease</td>\n",
       "      <td>therapy</td>\n",
       "      <td>type</td>\n",
       "      <td>cure</td>\n",
       "      <td>treatment</td>\n",
       "      <td>share</td>\n",
       "      <td>reach</td>\n",
       "      <td>muhammedalisma</td>\n",
       "      <td>deserve</td>\n",
       "      <td>time</td>\n",
       "      <td>gene</td>\n",
       "      <td>baby</td>\n",
       "      <td>girl</td>\n",
       "      <td>create</td>\n",
       "      <td>live</td>\n",
       "      <td>heart</td>\n",
       "      <td>post</td>\n",
       "      <td>thousand</td>\n",
       "      <td>effect</td>\n",
       "      <td>butterfly</td>\n",
       "    </tr>\n",
       "  </tbody>\n",
       "</table>\n",
       "</div>"
      ],
      "text/plain": [
       "            Word 0   Word 1   Word 2       Word 3     Word 4     Word 5  \\\n",
       "Topic 0       life      old     year        india        kid  condition   \n",
       "Topic 1  zolgensma    raise      old       little     extend      treat   \n",
       "Topic 2     suffer    child  genetic    injection      month       noor   \n",
       "Topic 3       type    child   andamp  exoskeleton       csic    patient   \n",
       "Topic 4    disease  therapy     type         cure  treatment      share   \n",
       "\n",
       "               Word 6          Word 7     Word 8   Word 9   Word 10  \\\n",
       "Topic 0  degenerative            shot      shout    month      dear   \n",
       "Topic 1          save            head  hyderabad  amplify  hospital   \n",
       "Topic 2     treatment         bikaner        old   infant      rare   \n",
       "Topic 3           kit         therapy   research     know       new   \n",
       "Topic 4         reach  muhammedalisma    deserve     time      gene   \n",
       "\n",
       "            Word 11   Word 12  Word 13   Word 14 Word 15 Word 16   Word 17  \\\n",
       "Topic 0     sikdxot   fbyisqr      usd  wdfncbat     mam  battle   cviluxu   \n",
       "Topic 1     rainbow       day    share      drug   fight     evn      life   \n",
       "Topic 2     require    parent  medical    muscle   birth    lead    fatima   \n",
       "Topic 3  accurately  identify    price    expert   learn   music    affect   \n",
       "Topic 4        baby      girl   create      live   heart    post  thousand   \n",
       "\n",
       "           Word 18     Word 19  \n",
       "Topic 0  expensive  dkqwhjkgfe  \n",
       "Topic 1       rare       month  \n",
       "Topic 2  condition       crore  \n",
       "Topic 3       walk        live  \n",
       "Topic 4     effect   butterfly  "
      ]
     },
     "execution_count": 22,
     "metadata": {},
     "output_type": "execute_result"
    }
   ],
   "source": [
    "def show_topics(vectorizer=vectorizer, lda_model=lda_model, n_words=20):\n",
    "    keywords = np.array(vectorizer.get_feature_names())\n",
    "    topic_keywords = []\n",
    "    for topic_weights in lda_model.components_:\n",
    "        top_keyword_locs = (-topic_weights).argsort()[:n_words]\n",
    "        topic_keywords.append(keywords.take(top_keyword_locs))\n",
    "    return topic_keywords\n",
    "\n",
    "topic_keywords = show_topics(vectorizer=vectorizer, lda_model=lda_model, n_words=20)\n",
    "\n",
    "df_topic_keywords = pd.DataFrame(topic_keywords)\n",
    "df_topic_keywords.columns = ['Word '+str(i) for i in range(df_topic_keywords.shape[1])]\n",
    "df_topic_keywords.index = ['Topic '+str(i) for i in range(df_topic_keywords.shape[0])]\n",
    "df_topic_keywords"
   ]
  },
  {
   "cell_type": "code",
   "execution_count": null,
   "metadata": {},
   "outputs": [],
   "source": []
  }
 ],
 "metadata": {
  "kernelspec": {
   "display_name": "Python 3",
   "language": "python",
   "name": "python3"
  },
  "language_info": {
   "codemirror_mode": {
    "name": "ipython",
    "version": 3
   },
   "file_extension": ".py",
   "mimetype": "text/x-python",
   "name": "python",
   "nbconvert_exporter": "python",
   "pygments_lexer": "ipython3",
   "version": "3.7.3"
  }
 },
 "nbformat": 4,
 "nbformat_minor": 4
}
